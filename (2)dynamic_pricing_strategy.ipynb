{
  "nbformat": 4,
  "nbformat_minor": 0,
  "metadata": {
    "colab": {
      "provenance": []
    },
    "kernelspec": {
      "name": "python3",
      "display_name": "Python 3"
    },
    "language_info": {
      "name": "python"
    }
  },
  "cells": [
    {
      "cell_type": "markdown",
      "source": [
        "#**DYNAMIC PRICING STATEGY**\n",
        "\n",
        "\n",
        "DATASET=['https://www.kaggle.com/datasets/arashnic/dynamic-pricing-dataset?select=dynamic_pricing.csv']\n",
        "\n",
        "\n",
        "---\n",
        "\n"
      ],
      "metadata": {
        "id": "uGwg-7L4HynQ"
      }
    },
    {
      "cell_type": "markdown",
      "source": [
        "#**Introduction:**\n",
        "In this project, we aim to optimize ride-sharing fares through dynamic pricing using data-driven techniques. Our goal is to develop a predictive model that can dynamically adjust prices based on real-time market conditions. We'll analyze a dataset containing historical ride data and build a model to predict optimal fares for rides based on various factors.\n",
        "\n",
        "#**Dataset Review:**\n",
        "\n",
        "The dataset includes features such as number of riders, number of drivers, location category, customer loyalty status, number of past rides, average ratings, time of booking, vehicle type, expected ride duration, and historical cost of the rides.\n",
        "\n",
        "We conducted exploratory data analysis (EDA) to understand the distribution of features, identify patterns, and preprocess the data for modeling.\n",
        "\n",
        "The dataset was split into training and testing sets for model evaluation."
      ],
      "metadata": {
        "id": "ciUQkhe6HypU"
      }
    },
    {
      "cell_type": "markdown",
      "source": [
        "**IMPORTING LIBRARIES**"
      ],
      "metadata": {
        "id": "Gp68l9YDd2r_"
      }
    },
    {
      "cell_type": "code",
      "source": [
        "import pandas as pd\n",
        "import numpy as np\n",
        "import seaborn as sns\n",
        "import matplotlib.pyplot as plt\n",
        "import plotly.express as px\n",
        "import plotly.graph_objects as go"
      ],
      "metadata": {
        "id": "CqDxrf6JHzh0"
      },
      "execution_count": 57,
      "outputs": []
    },
    {
      "cell_type": "code",
      "source": [
        "data=pd.read_csv('/content/dynamic_pricing.csv')\n",
        "data"
      ],
      "metadata": {
        "colab": {
          "base_uri": "https://localhost:8080/",
          "height": 444
        },
        "id": "5Y0csv0uIgsw",
        "outputId": "c99fce7c-dd54-4abd-9c16-5e8571634229"
      },
      "execution_count": 58,
      "outputs": [
        {
          "output_type": "execute_result",
          "data": {
            "text/plain": [
              "     Number_of_Riders  Number_of_Drivers Location_Category  \\\n",
              "0                  90                 45             Urban   \n",
              "1                  58                 39          Suburban   \n",
              "2                  42                 31             Rural   \n",
              "3                  89                 28             Rural   \n",
              "4                  78                 22             Rural   \n",
              "..                ...                ...               ...   \n",
              "995                33                 23             Urban   \n",
              "996                84                 29             Urban   \n",
              "997                44                  6          Suburban   \n",
              "998                53                 27          Suburban   \n",
              "999                78                 63             Rural   \n",
              "\n",
              "    Customer_Loyalty_Status  Number_of_Past_Rides  Average_Ratings  \\\n",
              "0                    Silver                    13             4.47   \n",
              "1                    Silver                    72             4.06   \n",
              "2                    Silver                     0             3.99   \n",
              "3                   Regular                    67             4.31   \n",
              "4                   Regular                    74             3.77   \n",
              "..                      ...                   ...              ...   \n",
              "995                    Gold                    24             4.21   \n",
              "996                 Regular                    92             4.55   \n",
              "997                    Gold                    80             4.13   \n",
              "998                 Regular                    78             3.63   \n",
              "999                    Gold                    14             4.21   \n",
              "\n",
              "    Time_of_Booking Vehicle_Type  Expected_Ride_Duration  \\\n",
              "0             Night      Premium                      90   \n",
              "1           Evening      Economy                      43   \n",
              "2         Afternoon      Premium                      76   \n",
              "3         Afternoon      Premium                     134   \n",
              "4         Afternoon      Economy                     149   \n",
              "..              ...          ...                     ...   \n",
              "995         Morning      Premium                      11   \n",
              "996         Morning      Premium                      94   \n",
              "997           Night      Premium                      40   \n",
              "998           Night      Premium                      58   \n",
              "999       Afternoon      Economy                     147   \n",
              "\n",
              "     Historical_Cost_of_Ride  \n",
              "0                 284.257273  \n",
              "1                 173.874753  \n",
              "2                 329.795469  \n",
              "3                 470.201232  \n",
              "4                 579.681422  \n",
              "..                       ...  \n",
              "995                91.389526  \n",
              "996               424.155987  \n",
              "997               157.364830  \n",
              "998               279.095048  \n",
              "999               655.065106  \n",
              "\n",
              "[1000 rows x 10 columns]"
            ],
            "text/html": [
              "\n",
              "  <div id=\"df-ba6fd51c-00e2-495e-80e5-3144f9ba0e0e\" class=\"colab-df-container\">\n",
              "    <div>\n",
              "<style scoped>\n",
              "    .dataframe tbody tr th:only-of-type {\n",
              "        vertical-align: middle;\n",
              "    }\n",
              "\n",
              "    .dataframe tbody tr th {\n",
              "        vertical-align: top;\n",
              "    }\n",
              "\n",
              "    .dataframe thead th {\n",
              "        text-align: right;\n",
              "    }\n",
              "</style>\n",
              "<table border=\"1\" class=\"dataframe\">\n",
              "  <thead>\n",
              "    <tr style=\"text-align: right;\">\n",
              "      <th></th>\n",
              "      <th>Number_of_Riders</th>\n",
              "      <th>Number_of_Drivers</th>\n",
              "      <th>Location_Category</th>\n",
              "      <th>Customer_Loyalty_Status</th>\n",
              "      <th>Number_of_Past_Rides</th>\n",
              "      <th>Average_Ratings</th>\n",
              "      <th>Time_of_Booking</th>\n",
              "      <th>Vehicle_Type</th>\n",
              "      <th>Expected_Ride_Duration</th>\n",
              "      <th>Historical_Cost_of_Ride</th>\n",
              "    </tr>\n",
              "  </thead>\n",
              "  <tbody>\n",
              "    <tr>\n",
              "      <th>0</th>\n",
              "      <td>90</td>\n",
              "      <td>45</td>\n",
              "      <td>Urban</td>\n",
              "      <td>Silver</td>\n",
              "      <td>13</td>\n",
              "      <td>4.47</td>\n",
              "      <td>Night</td>\n",
              "      <td>Premium</td>\n",
              "      <td>90</td>\n",
              "      <td>284.257273</td>\n",
              "    </tr>\n",
              "    <tr>\n",
              "      <th>1</th>\n",
              "      <td>58</td>\n",
              "      <td>39</td>\n",
              "      <td>Suburban</td>\n",
              "      <td>Silver</td>\n",
              "      <td>72</td>\n",
              "      <td>4.06</td>\n",
              "      <td>Evening</td>\n",
              "      <td>Economy</td>\n",
              "      <td>43</td>\n",
              "      <td>173.874753</td>\n",
              "    </tr>\n",
              "    <tr>\n",
              "      <th>2</th>\n",
              "      <td>42</td>\n",
              "      <td>31</td>\n",
              "      <td>Rural</td>\n",
              "      <td>Silver</td>\n",
              "      <td>0</td>\n",
              "      <td>3.99</td>\n",
              "      <td>Afternoon</td>\n",
              "      <td>Premium</td>\n",
              "      <td>76</td>\n",
              "      <td>329.795469</td>\n",
              "    </tr>\n",
              "    <tr>\n",
              "      <th>3</th>\n",
              "      <td>89</td>\n",
              "      <td>28</td>\n",
              "      <td>Rural</td>\n",
              "      <td>Regular</td>\n",
              "      <td>67</td>\n",
              "      <td>4.31</td>\n",
              "      <td>Afternoon</td>\n",
              "      <td>Premium</td>\n",
              "      <td>134</td>\n",
              "      <td>470.201232</td>\n",
              "    </tr>\n",
              "    <tr>\n",
              "      <th>4</th>\n",
              "      <td>78</td>\n",
              "      <td>22</td>\n",
              "      <td>Rural</td>\n",
              "      <td>Regular</td>\n",
              "      <td>74</td>\n",
              "      <td>3.77</td>\n",
              "      <td>Afternoon</td>\n",
              "      <td>Economy</td>\n",
              "      <td>149</td>\n",
              "      <td>579.681422</td>\n",
              "    </tr>\n",
              "    <tr>\n",
              "      <th>...</th>\n",
              "      <td>...</td>\n",
              "      <td>...</td>\n",
              "      <td>...</td>\n",
              "      <td>...</td>\n",
              "      <td>...</td>\n",
              "      <td>...</td>\n",
              "      <td>...</td>\n",
              "      <td>...</td>\n",
              "      <td>...</td>\n",
              "      <td>...</td>\n",
              "    </tr>\n",
              "    <tr>\n",
              "      <th>995</th>\n",
              "      <td>33</td>\n",
              "      <td>23</td>\n",
              "      <td>Urban</td>\n",
              "      <td>Gold</td>\n",
              "      <td>24</td>\n",
              "      <td>4.21</td>\n",
              "      <td>Morning</td>\n",
              "      <td>Premium</td>\n",
              "      <td>11</td>\n",
              "      <td>91.389526</td>\n",
              "    </tr>\n",
              "    <tr>\n",
              "      <th>996</th>\n",
              "      <td>84</td>\n",
              "      <td>29</td>\n",
              "      <td>Urban</td>\n",
              "      <td>Regular</td>\n",
              "      <td>92</td>\n",
              "      <td>4.55</td>\n",
              "      <td>Morning</td>\n",
              "      <td>Premium</td>\n",
              "      <td>94</td>\n",
              "      <td>424.155987</td>\n",
              "    </tr>\n",
              "    <tr>\n",
              "      <th>997</th>\n",
              "      <td>44</td>\n",
              "      <td>6</td>\n",
              "      <td>Suburban</td>\n",
              "      <td>Gold</td>\n",
              "      <td>80</td>\n",
              "      <td>4.13</td>\n",
              "      <td>Night</td>\n",
              "      <td>Premium</td>\n",
              "      <td>40</td>\n",
              "      <td>157.364830</td>\n",
              "    </tr>\n",
              "    <tr>\n",
              "      <th>998</th>\n",
              "      <td>53</td>\n",
              "      <td>27</td>\n",
              "      <td>Suburban</td>\n",
              "      <td>Regular</td>\n",
              "      <td>78</td>\n",
              "      <td>3.63</td>\n",
              "      <td>Night</td>\n",
              "      <td>Premium</td>\n",
              "      <td>58</td>\n",
              "      <td>279.095048</td>\n",
              "    </tr>\n",
              "    <tr>\n",
              "      <th>999</th>\n",
              "      <td>78</td>\n",
              "      <td>63</td>\n",
              "      <td>Rural</td>\n",
              "      <td>Gold</td>\n",
              "      <td>14</td>\n",
              "      <td>4.21</td>\n",
              "      <td>Afternoon</td>\n",
              "      <td>Economy</td>\n",
              "      <td>147</td>\n",
              "      <td>655.065106</td>\n",
              "    </tr>\n",
              "  </tbody>\n",
              "</table>\n",
              "<p>1000 rows × 10 columns</p>\n",
              "</div>\n",
              "    <div class=\"colab-df-buttons\">\n",
              "\n",
              "  <div class=\"colab-df-container\">\n",
              "    <button class=\"colab-df-convert\" onclick=\"convertToInteractive('df-ba6fd51c-00e2-495e-80e5-3144f9ba0e0e')\"\n",
              "            title=\"Convert this dataframe to an interactive table.\"\n",
              "            style=\"display:none;\">\n",
              "\n",
              "  <svg xmlns=\"http://www.w3.org/2000/svg\" height=\"24px\" viewBox=\"0 -960 960 960\">\n",
              "    <path d=\"M120-120v-720h720v720H120Zm60-500h600v-160H180v160Zm220 220h160v-160H400v160Zm0 220h160v-160H400v160ZM180-400h160v-160H180v160Zm440 0h160v-160H620v160ZM180-180h160v-160H180v160Zm440 0h160v-160H620v160Z\"/>\n",
              "  </svg>\n",
              "    </button>\n",
              "\n",
              "  <style>\n",
              "    .colab-df-container {\n",
              "      display:flex;\n",
              "      gap: 12px;\n",
              "    }\n",
              "\n",
              "    .colab-df-convert {\n",
              "      background-color: #E8F0FE;\n",
              "      border: none;\n",
              "      border-radius: 50%;\n",
              "      cursor: pointer;\n",
              "      display: none;\n",
              "      fill: #1967D2;\n",
              "      height: 32px;\n",
              "      padding: 0 0 0 0;\n",
              "      width: 32px;\n",
              "    }\n",
              "\n",
              "    .colab-df-convert:hover {\n",
              "      background-color: #E2EBFA;\n",
              "      box-shadow: 0px 1px 2px rgba(60, 64, 67, 0.3), 0px 1px 3px 1px rgba(60, 64, 67, 0.15);\n",
              "      fill: #174EA6;\n",
              "    }\n",
              "\n",
              "    .colab-df-buttons div {\n",
              "      margin-bottom: 4px;\n",
              "    }\n",
              "\n",
              "    [theme=dark] .colab-df-convert {\n",
              "      background-color: #3B4455;\n",
              "      fill: #D2E3FC;\n",
              "    }\n",
              "\n",
              "    [theme=dark] .colab-df-convert:hover {\n",
              "      background-color: #434B5C;\n",
              "      box-shadow: 0px 1px 3px 1px rgba(0, 0, 0, 0.15);\n",
              "      filter: drop-shadow(0px 1px 2px rgba(0, 0, 0, 0.3));\n",
              "      fill: #FFFFFF;\n",
              "    }\n",
              "  </style>\n",
              "\n",
              "    <script>\n",
              "      const buttonEl =\n",
              "        document.querySelector('#df-ba6fd51c-00e2-495e-80e5-3144f9ba0e0e button.colab-df-convert');\n",
              "      buttonEl.style.display =\n",
              "        google.colab.kernel.accessAllowed ? 'block' : 'none';\n",
              "\n",
              "      async function convertToInteractive(key) {\n",
              "        const element = document.querySelector('#df-ba6fd51c-00e2-495e-80e5-3144f9ba0e0e');\n",
              "        const dataTable =\n",
              "          await google.colab.kernel.invokeFunction('convertToInteractive',\n",
              "                                                    [key], {});\n",
              "        if (!dataTable) return;\n",
              "\n",
              "        const docLinkHtml = 'Like what you see? Visit the ' +\n",
              "          '<a target=\"_blank\" href=https://colab.research.google.com/notebooks/data_table.ipynb>data table notebook</a>'\n",
              "          + ' to learn more about interactive tables.';\n",
              "        element.innerHTML = '';\n",
              "        dataTable['output_type'] = 'display_data';\n",
              "        await google.colab.output.renderOutput(dataTable, element);\n",
              "        const docLink = document.createElement('div');\n",
              "        docLink.innerHTML = docLinkHtml;\n",
              "        element.appendChild(docLink);\n",
              "      }\n",
              "    </script>\n",
              "  </div>\n",
              "\n",
              "\n",
              "<div id=\"df-e410ab06-867f-4f93-9f20-fceac0c9dc9c\">\n",
              "  <button class=\"colab-df-quickchart\" onclick=\"quickchart('df-e410ab06-867f-4f93-9f20-fceac0c9dc9c')\"\n",
              "            title=\"Suggest charts\"\n",
              "            style=\"display:none;\">\n",
              "\n",
              "<svg xmlns=\"http://www.w3.org/2000/svg\" height=\"24px\"viewBox=\"0 0 24 24\"\n",
              "     width=\"24px\">\n",
              "    <g>\n",
              "        <path d=\"M19 3H5c-1.1 0-2 .9-2 2v14c0 1.1.9 2 2 2h14c1.1 0 2-.9 2-2V5c0-1.1-.9-2-2-2zM9 17H7v-7h2v7zm4 0h-2V7h2v10zm4 0h-2v-4h2v4z\"/>\n",
              "    </g>\n",
              "</svg>\n",
              "  </button>\n",
              "\n",
              "<style>\n",
              "  .colab-df-quickchart {\n",
              "      --bg-color: #E8F0FE;\n",
              "      --fill-color: #1967D2;\n",
              "      --hover-bg-color: #E2EBFA;\n",
              "      --hover-fill-color: #174EA6;\n",
              "      --disabled-fill-color: #AAA;\n",
              "      --disabled-bg-color: #DDD;\n",
              "  }\n",
              "\n",
              "  [theme=dark] .colab-df-quickchart {\n",
              "      --bg-color: #3B4455;\n",
              "      --fill-color: #D2E3FC;\n",
              "      --hover-bg-color: #434B5C;\n",
              "      --hover-fill-color: #FFFFFF;\n",
              "      --disabled-bg-color: #3B4455;\n",
              "      --disabled-fill-color: #666;\n",
              "  }\n",
              "\n",
              "  .colab-df-quickchart {\n",
              "    background-color: var(--bg-color);\n",
              "    border: none;\n",
              "    border-radius: 50%;\n",
              "    cursor: pointer;\n",
              "    display: none;\n",
              "    fill: var(--fill-color);\n",
              "    height: 32px;\n",
              "    padding: 0;\n",
              "    width: 32px;\n",
              "  }\n",
              "\n",
              "  .colab-df-quickchart:hover {\n",
              "    background-color: var(--hover-bg-color);\n",
              "    box-shadow: 0 1px 2px rgba(60, 64, 67, 0.3), 0 1px 3px 1px rgba(60, 64, 67, 0.15);\n",
              "    fill: var(--button-hover-fill-color);\n",
              "  }\n",
              "\n",
              "  .colab-df-quickchart-complete:disabled,\n",
              "  .colab-df-quickchart-complete:disabled:hover {\n",
              "    background-color: var(--disabled-bg-color);\n",
              "    fill: var(--disabled-fill-color);\n",
              "    box-shadow: none;\n",
              "  }\n",
              "\n",
              "  .colab-df-spinner {\n",
              "    border: 2px solid var(--fill-color);\n",
              "    border-color: transparent;\n",
              "    border-bottom-color: var(--fill-color);\n",
              "    animation:\n",
              "      spin 1s steps(1) infinite;\n",
              "  }\n",
              "\n",
              "  @keyframes spin {\n",
              "    0% {\n",
              "      border-color: transparent;\n",
              "      border-bottom-color: var(--fill-color);\n",
              "      border-left-color: var(--fill-color);\n",
              "    }\n",
              "    20% {\n",
              "      border-color: transparent;\n",
              "      border-left-color: var(--fill-color);\n",
              "      border-top-color: var(--fill-color);\n",
              "    }\n",
              "    30% {\n",
              "      border-color: transparent;\n",
              "      border-left-color: var(--fill-color);\n",
              "      border-top-color: var(--fill-color);\n",
              "      border-right-color: var(--fill-color);\n",
              "    }\n",
              "    40% {\n",
              "      border-color: transparent;\n",
              "      border-right-color: var(--fill-color);\n",
              "      border-top-color: var(--fill-color);\n",
              "    }\n",
              "    60% {\n",
              "      border-color: transparent;\n",
              "      border-right-color: var(--fill-color);\n",
              "    }\n",
              "    80% {\n",
              "      border-color: transparent;\n",
              "      border-right-color: var(--fill-color);\n",
              "      border-bottom-color: var(--fill-color);\n",
              "    }\n",
              "    90% {\n",
              "      border-color: transparent;\n",
              "      border-bottom-color: var(--fill-color);\n",
              "    }\n",
              "  }\n",
              "</style>\n",
              "\n",
              "  <script>\n",
              "    async function quickchart(key) {\n",
              "      const quickchartButtonEl =\n",
              "        document.querySelector('#' + key + ' button');\n",
              "      quickchartButtonEl.disabled = true;  // To prevent multiple clicks.\n",
              "      quickchartButtonEl.classList.add('colab-df-spinner');\n",
              "      try {\n",
              "        const charts = await google.colab.kernel.invokeFunction(\n",
              "            'suggestCharts', [key], {});\n",
              "      } catch (error) {\n",
              "        console.error('Error during call to suggestCharts:', error);\n",
              "      }\n",
              "      quickchartButtonEl.classList.remove('colab-df-spinner');\n",
              "      quickchartButtonEl.classList.add('colab-df-quickchart-complete');\n",
              "    }\n",
              "    (() => {\n",
              "      let quickchartButtonEl =\n",
              "        document.querySelector('#df-e410ab06-867f-4f93-9f20-fceac0c9dc9c button');\n",
              "      quickchartButtonEl.style.display =\n",
              "        google.colab.kernel.accessAllowed ? 'block' : 'none';\n",
              "    })();\n",
              "  </script>\n",
              "</div>\n",
              "\n",
              "  <div id=\"id_49db4d97-378d-4177-bbef-cddfecde8ea1\">\n",
              "    <style>\n",
              "      .colab-df-generate {\n",
              "        background-color: #E8F0FE;\n",
              "        border: none;\n",
              "        border-radius: 50%;\n",
              "        cursor: pointer;\n",
              "        display: none;\n",
              "        fill: #1967D2;\n",
              "        height: 32px;\n",
              "        padding: 0 0 0 0;\n",
              "        width: 32px;\n",
              "      }\n",
              "\n",
              "      .colab-df-generate:hover {\n",
              "        background-color: #E2EBFA;\n",
              "        box-shadow: 0px 1px 2px rgba(60, 64, 67, 0.3), 0px 1px 3px 1px rgba(60, 64, 67, 0.15);\n",
              "        fill: #174EA6;\n",
              "      }\n",
              "\n",
              "      [theme=dark] .colab-df-generate {\n",
              "        background-color: #3B4455;\n",
              "        fill: #D2E3FC;\n",
              "      }\n",
              "\n",
              "      [theme=dark] .colab-df-generate:hover {\n",
              "        background-color: #434B5C;\n",
              "        box-shadow: 0px 1px 3px 1px rgba(0, 0, 0, 0.15);\n",
              "        filter: drop-shadow(0px 1px 2px rgba(0, 0, 0, 0.3));\n",
              "        fill: #FFFFFF;\n",
              "      }\n",
              "    </style>\n",
              "    <button class=\"colab-df-generate\" onclick=\"generateWithVariable('data')\"\n",
              "            title=\"Generate code using this dataframe.\"\n",
              "            style=\"display:none;\">\n",
              "\n",
              "  <svg xmlns=\"http://www.w3.org/2000/svg\" height=\"24px\"viewBox=\"0 0 24 24\"\n",
              "       width=\"24px\">\n",
              "    <path d=\"M7,19H8.4L18.45,9,17,7.55,7,17.6ZM5,21V16.75L18.45,3.32a2,2,0,0,1,2.83,0l1.4,1.43a1.91,1.91,0,0,1,.58,1.4,1.91,1.91,0,0,1-.58,1.4L9.25,21ZM18.45,9,17,7.55Zm-12,3A5.31,5.31,0,0,0,4.9,8.1,5.31,5.31,0,0,0,1,6.5,5.31,5.31,0,0,0,4.9,4.9,5.31,5.31,0,0,0,6.5,1,5.31,5.31,0,0,0,8.1,4.9,5.31,5.31,0,0,0,12,6.5,5.46,5.46,0,0,0,6.5,12Z\"/>\n",
              "  </svg>\n",
              "    </button>\n",
              "    <script>\n",
              "      (() => {\n",
              "      const buttonEl =\n",
              "        document.querySelector('#id_49db4d97-378d-4177-bbef-cddfecde8ea1 button.colab-df-generate');\n",
              "      buttonEl.style.display =\n",
              "        google.colab.kernel.accessAllowed ? 'block' : 'none';\n",
              "\n",
              "      buttonEl.onclick = () => {\n",
              "        google.colab.notebook.generateWithVariable('data');\n",
              "      }\n",
              "      })();\n",
              "    </script>\n",
              "  </div>\n",
              "\n",
              "    </div>\n",
              "  </div>\n"
            ],
            "application/vnd.google.colaboratory.intrinsic+json": {
              "type": "dataframe",
              "variable_name": "data",
              "summary": "{\n  \"name\": \"data\",\n  \"rows\": 1000,\n  \"fields\": [\n    {\n      \"column\": \"Number_of_Riders\",\n      \"properties\": {\n        \"dtype\": \"number\",\n        \"std\": 23,\n        \"min\": 20,\n        \"max\": 100,\n        \"num_unique_values\": 81,\n        \"samples\": [\n          68,\n          90,\n          48\n        ],\n        \"semantic_type\": \"\",\n        \"description\": \"\"\n      }\n    },\n    {\n      \"column\": \"Number_of_Drivers\",\n      \"properties\": {\n        \"dtype\": \"number\",\n        \"std\": 19,\n        \"min\": 5,\n        \"max\": 89,\n        \"num_unique_values\": 79,\n        \"samples\": [\n          55,\n          45,\n          9\n        ],\n        \"semantic_type\": \"\",\n        \"description\": \"\"\n      }\n    },\n    {\n      \"column\": \"Location_Category\",\n      \"properties\": {\n        \"dtype\": \"category\",\n        \"num_unique_values\": 3,\n        \"samples\": [\n          \"Urban\",\n          \"Suburban\",\n          \"Rural\"\n        ],\n        \"semantic_type\": \"\",\n        \"description\": \"\"\n      }\n    },\n    {\n      \"column\": \"Customer_Loyalty_Status\",\n      \"properties\": {\n        \"dtype\": \"category\",\n        \"num_unique_values\": 3,\n        \"samples\": [\n          \"Silver\",\n          \"Regular\",\n          \"Gold\"\n        ],\n        \"semantic_type\": \"\",\n        \"description\": \"\"\n      }\n    },\n    {\n      \"column\": \"Number_of_Past_Rides\",\n      \"properties\": {\n        \"dtype\": \"number\",\n        \"std\": 29,\n        \"min\": 0,\n        \"max\": 100,\n        \"num_unique_values\": 101,\n        \"samples\": [\n          42,\n          31,\n          90\n        ],\n        \"semantic_type\": \"\",\n        \"description\": \"\"\n      }\n    },\n    {\n      \"column\": \"Average_Ratings\",\n      \"properties\": {\n        \"dtype\": \"number\",\n        \"std\": 0.4357808813802833,\n        \"min\": 3.5,\n        \"max\": 5.0,\n        \"num_unique_values\": 151,\n        \"samples\": [\n          4.26,\n          4.82,\n          4.91\n        ],\n        \"semantic_type\": \"\",\n        \"description\": \"\"\n      }\n    },\n    {\n      \"column\": \"Time_of_Booking\",\n      \"properties\": {\n        \"dtype\": \"category\",\n        \"num_unique_values\": 4,\n        \"samples\": [\n          \"Evening\",\n          \"Morning\",\n          \"Night\"\n        ],\n        \"semantic_type\": \"\",\n        \"description\": \"\"\n      }\n    },\n    {\n      \"column\": \"Vehicle_Type\",\n      \"properties\": {\n        \"dtype\": \"category\",\n        \"num_unique_values\": 2,\n        \"samples\": [\n          \"Economy\",\n          \"Premium\"\n        ],\n        \"semantic_type\": \"\",\n        \"description\": \"\"\n      }\n    },\n    {\n      \"column\": \"Expected_Ride_Duration\",\n      \"properties\": {\n        \"dtype\": \"number\",\n        \"std\": 49,\n        \"min\": 10,\n        \"max\": 180,\n        \"num_unique_values\": 171,\n        \"samples\": [\n          145,\n          28\n        ],\n        \"semantic_type\": \"\",\n        \"description\": \"\"\n      }\n    },\n    {\n      \"column\": \"Historical_Cost_of_Ride\",\n      \"properties\": {\n        \"dtype\": \"number\",\n        \"std\": 187.1587562201799,\n        \"min\": 25.993449448411635,\n        \"max\": 836.1164185613576,\n        \"num_unique_values\": 1000,\n        \"samples\": [\n          470.2690237026412,\n          286.409294385432\n        ],\n        \"semantic_type\": \"\",\n        \"description\": \"\"\n      }\n    }\n  ]\n}"
            }
          },
          "metadata": {},
          "execution_count": 58
        }
      ]
    },
    {
      "cell_type": "code",
      "source": [
        "data.info()"
      ],
      "metadata": {
        "colab": {
          "base_uri": "https://localhost:8080/"
        },
        "id": "QgE3qCmwI160",
        "outputId": "c21706f9-aaa1-4a4a-cb30-a629c7a2df02"
      },
      "execution_count": 59,
      "outputs": [
        {
          "output_type": "stream",
          "name": "stdout",
          "text": [
            "<class 'pandas.core.frame.DataFrame'>\n",
            "RangeIndex: 1000 entries, 0 to 999\n",
            "Data columns (total 10 columns):\n",
            " #   Column                   Non-Null Count  Dtype  \n",
            "---  ------                   --------------  -----  \n",
            " 0   Number_of_Riders         1000 non-null   int64  \n",
            " 1   Number_of_Drivers        1000 non-null   int64  \n",
            " 2   Location_Category        1000 non-null   object \n",
            " 3   Customer_Loyalty_Status  1000 non-null   object \n",
            " 4   Number_of_Past_Rides     1000 non-null   int64  \n",
            " 5   Average_Ratings          1000 non-null   float64\n",
            " 6   Time_of_Booking          1000 non-null   object \n",
            " 7   Vehicle_Type             1000 non-null   object \n",
            " 8   Expected_Ride_Duration   1000 non-null   int64  \n",
            " 9   Historical_Cost_of_Ride  1000 non-null   float64\n",
            "dtypes: float64(2), int64(4), object(4)\n",
            "memory usage: 78.2+ KB\n"
          ]
        }
      ]
    },
    {
      "cell_type": "code",
      "source": [
        "data.isnull().sum()"
      ],
      "metadata": {
        "colab": {
          "base_uri": "https://localhost:8080/"
        },
        "id": "08dKfvJPI4hW",
        "outputId": "6383cd08-5082-48d9-b6a3-f30673081682"
      },
      "execution_count": 60,
      "outputs": [
        {
          "output_type": "execute_result",
          "data": {
            "text/plain": [
              "Number_of_Riders           0\n",
              "Number_of_Drivers          0\n",
              "Location_Category          0\n",
              "Customer_Loyalty_Status    0\n",
              "Number_of_Past_Rides       0\n",
              "Average_Ratings            0\n",
              "Time_of_Booking            0\n",
              "Vehicle_Type               0\n",
              "Expected_Ride_Duration     0\n",
              "Historical_Cost_of_Ride    0\n",
              "dtype: int64"
            ]
          },
          "metadata": {},
          "execution_count": 60
        }
      ]
    },
    {
      "cell_type": "code",
      "source": [
        "data.describe()"
      ],
      "metadata": {
        "colab": {
          "base_uri": "https://localhost:8080/",
          "height": 301
        },
        "id": "fEX1KvlMJIyV",
        "outputId": "a6d10659-719c-41e2-aeb1-9ffdc170b9ba"
      },
      "execution_count": 61,
      "outputs": [
        {
          "output_type": "execute_result",
          "data": {
            "text/plain": [
              "       Number_of_Riders  Number_of_Drivers  Number_of_Past_Rides  \\\n",
              "count       1000.000000        1000.000000           1000.000000   \n",
              "mean          60.372000          27.076000             50.031000   \n",
              "std           23.701506          19.068346             29.313774   \n",
              "min           20.000000           5.000000              0.000000   \n",
              "25%           40.000000          11.000000             25.000000   \n",
              "50%           60.000000          22.000000             51.000000   \n",
              "75%           81.000000          38.000000             75.000000   \n",
              "max          100.000000          89.000000            100.000000   \n",
              "\n",
              "       Average_Ratings  Expected_Ride_Duration  Historical_Cost_of_Ride  \n",
              "count      1000.000000              1000.00000              1000.000000  \n",
              "mean          4.257220                99.58800               372.502623  \n",
              "std           0.435781                49.16545               187.158756  \n",
              "min           3.500000                10.00000                25.993449  \n",
              "25%           3.870000                59.75000               221.365202  \n",
              "50%           4.270000               102.00000               362.019426  \n",
              "75%           4.632500               143.00000               510.497504  \n",
              "max           5.000000               180.00000               836.116419  "
            ],
            "text/html": [
              "\n",
              "  <div id=\"df-6fa3830d-e5c3-43b2-afee-e13a0c914732\" class=\"colab-df-container\">\n",
              "    <div>\n",
              "<style scoped>\n",
              "    .dataframe tbody tr th:only-of-type {\n",
              "        vertical-align: middle;\n",
              "    }\n",
              "\n",
              "    .dataframe tbody tr th {\n",
              "        vertical-align: top;\n",
              "    }\n",
              "\n",
              "    .dataframe thead th {\n",
              "        text-align: right;\n",
              "    }\n",
              "</style>\n",
              "<table border=\"1\" class=\"dataframe\">\n",
              "  <thead>\n",
              "    <tr style=\"text-align: right;\">\n",
              "      <th></th>\n",
              "      <th>Number_of_Riders</th>\n",
              "      <th>Number_of_Drivers</th>\n",
              "      <th>Number_of_Past_Rides</th>\n",
              "      <th>Average_Ratings</th>\n",
              "      <th>Expected_Ride_Duration</th>\n",
              "      <th>Historical_Cost_of_Ride</th>\n",
              "    </tr>\n",
              "  </thead>\n",
              "  <tbody>\n",
              "    <tr>\n",
              "      <th>count</th>\n",
              "      <td>1000.000000</td>\n",
              "      <td>1000.000000</td>\n",
              "      <td>1000.000000</td>\n",
              "      <td>1000.000000</td>\n",
              "      <td>1000.00000</td>\n",
              "      <td>1000.000000</td>\n",
              "    </tr>\n",
              "    <tr>\n",
              "      <th>mean</th>\n",
              "      <td>60.372000</td>\n",
              "      <td>27.076000</td>\n",
              "      <td>50.031000</td>\n",
              "      <td>4.257220</td>\n",
              "      <td>99.58800</td>\n",
              "      <td>372.502623</td>\n",
              "    </tr>\n",
              "    <tr>\n",
              "      <th>std</th>\n",
              "      <td>23.701506</td>\n",
              "      <td>19.068346</td>\n",
              "      <td>29.313774</td>\n",
              "      <td>0.435781</td>\n",
              "      <td>49.16545</td>\n",
              "      <td>187.158756</td>\n",
              "    </tr>\n",
              "    <tr>\n",
              "      <th>min</th>\n",
              "      <td>20.000000</td>\n",
              "      <td>5.000000</td>\n",
              "      <td>0.000000</td>\n",
              "      <td>3.500000</td>\n",
              "      <td>10.00000</td>\n",
              "      <td>25.993449</td>\n",
              "    </tr>\n",
              "    <tr>\n",
              "      <th>25%</th>\n",
              "      <td>40.000000</td>\n",
              "      <td>11.000000</td>\n",
              "      <td>25.000000</td>\n",
              "      <td>3.870000</td>\n",
              "      <td>59.75000</td>\n",
              "      <td>221.365202</td>\n",
              "    </tr>\n",
              "    <tr>\n",
              "      <th>50%</th>\n",
              "      <td>60.000000</td>\n",
              "      <td>22.000000</td>\n",
              "      <td>51.000000</td>\n",
              "      <td>4.270000</td>\n",
              "      <td>102.00000</td>\n",
              "      <td>362.019426</td>\n",
              "    </tr>\n",
              "    <tr>\n",
              "      <th>75%</th>\n",
              "      <td>81.000000</td>\n",
              "      <td>38.000000</td>\n",
              "      <td>75.000000</td>\n",
              "      <td>4.632500</td>\n",
              "      <td>143.00000</td>\n",
              "      <td>510.497504</td>\n",
              "    </tr>\n",
              "    <tr>\n",
              "      <th>max</th>\n",
              "      <td>100.000000</td>\n",
              "      <td>89.000000</td>\n",
              "      <td>100.000000</td>\n",
              "      <td>5.000000</td>\n",
              "      <td>180.00000</td>\n",
              "      <td>836.116419</td>\n",
              "    </tr>\n",
              "  </tbody>\n",
              "</table>\n",
              "</div>\n",
              "    <div class=\"colab-df-buttons\">\n",
              "\n",
              "  <div class=\"colab-df-container\">\n",
              "    <button class=\"colab-df-convert\" onclick=\"convertToInteractive('df-6fa3830d-e5c3-43b2-afee-e13a0c914732')\"\n",
              "            title=\"Convert this dataframe to an interactive table.\"\n",
              "            style=\"display:none;\">\n",
              "\n",
              "  <svg xmlns=\"http://www.w3.org/2000/svg\" height=\"24px\" viewBox=\"0 -960 960 960\">\n",
              "    <path d=\"M120-120v-720h720v720H120Zm60-500h600v-160H180v160Zm220 220h160v-160H400v160Zm0 220h160v-160H400v160ZM180-400h160v-160H180v160Zm440 0h160v-160H620v160ZM180-180h160v-160H180v160Zm440 0h160v-160H620v160Z\"/>\n",
              "  </svg>\n",
              "    </button>\n",
              "\n",
              "  <style>\n",
              "    .colab-df-container {\n",
              "      display:flex;\n",
              "      gap: 12px;\n",
              "    }\n",
              "\n",
              "    .colab-df-convert {\n",
              "      background-color: #E8F0FE;\n",
              "      border: none;\n",
              "      border-radius: 50%;\n",
              "      cursor: pointer;\n",
              "      display: none;\n",
              "      fill: #1967D2;\n",
              "      height: 32px;\n",
              "      padding: 0 0 0 0;\n",
              "      width: 32px;\n",
              "    }\n",
              "\n",
              "    .colab-df-convert:hover {\n",
              "      background-color: #E2EBFA;\n",
              "      box-shadow: 0px 1px 2px rgba(60, 64, 67, 0.3), 0px 1px 3px 1px rgba(60, 64, 67, 0.15);\n",
              "      fill: #174EA6;\n",
              "    }\n",
              "\n",
              "    .colab-df-buttons div {\n",
              "      margin-bottom: 4px;\n",
              "    }\n",
              "\n",
              "    [theme=dark] .colab-df-convert {\n",
              "      background-color: #3B4455;\n",
              "      fill: #D2E3FC;\n",
              "    }\n",
              "\n",
              "    [theme=dark] .colab-df-convert:hover {\n",
              "      background-color: #434B5C;\n",
              "      box-shadow: 0px 1px 3px 1px rgba(0, 0, 0, 0.15);\n",
              "      filter: drop-shadow(0px 1px 2px rgba(0, 0, 0, 0.3));\n",
              "      fill: #FFFFFF;\n",
              "    }\n",
              "  </style>\n",
              "\n",
              "    <script>\n",
              "      const buttonEl =\n",
              "        document.querySelector('#df-6fa3830d-e5c3-43b2-afee-e13a0c914732 button.colab-df-convert');\n",
              "      buttonEl.style.display =\n",
              "        google.colab.kernel.accessAllowed ? 'block' : 'none';\n",
              "\n",
              "      async function convertToInteractive(key) {\n",
              "        const element = document.querySelector('#df-6fa3830d-e5c3-43b2-afee-e13a0c914732');\n",
              "        const dataTable =\n",
              "          await google.colab.kernel.invokeFunction('convertToInteractive',\n",
              "                                                    [key], {});\n",
              "        if (!dataTable) return;\n",
              "\n",
              "        const docLinkHtml = 'Like what you see? Visit the ' +\n",
              "          '<a target=\"_blank\" href=https://colab.research.google.com/notebooks/data_table.ipynb>data table notebook</a>'\n",
              "          + ' to learn more about interactive tables.';\n",
              "        element.innerHTML = '';\n",
              "        dataTable['output_type'] = 'display_data';\n",
              "        await google.colab.output.renderOutput(dataTable, element);\n",
              "        const docLink = document.createElement('div');\n",
              "        docLink.innerHTML = docLinkHtml;\n",
              "        element.appendChild(docLink);\n",
              "      }\n",
              "    </script>\n",
              "  </div>\n",
              "\n",
              "\n",
              "<div id=\"df-65a1a527-5986-4a01-af2a-7a76a7806fc0\">\n",
              "  <button class=\"colab-df-quickchart\" onclick=\"quickchart('df-65a1a527-5986-4a01-af2a-7a76a7806fc0')\"\n",
              "            title=\"Suggest charts\"\n",
              "            style=\"display:none;\">\n",
              "\n",
              "<svg xmlns=\"http://www.w3.org/2000/svg\" height=\"24px\"viewBox=\"0 0 24 24\"\n",
              "     width=\"24px\">\n",
              "    <g>\n",
              "        <path d=\"M19 3H5c-1.1 0-2 .9-2 2v14c0 1.1.9 2 2 2h14c1.1 0 2-.9 2-2V5c0-1.1-.9-2-2-2zM9 17H7v-7h2v7zm4 0h-2V7h2v10zm4 0h-2v-4h2v4z\"/>\n",
              "    </g>\n",
              "</svg>\n",
              "  </button>\n",
              "\n",
              "<style>\n",
              "  .colab-df-quickchart {\n",
              "      --bg-color: #E8F0FE;\n",
              "      --fill-color: #1967D2;\n",
              "      --hover-bg-color: #E2EBFA;\n",
              "      --hover-fill-color: #174EA6;\n",
              "      --disabled-fill-color: #AAA;\n",
              "      --disabled-bg-color: #DDD;\n",
              "  }\n",
              "\n",
              "  [theme=dark] .colab-df-quickchart {\n",
              "      --bg-color: #3B4455;\n",
              "      --fill-color: #D2E3FC;\n",
              "      --hover-bg-color: #434B5C;\n",
              "      --hover-fill-color: #FFFFFF;\n",
              "      --disabled-bg-color: #3B4455;\n",
              "      --disabled-fill-color: #666;\n",
              "  }\n",
              "\n",
              "  .colab-df-quickchart {\n",
              "    background-color: var(--bg-color);\n",
              "    border: none;\n",
              "    border-radius: 50%;\n",
              "    cursor: pointer;\n",
              "    display: none;\n",
              "    fill: var(--fill-color);\n",
              "    height: 32px;\n",
              "    padding: 0;\n",
              "    width: 32px;\n",
              "  }\n",
              "\n",
              "  .colab-df-quickchart:hover {\n",
              "    background-color: var(--hover-bg-color);\n",
              "    box-shadow: 0 1px 2px rgba(60, 64, 67, 0.3), 0 1px 3px 1px rgba(60, 64, 67, 0.15);\n",
              "    fill: var(--button-hover-fill-color);\n",
              "  }\n",
              "\n",
              "  .colab-df-quickchart-complete:disabled,\n",
              "  .colab-df-quickchart-complete:disabled:hover {\n",
              "    background-color: var(--disabled-bg-color);\n",
              "    fill: var(--disabled-fill-color);\n",
              "    box-shadow: none;\n",
              "  }\n",
              "\n",
              "  .colab-df-spinner {\n",
              "    border: 2px solid var(--fill-color);\n",
              "    border-color: transparent;\n",
              "    border-bottom-color: var(--fill-color);\n",
              "    animation:\n",
              "      spin 1s steps(1) infinite;\n",
              "  }\n",
              "\n",
              "  @keyframes spin {\n",
              "    0% {\n",
              "      border-color: transparent;\n",
              "      border-bottom-color: var(--fill-color);\n",
              "      border-left-color: var(--fill-color);\n",
              "    }\n",
              "    20% {\n",
              "      border-color: transparent;\n",
              "      border-left-color: var(--fill-color);\n",
              "      border-top-color: var(--fill-color);\n",
              "    }\n",
              "    30% {\n",
              "      border-color: transparent;\n",
              "      border-left-color: var(--fill-color);\n",
              "      border-top-color: var(--fill-color);\n",
              "      border-right-color: var(--fill-color);\n",
              "    }\n",
              "    40% {\n",
              "      border-color: transparent;\n",
              "      border-right-color: var(--fill-color);\n",
              "      border-top-color: var(--fill-color);\n",
              "    }\n",
              "    60% {\n",
              "      border-color: transparent;\n",
              "      border-right-color: var(--fill-color);\n",
              "    }\n",
              "    80% {\n",
              "      border-color: transparent;\n",
              "      border-right-color: var(--fill-color);\n",
              "      border-bottom-color: var(--fill-color);\n",
              "    }\n",
              "    90% {\n",
              "      border-color: transparent;\n",
              "      border-bottom-color: var(--fill-color);\n",
              "    }\n",
              "  }\n",
              "</style>\n",
              "\n",
              "  <script>\n",
              "    async function quickchart(key) {\n",
              "      const quickchartButtonEl =\n",
              "        document.querySelector('#' + key + ' button');\n",
              "      quickchartButtonEl.disabled = true;  // To prevent multiple clicks.\n",
              "      quickchartButtonEl.classList.add('colab-df-spinner');\n",
              "      try {\n",
              "        const charts = await google.colab.kernel.invokeFunction(\n",
              "            'suggestCharts', [key], {});\n",
              "      } catch (error) {\n",
              "        console.error('Error during call to suggestCharts:', error);\n",
              "      }\n",
              "      quickchartButtonEl.classList.remove('colab-df-spinner');\n",
              "      quickchartButtonEl.classList.add('colab-df-quickchart-complete');\n",
              "    }\n",
              "    (() => {\n",
              "      let quickchartButtonEl =\n",
              "        document.querySelector('#df-65a1a527-5986-4a01-af2a-7a76a7806fc0 button');\n",
              "      quickchartButtonEl.style.display =\n",
              "        google.colab.kernel.accessAllowed ? 'block' : 'none';\n",
              "    })();\n",
              "  </script>\n",
              "</div>\n",
              "\n",
              "    </div>\n",
              "  </div>\n"
            ],
            "application/vnd.google.colaboratory.intrinsic+json": {
              "type": "dataframe",
              "summary": "{\n  \"name\": \"data\",\n  \"rows\": 8,\n  \"fields\": [\n    {\n      \"column\": \"Number_of_Riders\",\n      \"properties\": {\n        \"dtype\": \"number\",\n        \"std\": 335.2107999243274,\n        \"min\": 20.0,\n        \"max\": 1000.0,\n        \"num_unique_values\": 8,\n        \"samples\": [\n          60.372,\n          60.0,\n          1000.0\n        ],\n        \"semantic_type\": \"\",\n        \"description\": \"\"\n      }\n    },\n    {\n      \"column\": \"Number_of_Drivers\",\n      \"properties\": {\n        \"dtype\": \"number\",\n        \"std\": 343.8714218161568,\n        \"min\": 5.0,\n        \"max\": 1000.0,\n        \"num_unique_values\": 8,\n        \"samples\": [\n          27.076,\n          22.0,\n          1000.0\n        ],\n        \"semantic_type\": \"\",\n        \"description\": \"\"\n      }\n    },\n    {\n      \"column\": \"Number_of_Past_Rides\",\n      \"properties\": {\n        \"dtype\": \"number\",\n        \"std\": 338.2700202372605,\n        \"min\": 0.0,\n        \"max\": 1000.0,\n        \"num_unique_values\": 8,\n        \"samples\": [\n          50.031,\n          51.0,\n          1000.0\n        ],\n        \"semantic_type\": \"\",\n        \"description\": \"\"\n      }\n    },\n    {\n      \"column\": \"Average_Ratings\",\n      \"properties\": {\n        \"dtype\": \"number\",\n        \"std\": 352.2447571461208,\n        \"min\": 0.4357808813802833,\n        \"max\": 1000.0,\n        \"num_unique_values\": 8,\n        \"samples\": [\n          4.25722,\n          4.27,\n          1000.0\n        ],\n        \"semantic_type\": \"\",\n        \"description\": \"\"\n      }\n    },\n    {\n      \"column\": \"Expected_Ride_Duration\",\n      \"properties\": {\n        \"dtype\": \"number\",\n        \"std\": 325.4930600251677,\n        \"min\": 10.0,\n        \"max\": 1000.0,\n        \"num_unique_values\": 8,\n        \"samples\": [\n          99.588,\n          102.0,\n          1000.0\n        ],\n        \"semantic_type\": \"\",\n        \"description\": \"\"\n      }\n    },\n    {\n      \"column\": \"Historical_Cost_of_Ride\",\n      \"properties\": {\n        \"dtype\": \"number\",\n        \"std\": 331.49960406582255,\n        \"min\": 25.993449448411635,\n        \"max\": 1000.0,\n        \"num_unique_values\": 8,\n        \"samples\": [\n          372.5026233496332,\n          362.01942584564324,\n          1000.0\n        ],\n        \"semantic_type\": \"\",\n        \"description\": \"\"\n      }\n    }\n  ]\n}"
            }
          },
          "metadata": {},
          "execution_count": 61
        }
      ]
    },
    {
      "cell_type": "markdown",
      "source": [
        "1.Number of Riders: On average, there are around 60 riders per ride, with a minimum of 20 and a maximum of 100. The standard deviation is approximately 23.7, indicating some variability in the number of riders.\n",
        "\n",
        "2.Number of Drivers: The average number of drivers per ride is about 27, with a minimum of 5 and a maximum of 89. The standard deviation is around 19.1.\n",
        "\n",
        "3.Number of Past Rides: The average number of past rides for customers is approximately 50, with a minimum of 0 and a maximum of 100. The standard deviation is about 29.3.\n",
        "\n",
        "4.Average Ratings: The average rating for rides is about 4.26, with a minimum of 3.5 and a maximum of 5. The standard deviation is approximately 0.44.\n",
        "\n",
        "5.Expected Ride Duration: The average expected ride duration is around 99.6 minutes, with a minimum of 10 minutes and a maximum of 180 minutes. The standard deviation is about 49.2.\n",
        "\n",
        "6.Historical Cost of Ride: The average historical cost of rides is approximately $372.50, with a minimum of $26 and a maximum of $836. The standard deviation is around $187.16."
      ],
      "metadata": {
        "id": "hPxeGJjCJsIj"
      }
    },
    {
      "cell_type": "markdown",
      "source": [
        "###**EDA**"
      ],
      "metadata": {
        "id": "Ja4vcbUGeXM4"
      }
    },
    {
      "cell_type": "markdown",
      "source": [
        "###**Expected Ride Duration vs. Historical Cost of Ride**"
      ],
      "metadata": {
        "id": "Qbh_q8DUeXOc"
      }
    },
    {
      "cell_type": "code",
      "source": [
        "fig = px.scatter(data, x='Expected_Ride_Duration',\n",
        "                 y='Historical_Cost_of_Ride',\n",
        "                 title='Expected Ride Duration vs. Historical Cost of Ride',\n",
        "                 trendline='ols')\n",
        "fig.show()"
      ],
      "metadata": {
        "colab": {
          "base_uri": "https://localhost:8080/",
          "height": 542
        },
        "id": "UKKbSIU4VVkC",
        "outputId": "12f7038e-6cef-4cfd-d4f1-00e94fdc57c5"
      },
      "execution_count": 63,
      "outputs": [
        {
          "output_type": "display_data",
          "data": {
            "text/html": [
              "<html>\n",
              "<head><meta charset=\"utf-8\" /></head>\n",
              "<body>\n",
              "    <div>            <script src=\"https://cdnjs.cloudflare.com/ajax/libs/mathjax/2.7.5/MathJax.js?config=TeX-AMS-MML_SVG\"></script><script type=\"text/javascript\">if (window.MathJax && window.MathJax.Hub && window.MathJax.Hub.Config) {window.MathJax.Hub.Config({SVG: {font: \"STIX-Web\"}});}</script>                <script type=\"text/javascript\">window.PlotlyConfig = {MathJaxConfig: 'local'};</script>\n",
              "        <script charset=\"utf-8\" src=\"https://cdn.plot.ly/plotly-2.24.1.min.js\"></script>                <div id=\"da033c43-4844-487b-8179-f383cb5788ce\" class=\"plotly-graph-div\" style=\"height:525px; width:100%;\"></div>            <script type=\"text/javascript\">                                    window.PLOTLYENV=window.PLOTLYENV || {};                                    if (document.getElementById(\"da033c43-4844-487b-8179-f383cb5788ce\")) {                    Plotly.newPlot(                        \"da033c43-4844-487b-8179-f383cb5788ce\",                        [{\"hovertemplate\":\"Expected_Ride_Duration=%{x}\\u003cbr\\u003eHistorical_Cost_of_Ride=%{y}\\u003cextra\\u003e\\u003c\\u002fextra\\u003e\",\"legendgroup\":\"\",\"marker\":{\"color\":\"#636efa\",\"symbol\":\"circle\"},\"mode\":\"markers\",\"name\":\"\",\"orientation\":\"v\",\"showlegend\":false,\"x\":[90,43,76,134,149,128,16,47,128,128,167,144,164,83,102,140,54,15,22,87,11,15,139,45,65,162,30,158,129,131,81,153,48,105,77,91,94,101,89,170,92,45,125,166,116,91,161,96,32,123,117,53,65,112,106,150,68,128,89,94,69,98,29,81,164,91,147,28,169,64,98,15,67,95,132,96,60,112,40,78,82,98,143,52,86,140,18,48,45,167,113,80,58,126,95,105,156,154,138,45,152,45,131,152,53,16,60,121,166,42,161,47,43,171,136,53,93,13,125,89,120,71,127,108,161,174,171,10,140,154,148,121,11,152,93,23,39,132,90,25,46,160,150,52,23,93,13,125,45,126,10,112,140,92,49,176,175,38,160,158,67,148,140,109,48,175,84,10,145,21,72,87,139,75,14,96,31,87,53,85,56,68,36,24,26,173,87,139,61,175,51,172,170,126,47,45,130,134,97,139,71,77,52,164,63,89,119,146,127,115,56,164,157,176,69,100,27,167,119,53,114,162,77,66,164,10,175,30,14,128,36,96,42,71,31,174,96,127,141,129,151,26,103,85,115,118,99,12,80,177,147,32,168,95,144,69,103,159,90,72,63,143,163,86,68,179,33,171,72,32,126,163,101,133,178,154,134,112,130,144,174,134,176,129,87,18,43,132,124,116,66,149,91,169,70,24,127,37,167,180,116,110,60,79,71,106,85,157,133,166,173,134,140,110,174,56,163,162,130,96,61,50,45,173,90,96,158,126,157,134,175,40,106,152,44,100,102,69,15,131,18,29,22,163,100,110,97,136,131,146,147,64,150,66,100,66,86,163,141,58,75,114,144,106,168,34,166,110,48,90,99,69,160,131,100,24,115,127,112,145,49,64,101,169,45,13,142,60,40,134,103,162,152,88,105,121,26,180,62,132,71,38,23,137,80,56,130,75,95,98,28,19,125,23,30,172,68,35,87,116,143,10,109,60,16,35,22,146,168,115,28,73,11,31,63,32,156,132,37,87,180,179,76,10,30,167,154,52,22,111,148,35,56,39,149,51,61,12,57,85,151,106,18,168,130,123,143,57,32,110,162,65,165,141,172,155,74,142,38,124,103,53,77,51,173,69,32,70,143,97,168,123,147,24,174,75,36,16,46,42,127,159,160,145,46,78,50,65,124,148,75,141,80,43,173,83,41,166,48,107,132,114,94,115,73,72,161,107,121,111,125,59,153,74,150,84,102,126,111,83,147,19,138,61,114,77,76,83,157,127,70,74,139,138,156,117,55,164,142,22,55,32,107,121,113,49,130,149,121,159,83,52,14,33,158,85,29,171,58,53,57,110,31,101,44,24,22,10,23,157,179,41,169,19,111,150,177,68,150,147,161,176,128,115,126,106,154,121,101,66,142,128,111,168,136,18,80,101,130,113,78,115,108,62,129,107,53,125,157,171,90,118,90,50,60,147,12,162,144,86,172,69,106,169,64,141,170,35,145,102,94,21,44,94,178,114,166,146,162,16,87,130,45,170,118,151,121,176,147,16,29,129,180,79,31,61,15,34,105,121,146,13,151,47,132,108,135,38,19,180,111,12,85,124,112,70,13,165,76,141,103,105,18,176,99,107,74,48,73,172,87,43,152,39,21,107,26,98,67,173,151,176,29,138,47,83,125,83,51,140,76,16,72,111,20,128,64,81,107,154,180,162,164,152,157,172,134,167,111,16,159,148,38,144,154,179,122,172,163,67,97,41,154,65,148,129,154,116,146,79,93,153,60,142,157,123,118,141,171,167,33,29,13,72,109,61,77,109,86,122,180,49,20,149,133,20,103,80,64,168,38,83,11,32,21,176,108,62,155,115,178,92,164,47,86,122,49,167,68,101,147,16,122,110,78,105,170,26,158,168,139,26,155,140,75,36,109,85,92,93,99,79,144,153,150,77,104,172,100,141,137,88,25,135,76,100,86,46,92,120,122,66,103,153,94,32,50,167,143,103,84,144,29,169,123,10,13,147,111,35,65,92,177,114,12,127,141,45,151,161,126,137,62,48,160,74,70,113,151,107,115,70,55,117,179,133,110,69,55,25,45,97,81,102,110,134,46,37,173,161,86,31,15,177,82,50,11,129,159,24,169,100,34,139,144,148,89,68,109,162,73,113,147,37,155,76,20,117,32,95,50,105,140,38,89,28,166,97,66,170,129,73,99,109,180,89,98,138,109,51,165,74,138,169,175,24,29,95,81,99,177,28,116,178,149,174,130,67,15,114,42,130,160,156,17,11,94,40,58,147],\"xaxis\":\"x\",\"y\":[284.25727302188227,173.87475274940766,329.7954689622466,470.2012317513198,579.6814223640141,339.9553606047221,104.06154127359152,235.81186355605,501.4125174833056,398.9933645706103,669.2986264658781,414.9901047325251,490.41072171830416,296.24287599192223,327.0888648717375,445.1368684239125,244.5361718306458,47.31430863361691,129.8082629093964,382.9481103198511,82.77279318243978,64.07117255500656,390.6687658288554,212.16652497375452,235.65813370551408,406.5574980533908,182.4744270596517,652.617297300081,403.22709836941993,537.7848594528473,286.13145256368455,485.0546633356366,171.0859835160851,485.8784537318511,294.7328864777875,392.83872040801793,456.1809467866996,502.5293207873477,244.21766165291973,634.7265312250814,345.40676830595487,151.15212964816465,530.7599938912294,482.85016419959805,355.9595074862448,303.9609626071891,514.8771742414517,361.13235495172165,80.26246462184758,420.6239113101238,520.8926706123274,183.07579104191225,190.13746358777752,522.3021028701461,410.6863449474928,584.9958711291002,301.62262644973293,413.5870840445325,273.11810461931896,247.1745626508575,213.4432507972432,295.79438015283176,145.0698091748401,297.0186264188845,666.6870291344428,449.5456339145253,624.9860100296204,96.03520851587072,637.7593915947267,295.5887110300315,353.33854512223814,62.25429041832141,266.0685899337195,340.1282671016029,443.258155352454,265.05527443495566,221.4343854791753,393.2308288248255,151.58040412487964,313.9950046053331,366.1515260551269,425.97356882411634,359.0531279855558,260.34417984860374,320.30170917475425,454.49212153190336,45.11502370436019,223.6621142931812,173.1577542620492,592.240499627505,379.3078104185831,360.7111703191874,203.49261837786293,553.5451307734787,283.46644254307614,435.14534513079855,685.7681264991488,630.8608868741742,546.1568747653598,115.35700254441711,404.0498951423794,156.03832988580584,501.26295506529306,562.4369764527329,216.8024750869831,120.09069016935676,221.1576532597614,492.7012709061221,754.2344800100251,211.52772882563164,460.75927538572495,164.10747354764283,213.6962129956236,732.9893961300692,350.6012026111729,192.8798062051633,294.11580585015537,82.52418774801069,386.169069413996,310.9003272621974,373.96284065200393,221.55110013131716,531.1127009643968,324.9426389036563,493.4068923175674,778.6333560141928,720.1572085631501,38.23523523879646,573.5891064527985,682.016246966075,516.4367273015673,492.5196024192815,49.234784001519046,506.6928860981053,304.3133394836575,111.179341237614,163.21458328772866,402.856989480614,289.2351908680133,150.53929481479082,194.93555934032696,674.6485035775572,551.5572340398235,132.2147645898824,70.11182411078714,346.2847096470098,102.04473025177862,494.1401793052489,183.658314681842,436.5576476487414,31.362081322241885,323.4791093139413,505.3840569466695,320.8576215627125,214.5660524456202,758.5015334295354,665.7295341217325,171.06636292972274,647.3526381087524,608.1282399929386,246.92292493661097,430.0665305032927,396.6387527092545,436.0114486061054,202.9454568505992,731.7816872483901,216.05054809363543,83.86835620425342,572.2420492964254,118.8070474355678,245.8935711917164,387.1117403297744,507.9505746530285,249.302974601016,45.91711193197189,424.6120578300381,85.97357530080251,328.9669925908357,172.62943414987132,261.9435328532634,199.0416803252397,232.2834549147445,185.311838106628,153.76143970087224,126.4771352873347,609.5038276051239,287.1624375675698,406.32480651562713,249.03711265544783,620.9016915662245,267.0607016773296,715.7547930992089,430.385487919734,604.273047008686,243.5250631593867,176.2144067384048,471.4796320940979,453.3769493913552,251.1073064574406,521.8019208244536,346.4926515319707,234.0714535105622,184.0244513007148,554.8869659163038,192.61977241404605,227.796524806166,416.601648993299,671.7128294096442,552.6397714448676,321.37240510655704,215.4338699200544,758.9961232252967,694.4247148756359,617.3632185255483,328.63536897966003,376.3000600585162,70.20380336705749,451.6848649701074,301.40392677127403,153.39607111804412,339.66230419418656,733.4425366578176,203.8363809804033,284.5088586099128,492.1134583590864,86.19117981050438,727.8809447636283,158.65264164620277,44.52503661261306,452.4258268814717,152.64047921471024,420.2245689053783,151.35930066309265,242.27196569085137,119.0485543701777,472.56954081275165,334.6493506052282,406.0855256604135,551.365137615676,534.0181945871103,501.2363000548165,159.60691863182956,359.8010509571677,348.6695624527248,490.5040759704239,485.683239513509,424.9275101964327,40.442890652890384,258.424915281181,511.929390993806,441.74670095471794,175.5180543386476,658.5834276725151,299.2909931126892,494.8027992189699,223.51901195083732,434.5710508212173,630.4284012724294,445.1254111184949,361.98552095653855,267.28219711727195,518.9547629602604,575.4934491747886,349.4432162449335,279.2349662242834,689.7483154802385,88.76294359232648,621.7963494961118,307.621949405299,172.41053126646165,444.2453020895959,556.8967118375435,355.3245754797394,474.99773906008016,581.9712306098094,663.4393972369916,519.469492374694,397.6919501475396,388.1122298927073,591.1000759572743,586.7988633141081,648.9097429236178,746.3391324597457,555.0976877626003,417.91314129159,97.80093621671637,193.0891119987856,492.4640116460618,408.81562882076287,364.1617948077249,228.64349787316,667.9464280068869,410.34270896598935,710.4192641684332,177.20306582722415,74.32837977574499,392.3027600530253,168.61019430479575,587.2581373063812,563.9803272683639,352.3474982568331,415.3075369486595,204.215843297379,319.6520700676685,362.05333073474793,387.4755378090192,348.8532987245396,732.2985126943609,343.6721333865543,599.7162532373392,484.75453888236336,581.1514565564086,603.3651642705413,369.8546414878244,708.8801421484817,205.83755050869485,684.5607033083106,453.2541298779704,412.5848379812361,440.4442377359072,241.6407113776789,201.29253189374316,220.05114029296504,702.9134159653358,431.42166025583447,466.8626810645626,445.1263611668488,441.6378571357946,669.5210116683382,354.3852115042604,489.7125242986789,222.56858200356248,412.2556067980849,472.21573527678265,179.93988033973832,308.9111533232364,306.3142432341152,224.46487829301583,101.07378646994935,633.4966221375331,62.87509273644356,92.03104706108972,106.7358926414302,560.6703257140985,322.9000694955284,292.33936093553586,242.75171700488076,442.7796305981407,505.54671645728143,474.9171617926677,617.434678434942,294.8553699465021,717.467322019467,266.9772170141728,383.3711770715268,266.4336179135411,336.39439243010713,764.8593556145701,588.6941797749441,305.2426676647312,256.37380365626416,461.0193485856391,581.7472844259253,472.5465909334413,573.4835718398938,192.3850221961644,744.0359811402852,412.25746306035046,189.5605649707772,357.0434721850994,417.1740953777763,314.84471031916905,629.9546011362719,473.5617540035448,317.88095784682014,132.49921949173307,430.7858509781543,350.2265835541767,466.42747932165264,651.7303890276737,266.34807324582846,266.38537677090085,303.803226426852,461.9661913503604,201.0575405594342,94.21444738997974,546.8574476673242,292.74683013160404,150.90603765991335,534.90663340905,315.2654030422818,601.2360266422271,701.4695729515377,392.0078846224547,331.8375249153692,307.5259290756184,68.27174499943663,765.4397485645513,168.36628924698925,351.7736189685264,363.3457529659053,201.7146762833217,121.43999901863724,598.7750233051204,371.1242881043308,173.66696747925593,538.5185280064754,281.9625670059949,258.01445968829404,476.2019961536034,124.64550323605349,111.11271494112724,421.8171879075184,134.0510144913575,132.4032477391118,547.9814624298182,281.96824577029594,182.46632143825187,313.7742265682814,422.8866610257602,529.6967147126813,25.993449448411635,351.5699575243088,154.68715967826247,106.59208227583191,132.1665679180113,76.224961221763,598.9400399823005,563.1508995670627,310.1546162756803,145.13756861567325,323.5576857599395,31.565676162125197,144.46263762346956,252.4930471020809,146.51277441611944,501.801349985356,610.7325514755008,194.26239936468437,318.2101259853132,512.6251102173163,555.8919187631545,242.15886076969636,41.40499127744981,180.88655372559683,537.8971058809161,556.6629286327259,158.5563431447304,59.4454065021933,334.1449975015087,443.7750198288772,145.24203735141535,210.6317666138125,152.22919256822726,612.446726848697,250.28588237277447,309.08254473187293,94.1609176991503,243.93730652889337,331.19305388667465,595.2312211886215,465.962681649944,104.75201005936664,784.0551260339382,382.9299378688001,319.2967130915861,640.1373391067773,243.4933853851045,135.005874109167,392.9639432866157,617.2885000560723,310.7883994951958,770.0708908209459,373.50470759834695,814.4195559447121,473.34669329802574,266.76777889406367,369.36165888010754,111.72394123957052,429.94835612457183,414.77830030238334,227.1825700126456,247.4420018201041,213.8232968736634,652.5878909594384,289.6463054085282,123.762469326047,292.5906288976858,440.93951077757487,298.3226183929867,629.2044295696749,441.99619244539696,691.5012905566776,106.94859059241988,561.4385219871201,328.45835687553256,133.38738314122594,114.6992021313152,237.14338896943255,157.10657171647188,431.251597706785,585.8075881778408,647.204374917644,559.578839787104,173.1505322724627,198.17046750812372,192.7088692483722,165.0758241756551,379.4680328899806,461.10955384851616,234.5672445982206,540.0620306756346,318.8415033130425,196.31514152174805,622.4914304114809,349.6745279402746,206.1473318707726,635.9330544824535,251.1121418065252,324.098767437868,425.4887347951667,470.2690237026412,398.051725971793,564.9317250247195,238.31899146487595,184.9552256292673,624.305615960136,389.3845083155804,574.8939389332888,517.9444619823878,527.1792011771714,201.49683080394215,627.0167510146084,218.6251778894482,654.676536309137,293.5602166445157,421.98526198279467,553.7408048680613,330.62430999065225,261.4451502998812,520.0637873298249,117.63327810103034,493.0149508584995,203.1132957396489,421.7762985074602,305.0088858607341,317.77188818101894,364.9140560714328,398.3194964103068,461.3060120664082,358.2348071386952,224.3071067625652,558.3815496134125,660.4425622593634,537.4486716625657,480.104370355134,162.28310451017555,638.0445145215127,420.1110979571745,124.49060049402551,235.27811761739352,127.33149010162909,391.0269903920518,319.5430197104816,380.2853707615285,179.62342246641472,452.112640122952,565.6691466337952,402.1558775823215,689.8421599513094,307.6469280930268,186.5262770863605,91.06777716361007,143.8549860520897,553.837359075948,336.56848365859423,95.02020685904614,575.0117219060105,264.675747588135,185.61792391524813,251.1556502722435,299.689056274687,92.65681121424488,332.2293764400841,184.11208970364285,124.5817744544144,60.98181721983856,35.88598786056829,132.12301879164062,561.5796822292014,546.3787898746884,147.4597413359118,668.8922140357987,62.06928479024478,477.7411361723483,411.0057654245888,650.2985711974341,243.22861759627588,680.9330686248741,432.30725774113824,720.729944900258,510.4543750320455,522.7974318549136,432.16279228896633,382.4570671338528,351.43931589566165,510.19578633034166,313.92644056486665,372.2298219510593,314.46800852423786,491.5779538643877,527.1558943563921,432.849396942834,544.6027807887253,470.18271352951473,53.5391040086766,352.0685727015968,396.3698341114785,367.7829980600229,352.9356730761453,339.1055825696459,347.8959667426787,469.2509135918648,213.8430201203033,567.5392184514062,492.179013222281,173.88747446193491,418.10682439062094,658.3040013013618,764.5953413909641,384.2092919756728,404.6018875393623,446.81702579708536,158.1067231747087,284.2362895344896,591.2989763287625,36.00027803358747,581.1370845965885,588.1367698544636,400.2673330229722,575.4102708388258,190.9788526811355,398.1593839328215,770.8733244527833,211.0820229741896,618.4288567281086,739.2271199769044,128.7410738814351,584.4917299915722,328.31398217312767,274.6803754439265,108.2430435427408,181.78093960037765,405.317954516569,775.7916851510323,289.1296809487768,674.132847635612,479.11995337350106,676.4404324115253,54.44953818628992,267.7404170012178,445.4842486108808,210.25675967194184,603.8458024755097,464.9915827255092,514.9363491532515,450.5387531372676,741.3443926126964,631.6312970255759,71.21364105240121,144.60138253530263,505.92196882791006,726.3339146351499,283.4132787585248,148.18648820169864,158.59209307103367,57.89462608061131,142.5577269374603,359.128113102171,407.5520587692045,487.3991192361553,89.61312852216915,510.6580782397596,171.6271185714875,520.5653406452625,458.096326804516,530.1491563778454,200.2582591219043,128.0167601925525,836.1164185613576,471.0890518884983,50.6401755820817,263.1611767019543,524.1655595085831,330.2265438250878,212.7407519371268,48.92895253547415,734.3951190125542,281.33950234360725,476.28985780068655,490.3421583214189,363.4447759027239,49.83993575677632,516.8295590439432,262.6864663772181,423.5098573724167,373.975635759196,184.24294467848267,319.11098294212263,549.2008068168793,427.8571629452071,164.316390505398,638.1340201838489,131.44358716419623,55.6373707994896,467.92749485577286,120.24719290813758,374.65518279544045,269.44414015954374,685.6696935694298,528.0024896243917,812.0729938599545,118.97305838669006,406.5899107855241,134.77582951421903,343.79851998722387,460.2837624776103,306.390461217286,251.4211394087152,614.63671317069,231.1651667910225,117.76366453355408,253.4912438007839,404.5983991889042,135.1772701347079,360.8585507409454,231.3263184773236,286.409294385432,508.7118174567975,721.7212691270341,552.2693747461685,510.62689141008207,415.9794524398186,660.0597080304599,644.0445755475266,710.884313751738,478.20015364109577,744.4180991800615,478.7697584495512,104.0560727191975,486.1839276370279,657.0936874279021,96.3007413779792,609.9082747031204,502.1012063441772,465.719058488387,308.43591786214927,806.0212701919081,576.9675719994219,284.2944207006542,478.3662772118347,119.4823999754907,532.5097779421501,291.9008795114952,707.8553931548287,435.7154538108565,504.0841142440527,497.3770093020007,460.8002858653508,272.4960775620536,246.9535423209308,482.7422075016093,205.495759583372,531.6062153403296,550.9983736824666,396.9586997774456,318.2115758092651,427.0550612068028,448.31285347772814,455.4083398759809,179.17081970350634,104.18588264010208,91.67748868757226,264.08573637935564,424.65693227127065,218.9504185416184,248.1703336422785,422.4367392307234,280.5240756909656,565.9834811108678,828.2131345744126,132.84680584297232,86.17345483820148,545.3868063047398,531.0619846358322,108.6023564641184,462.66304412150464,254.9510771161675,271.0126649576171,424.48842846396354,151.77728650517233,383.0749064097095,97.78450586126137,119.59407325541466,126.57277068445282,829.5343798843528,418.815349545453,233.21310275336955,701.141472496938,388.72966746525947,528.60807288888,382.03843862699455,587.331264277609,167.7398193291184,304.8360144837103,354.1540979676975,250.4603273046531,495.2197782062817,301.5483736351267,433.03454356764814,671.4712089285143,49.71329085631081,408.129769999122,329.4837131421355,383.3178042225475,313.06815696851334,706.6896358975697,142.6153122038585,708.8224028092762,593.065918046481,604.3834014812801,100.2582627032478,685.7612504810801,446.41301231617626,291.107936848218,193.64239387562827,304.52612995371493,386.834933294766,230.83258579661484,333.9106726820272,353.8098038704909,293.19813425701705,447.083068843808,584.888884974888,488.1872511532145,246.7577555097292,312.1731588463509,576.281119337865,381.391205400882,543.7702542024564,472.5224037960476,286.05897011629656,88.95619552388446,646.9811778631195,292.9246564000302,395.769846813748,279.6798100890559,192.50297743378897,351.77029329216225,555.4019371049674,395.3781570382596,261.5103067801241,397.5648404411393,735.2764383329761,289.4570095389695,97.6750013649232,197.46392160702555,762.8822843495781,512.44939271165,484.4661863877365,353.01840875622844,539.7316715337728,114.16365482248573,521.4080460440558,450.3878805106937,82.69156896202661,34.57409278115731,535.1718879088473,333.4011668412356,179.8388198801664,241.9912178461052,369.3803924019288,704.3001292247022,466.9720738288303,41.12164471941277,404.02979977887577,423.75441798529033,165.72466245477892,578.8213877560842,707.4493979183783,542.8095730212775,513.9900766589533,298.3556200090825,183.2701656673754,468.3069201504469,220.4983368386397,265.94661511348426,311.4894374116108,647.8477765247827,383.9141419544756,557.916185756397,228.7960083986281,237.76862211931405,297.0874038526085,794.3231511066332,563.8497971641384,339.2870734791633,248.9476553705649,279.2686999169939,145.04223833476908,241.8259564507362,430.60985477056624,219.99370680056552,366.7282586383836,356.8814026432877,441.4714772887345,230.1431447581205,158.89198003545,766.9193242115463,466.7229822330101,233.50662384935427,104.1037337805616,38.33576819209958,761.0167600703148,284.8625062809567,216.06019585156733,39.37370119886104,471.7821019342959,508.6730024657942,95.11851081754354,735.1444900755255,456.60307303079816,122.24187517858556,599.8171406236374,438.5186068324803,516.1330392078827,397.4831040703401,317.8400260939533,330.78364034759613,743.3166378180009,274.1712773124912,462.4075929220183,533.0802632142761,143.2178421949143,574.9456425421428,215.741761640662,129.7685299495176,321.0007657787772,172.59277503910292,455.20978516158993,199.8397440906976,281.0970650985199,413.54800185803066,134.09432585149492,378.50396161301137,162.05358553352147,513.1161277813304,308.6385554813678,239.08854651007988,562.1650160715976,467.0198948894929,327.43334173812747,332.0936161256213,457.0853188522962,552.8162271192283,281.0521288708149,288.3451530321269,666.8242060496077,436.0192372930386,248.22030676592635,493.2338839519256,291.5110820764234,459.0606514814432,603.9358824371426,502.6040622268877,74.78832688768996,126.23081147979764,319.94237960548924,207.61291922267668,304.74417790488224,481.7658793191911,83.3353748167845,513.6451022177532,561.374877548703,516.51117285383,666.4286805847338,573.2085393656391,283.7979251507492,66.78323718712389,289.2390324634591,147.42638660593482,552.2304431046015,632.5601419476765,494.7452574847764,118.98653335805044,91.38952597435124,424.1559867017463,157.36483032789283,279.09504825213924,655.065105532243],\"yaxis\":\"y\",\"type\":\"scatter\"},{\"hovertemplate\":\"\\u003cb\\u003eOLS trendline\\u003c\\u002fb\\u003e\\u003cbr\\u003eHistorical_Cost_of_Ride = 3.53091 * Expected_Ride_Duration + 20.8668\\u003cbr\\u003eR\\u003csup\\u003e2\\u003c\\u002fsup\\u003e=0.860344\\u003cbr\\u003e\\u003cbr\\u003eExpected_Ride_Duration=%{x}\\u003cbr\\u003eHistorical_Cost_of_Ride=%{y} \\u003cb\\u003e(trend)\\u003c\\u002fb\\u003e\\u003cextra\\u003e\\u003c\\u002fextra\\u003e\",\"legendgroup\":\"\",\"marker\":{\"color\":\"#636efa\",\"symbol\":\"circle\"},\"mode\":\"lines\",\"name\":\"\",\"showlegend\":false,\"x\":[10,10,10,10,10,10,10,10,11,11,11,11,11,11,12,12,12,12,12,13,13,13,13,13,13,13,14,14,14,15,15,15,15,15,15,15,16,16,16,16,16,16,16,16,16,17,18,18,18,18,18,18,19,19,19,19,20,20,20,20,21,21,21,21,22,22,22,22,22,22,23,23,23,23,23,24,24,24,24,24,24,24,25,25,25,26,26,26,26,26,26,27,28,28,28,28,28,29,29,29,29,29,29,29,29,30,30,30,30,31,31,31,31,31,31,32,32,32,32,32,32,32,32,32,32,33,33,33,34,34,34,35,35,35,35,35,36,36,36,36,37,37,37,37,38,38,38,38,38,38,38,39,39,39,40,40,40,40,41,41,41,42,42,42,42,43,43,43,43,43,44,44,44,45,45,45,45,45,45,45,45,45,45,45,45,46,46,46,46,46,47,47,47,47,47,47,48,48,48,48,48,48,48,49,49,49,49,49,50,50,50,50,50,50,51,51,51,51,51,52,52,52,52,52,53,53,53,53,53,53,53,53,54,55,55,55,55,56,56,56,56,56,57,57,57,58,58,58,58,59,60,60,60,60,60,60,60,61,61,61,61,61,61,62,62,62,62,63,63,63,64,64,64,64,64,64,65,65,65,65,65,65,66,66,66,66,66,66,66,67,67,67,67,67,68,68,68,68,68,68,68,69,69,69,69,69,69,69,69,70,70,70,70,70,70,71,71,71,71,71,72,72,72,72,72,72,73,73,73,73,73,74,74,74,74,74,74,75,75,75,75,75,75,76,76,76,76,76,76,76,77,77,77,77,77,77,77,78,78,78,78,79,79,79,79,80,80,80,80,80,80,81,81,81,81,81,82,82,83,83,83,83,83,83,83,83,84,84,84,85,85,85,85,85,85,85,86,86,86,86,86,86,86,86,87,87,87,87,87,87,87,87,87,88,88,89,89,89,89,89,89,89,90,90,90,90,90,90,90,91,91,91,91,92,92,92,92,92,92,93,93,93,93,93,94,94,94,94,94,94,94,95,95,95,95,95,95,96,96,96,96,96,96,96,97,97,97,97,97,97,98,98,98,98,98,98,99,99,99,99,99,99,100,100,100,100,100,100,100,100,101,101,101,101,101,101,101,102,102,102,102,102,103,103,103,103,103,103,103,103,104,105,105,105,105,105,105,105,106,106,106,106,106,106,106,107,107,107,107,107,107,107,107,108,108,108,108,109,109,109,109,109,109,109,109,110,110,110,110,110,110,110,110,110,111,111,111,111,111,111,111,111,111,112,112,112,112,112,112,113,113,113,113,113,114,114,114,114,114,114,114,115,115,115,115,115,115,115,115,115,116,116,116,116,116,116,117,117,117,117,118,118,118,118,119,119,120,120,121,121,121,121,121,121,121,121,121,122,122,122,122,122,123,123,123,123,123,124,124,124,124,125,125,125,125,125,125,125,126,126,126,126,126,126,126,126,127,127,127,127,127,127,127,127,128,128,128,128,128,128,128,128,129,129,129,129,129,129,129,129,130,130,130,130,130,130,130,130,130,130,131,131,131,131,131,132,132,132,132,132,132,132,133,133,133,133,134,134,134,134,134,134,134,134,134,135,135,136,136,136,137,137,137,138,138,138,138,138,138,139,139,139,139,139,139,139,140,140,140,140,140,140,140,140,140,141,141,141,141,141,141,141,141,141,142,142,142,142,142,143,143,143,143,143,143,144,144,144,144,144,144,144,144,144,145,145,145,145,146,146,146,146,146,146,147,147,147,147,147,147,147,147,147,147,147,147,148,148,148,148,148,148,148,149,149,149,149,149,149,150,150,150,150,150,150,150,151,151,151,151,151,151,151,152,152,152,152,152,152,152,153,153,153,153,153,154,154,154,154,154,154,154,154,154,155,155,155,155,156,156,156,156,157,157,157,157,157,157,157,157,158,158,158,158,158,159,159,159,159,159,160,160,160,160,160,160,161,161,161,161,161,161,161,162,162,162,162,162,162,162,162,162,163,163,163,163,163,163,164,164,164,164,164,164,164,164,165,165,165,166,166,166,166,166,166,166,167,167,167,167,167,167,167,167,167,168,168,168,168,168,168,168,168,169,169,169,169,169,169,169,169,170,170,170,170,170,170,171,171,171,171,171,171,172,172,172,172,172,172,172,172,173,173,173,173,173,173,173,174,174,174,174,174,174,175,175,175,175,175,175,176,176,176,176,176,176,176,176,177,177,177,177,177,178,178,178,178,179,179,179,179,179,180,180,180,180,180,180,180,180],\"xaxis\":\"x\",\"y\":[56.1758276889063,56.1758276889063,56.1758276889063,56.1758276889063,56.1758276889063,56.1758276889063,56.1758276889063,56.1758276889063,59.70673356537109,59.70673356537109,59.70673356537109,59.70673356537109,59.70673356537109,59.70673356537109,63.237639441835874,63.237639441835874,63.237639441835874,63.237639441835874,63.237639441835874,66.76854531830065,66.76854531830065,66.76854531830065,66.76854531830065,66.76854531830065,66.76854531830065,66.76854531830065,70.29945119476544,70.29945119476544,70.29945119476544,73.83035707123022,73.83035707123022,73.83035707123022,73.83035707123022,73.83035707123022,73.83035707123022,73.83035707123022,77.361262947695,77.361262947695,77.361262947695,77.361262947695,77.361262947695,77.361262947695,77.361262947695,77.361262947695,77.361262947695,80.8921688241598,84.42307470062457,84.42307470062457,84.42307470062457,84.42307470062457,84.42307470062457,84.42307470062457,87.95398057708934,87.95398057708934,87.95398057708934,87.95398057708934,91.48488645355414,91.48488645355414,91.48488645355414,91.48488645355414,95.01579233001891,95.01579233001891,95.01579233001891,95.01579233001891,98.54669820648371,98.54669820648371,98.54669820648371,98.54669820648371,98.54669820648371,98.54669820648371,102.07760408294848,102.07760408294848,102.07760408294848,102.07760408294848,102.07760408294848,105.60850995941328,105.60850995941328,105.60850995941328,105.60850995941328,105.60850995941328,105.60850995941328,105.60850995941328,109.13941583587805,109.13941583587805,109.13941583587805,112.67032171234283,112.67032171234283,112.67032171234283,112.67032171234283,112.67032171234283,112.67032171234283,116.20122758880763,119.7321334652724,119.7321334652724,119.7321334652724,119.7321334652724,119.7321334652724,123.2630393417372,123.2630393417372,123.2630393417372,123.2630393417372,123.2630393417372,123.2630393417372,123.2630393417372,123.2630393417372,126.79394521820197,126.79394521820197,126.79394521820197,126.79394521820197,130.32485109466674,130.32485109466674,130.32485109466674,130.32485109466674,130.32485109466674,130.32485109466674,133.85575697113154,133.85575697113154,133.85575697113154,133.85575697113154,133.85575697113154,133.85575697113154,133.85575697113154,133.85575697113154,133.85575697113154,133.85575697113154,137.3866628475963,137.3866628475963,137.3866628475963,140.9175687240611,140.9175687240611,140.9175687240611,144.44847460052588,144.44847460052588,144.44847460052588,144.44847460052588,144.44847460052588,147.97938047699066,147.97938047699066,147.97938047699066,147.97938047699066,151.51028635345546,151.51028635345546,151.51028635345546,151.51028635345546,155.04119222992023,155.04119222992023,155.04119222992023,155.04119222992023,155.04119222992023,155.04119222992023,155.04119222992023,158.57209810638503,158.57209810638503,158.57209810638503,162.1030039828498,162.1030039828498,162.1030039828498,162.1030039828498,165.6339098593146,165.6339098593146,165.6339098593146,169.16481573577937,169.16481573577937,169.16481573577937,169.16481573577937,172.69572161224414,172.69572161224414,172.69572161224414,172.69572161224414,172.69572161224414,176.22662748870894,176.22662748870894,176.22662748870894,179.7575333651737,179.7575333651737,179.7575333651737,179.7575333651737,179.7575333651737,179.7575333651737,179.7575333651737,179.7575333651737,179.7575333651737,179.7575333651737,179.7575333651737,179.7575333651737,183.2884392416385,183.2884392416385,183.2884392416385,183.2884392416385,183.2884392416385,186.81934511810329,186.81934511810329,186.81934511810329,186.81934511810329,186.81934511810329,186.81934511810329,190.35025099456809,190.35025099456809,190.35025099456809,190.35025099456809,190.35025099456809,190.35025099456809,190.35025099456809,193.88115687103286,193.88115687103286,193.88115687103286,193.88115687103286,193.88115687103286,197.41206274749763,197.41206274749763,197.41206274749763,197.41206274749763,197.41206274749763,197.41206274749763,200.94296862396243,200.94296862396243,200.94296862396243,200.94296862396243,200.94296862396243,204.4738745004272,204.4738745004272,204.4738745004272,204.4738745004272,204.4738745004272,208.004780376892,208.004780376892,208.004780376892,208.004780376892,208.004780376892,208.004780376892,208.004780376892,208.004780376892,211.53568625335677,215.06659212982154,215.06659212982154,215.06659212982154,215.06659212982154,218.59749800628634,218.59749800628634,218.59749800628634,218.59749800628634,218.59749800628634,222.12840388275112,222.12840388275112,222.12840388275112,225.65930975921592,225.65930975921592,225.65930975921592,225.65930975921592,229.1902156356807,232.72112151214546,232.72112151214546,232.72112151214546,232.72112151214546,232.72112151214546,232.72112151214546,232.72112151214546,236.25202738861026,236.25202738861026,236.25202738861026,236.25202738861026,236.25202738861026,236.25202738861026,239.78293326507503,239.78293326507503,239.78293326507503,239.78293326507503,243.31383914153983,243.31383914153983,243.31383914153983,246.8447450180046,246.8447450180046,246.8447450180046,246.8447450180046,246.8447450180046,246.8447450180046,250.37565089446937,250.37565089446937,250.37565089446937,250.37565089446937,250.37565089446937,250.37565089446937,253.90655677093417,253.90655677093417,253.90655677093417,253.90655677093417,253.90655677093417,253.90655677093417,253.90655677093417,257.43746264739895,257.43746264739895,257.43746264739895,257.43746264739895,257.43746264739895,260.9683685238637,260.9683685238637,260.9683685238637,260.9683685238637,260.9683685238637,260.9683685238637,260.9683685238637,264.4992744003285,264.4992744003285,264.4992744003285,264.4992744003285,264.4992744003285,264.4992744003285,264.4992744003285,264.4992744003285,268.03018027679326,268.03018027679326,268.03018027679326,268.03018027679326,268.03018027679326,268.03018027679326,271.5610861532581,271.5610861532581,271.5610861532581,271.5610861532581,271.5610861532581,275.09199202972286,275.09199202972286,275.09199202972286,275.09199202972286,275.09199202972286,275.09199202972286,278.62289790618763,278.62289790618763,278.62289790618763,278.62289790618763,278.62289790618763,282.1538037826524,282.1538037826524,282.1538037826524,282.1538037826524,282.1538037826524,282.1538037826524,285.6847096591172,285.6847096591172,285.6847096591172,285.6847096591172,285.6847096591172,285.6847096591172,289.21561553558195,289.21561553558195,289.21561553558195,289.21561553558195,289.21561553558195,289.21561553558195,289.21561553558195,292.7465214120468,292.7465214120468,292.7465214120468,292.7465214120468,292.7465214120468,292.7465214120468,292.7465214120468,296.27742728851155,296.27742728851155,296.27742728851155,296.27742728851155,299.8083331649763,299.8083331649763,299.8083331649763,299.8083331649763,303.3392390414411,303.3392390414411,303.3392390414411,303.3392390414411,303.3392390414411,303.3392390414411,306.87014491790586,306.87014491790586,306.87014491790586,306.87014491790586,306.87014491790586,310.4010507943707,310.4010507943707,313.93195667083546,313.93195667083546,313.93195667083546,313.93195667083546,313.93195667083546,313.93195667083546,313.93195667083546,313.93195667083546,317.46286254730023,317.46286254730023,317.46286254730023,320.993768423765,320.993768423765,320.993768423765,320.993768423765,320.993768423765,320.993768423765,320.993768423765,324.5246743002298,324.5246743002298,324.5246743002298,324.5246743002298,324.5246743002298,324.5246743002298,324.5246743002298,324.5246743002298,328.0555801766946,328.0555801766946,328.0555801766946,328.0555801766946,328.0555801766946,328.0555801766946,328.0555801766946,328.0555801766946,328.0555801766946,331.5864860531594,331.5864860531594,335.11739192962415,335.11739192962415,335.11739192962415,335.11739192962415,335.11739192962415,335.11739192962415,335.11739192962415,338.6482978060889,338.6482978060889,338.6482978060889,338.6482978060889,338.6482978060889,338.6482978060889,338.6482978060889,342.1792036825537,342.1792036825537,342.1792036825537,342.1792036825537,345.7101095590185,345.7101095590185,345.7101095590185,345.7101095590185,345.7101095590185,345.7101095590185,349.2410154354833,349.2410154354833,349.2410154354833,349.2410154354833,349.2410154354833,352.77192131194806,352.77192131194806,352.77192131194806,352.77192131194806,352.77192131194806,352.77192131194806,352.77192131194806,356.30282718841283,356.30282718841283,356.30282718841283,356.30282718841283,356.30282718841283,356.30282718841283,359.83373306487766,359.83373306487766,359.83373306487766,359.83373306487766,359.83373306487766,359.83373306487766,359.83373306487766,363.36463894134243,363.36463894134243,363.36463894134243,363.36463894134243,363.36463894134243,363.36463894134243,366.8955448178072,366.8955448178072,366.8955448178072,366.8955448178072,366.8955448178072,366.8955448178072,370.426450694272,370.426450694272,370.426450694272,370.426450694272,370.426450694272,370.426450694272,373.95735657073675,373.95735657073675,373.95735657073675,373.95735657073675,373.95735657073675,373.95735657073675,373.95735657073675,373.95735657073675,377.4882624472016,377.4882624472016,377.4882624472016,377.4882624472016,377.4882624472016,377.4882624472016,377.4882624472016,381.01916832366635,381.01916832366635,381.01916832366635,381.01916832366635,381.01916832366635,384.5500742001311,384.5500742001311,384.5500742001311,384.5500742001311,384.5500742001311,384.5500742001311,384.5500742001311,384.5500742001311,388.0809800765959,391.61188595306066,391.61188595306066,391.61188595306066,391.61188595306066,391.61188595306066,391.61188595306066,391.61188595306066,395.1427918295255,395.1427918295255,395.1427918295255,395.1427918295255,395.1427918295255,395.1427918295255,395.1427918295255,398.67369770599026,398.67369770599026,398.67369770599026,398.67369770599026,398.67369770599026,398.67369770599026,398.67369770599026,398.67369770599026,402.20460358245504,402.20460358245504,402.20460358245504,402.20460358245504,405.7355094589198,405.7355094589198,405.7355094589198,405.7355094589198,405.7355094589198,405.7355094589198,405.7355094589198,405.7355094589198,409.2664153353846,409.2664153353846,409.2664153353846,409.2664153353846,409.2664153353846,409.2664153353846,409.2664153353846,409.2664153353846,409.2664153353846,412.7973212118494,412.7973212118494,412.7973212118494,412.7973212118494,412.7973212118494,412.7973212118494,412.7973212118494,412.7973212118494,412.7973212118494,416.3282270883142,416.3282270883142,416.3282270883142,416.3282270883142,416.3282270883142,416.3282270883142,419.85913296477895,419.85913296477895,419.85913296477895,419.85913296477895,419.85913296477895,423.3900388412437,423.3900388412437,423.3900388412437,423.3900388412437,423.3900388412437,423.3900388412437,423.3900388412437,426.9209447177085,426.9209447177085,426.9209447177085,426.9209447177085,426.9209447177085,426.9209447177085,426.9209447177085,426.9209447177085,426.9209447177085,430.4518505941733,430.4518505941733,430.4518505941733,430.4518505941733,430.4518505941733,430.4518505941733,433.9827564706381,433.9827564706381,433.9827564706381,433.9827564706381,437.51366234710287,437.51366234710287,437.51366234710287,437.51366234710287,441.04456822356764,441.04456822356764,444.5754741000324,444.5754741000324,448.10637997649724,448.10637997649724,448.10637997649724,448.10637997649724,448.10637997649724,448.10637997649724,448.10637997649724,448.10637997649724,448.10637997649724,451.637285852962,451.637285852962,451.637285852962,451.637285852962,451.637285852962,455.1681917294268,455.1681917294268,455.1681917294268,455.1681917294268,455.1681917294268,458.69909760589155,458.69909760589155,458.69909760589155,458.69909760589155,462.2300034823563,462.2300034823563,462.2300034823563,462.2300034823563,462.2300034823563,462.2300034823563,462.2300034823563,465.76090935882115,465.76090935882115,465.76090935882115,465.76090935882115,465.76090935882115,465.76090935882115,465.76090935882115,465.76090935882115,469.2918152352859,469.2918152352859,469.2918152352859,469.2918152352859,469.2918152352859,469.2918152352859,469.2918152352859,469.2918152352859,472.8227211117507,472.8227211117507,472.8227211117507,472.8227211117507,472.8227211117507,472.8227211117507,472.8227211117507,472.8227211117507,476.35362698821547,476.35362698821547,476.35362698821547,476.35362698821547,476.35362698821547,476.35362698821547,476.35362698821547,476.35362698821547,479.88453286468024,479.88453286468024,479.88453286468024,479.88453286468024,479.88453286468024,479.88453286468024,479.88453286468024,479.88453286468024,479.88453286468024,479.88453286468024,483.41543874114507,483.41543874114507,483.41543874114507,483.41543874114507,483.41543874114507,486.94634461760984,486.94634461760984,486.94634461760984,486.94634461760984,486.94634461760984,486.94634461760984,486.94634461760984,490.4772504940746,490.4772504940746,490.4772504940746,490.4772504940746,494.0081563705394,494.0081563705394,494.0081563705394,494.0081563705394,494.0081563705394,494.0081563705394,494.0081563705394,494.0081563705394,494.0081563705394,497.53906224700415,497.53906224700415,501.069968123469,501.069968123469,501.069968123469,504.60087399993375,504.60087399993375,504.60087399993375,508.1317798763985,508.1317798763985,508.1317798763985,508.1317798763985,508.1317798763985,508.1317798763985,511.6626857528633,511.6626857528633,511.6626857528633,511.6626857528633,511.6626857528633,511.6626857528633,511.6626857528633,515.1935916293281,515.1935916293281,515.1935916293281,515.1935916293281,515.1935916293281,515.1935916293281,515.1935916293281,515.1935916293281,515.1935916293281,518.7244975057929,518.7244975057929,518.7244975057929,518.7244975057929,518.7244975057929,518.7244975057929,518.7244975057929,518.7244975057929,518.7244975057929,522.2554033822577,522.2554033822577,522.2554033822577,522.2554033822577,522.2554033822577,525.7863092587224,525.7863092587224,525.7863092587224,525.7863092587224,525.7863092587224,525.7863092587224,529.3172151351872,529.3172151351872,529.3172151351872,529.3172151351872,529.3172151351872,529.3172151351872,529.3172151351872,529.3172151351872,529.3172151351872,532.848121011652,532.848121011652,532.848121011652,532.848121011652,536.3790268881169,536.3790268881169,536.3790268881169,536.3790268881169,536.3790268881169,536.3790268881169,539.9099327645816,539.9099327645816,539.9099327645816,539.9099327645816,539.9099327645816,539.9099327645816,539.9099327645816,539.9099327645816,539.9099327645816,539.9099327645816,539.9099327645816,539.9099327645816,543.4408386410464,543.4408386410464,543.4408386410464,543.4408386410464,543.4408386410464,543.4408386410464,543.4408386410464,546.9717445175112,546.9717445175112,546.9717445175112,546.9717445175112,546.9717445175112,546.9717445175112,550.502650393976,550.502650393976,550.502650393976,550.502650393976,550.502650393976,550.502650393976,550.502650393976,554.0335562704407,554.0335562704407,554.0335562704407,554.0335562704407,554.0335562704407,554.0335562704407,554.0335562704407,557.5644621469055,557.5644621469055,557.5644621469055,557.5644621469055,557.5644621469055,557.5644621469055,557.5644621469055,561.0953680233704,561.0953680233704,561.0953680233704,561.0953680233704,561.0953680233704,564.6262738998352,564.6262738998352,564.6262738998352,564.6262738998352,564.6262738998352,564.6262738998352,564.6262738998352,564.6262738998352,564.6262738998352,568.1571797762999,568.1571797762999,568.1571797762999,568.1571797762999,571.6880856527647,571.6880856527647,571.6880856527647,571.6880856527647,575.2189915292295,575.2189915292295,575.2189915292295,575.2189915292295,575.2189915292295,575.2189915292295,575.2189915292295,575.2189915292295,578.7498974056942,578.7498974056942,578.7498974056942,578.7498974056942,578.7498974056942,582.280803282159,582.280803282159,582.280803282159,582.280803282159,582.280803282159,585.8117091586238,585.8117091586238,585.8117091586238,585.8117091586238,585.8117091586238,585.8117091586238,589.3426150350886,589.3426150350886,589.3426150350886,589.3426150350886,589.3426150350886,589.3426150350886,589.3426150350886,592.8735209115533,592.8735209115533,592.8735209115533,592.8735209115533,592.8735209115533,592.8735209115533,592.8735209115533,592.8735209115533,592.8735209115533,596.4044267880182,596.4044267880182,596.4044267880182,596.4044267880182,596.4044267880182,596.4044267880182,599.935332664483,599.935332664483,599.935332664483,599.935332664483,599.935332664483,599.935332664483,599.935332664483,599.935332664483,603.4662385409478,603.4662385409478,603.4662385409478,606.9971444174125,606.9971444174125,606.9971444174125,606.9971444174125,606.9971444174125,606.9971444174125,606.9971444174125,610.5280502938773,610.5280502938773,610.5280502938773,610.5280502938773,610.5280502938773,610.5280502938773,610.5280502938773,610.5280502938773,610.5280502938773,614.0589561703421,614.0589561703421,614.0589561703421,614.0589561703421,614.0589561703421,614.0589561703421,614.0589561703421,614.0589561703421,617.5898620468068,617.5898620468068,617.5898620468068,617.5898620468068,617.5898620468068,617.5898620468068,617.5898620468068,617.5898620468068,621.1207679232716,621.1207679232716,621.1207679232716,621.1207679232716,621.1207679232716,621.1207679232716,624.6516737997364,624.6516737997364,624.6516737997364,624.6516737997364,624.6516737997364,624.6516737997364,628.1825796762012,628.1825796762012,628.1825796762012,628.1825796762012,628.1825796762012,628.1825796762012,628.1825796762012,628.1825796762012,631.713485552666,631.713485552666,631.713485552666,631.713485552666,631.713485552666,631.713485552666,631.713485552666,635.2443914291308,635.2443914291308,635.2443914291308,635.2443914291308,635.2443914291308,635.2443914291308,638.7752973055956,638.7752973055956,638.7752973055956,638.7752973055956,638.7752973055956,638.7752973055956,642.3062031820604,642.3062031820604,642.3062031820604,642.3062031820604,642.3062031820604,642.3062031820604,642.3062031820604,642.3062031820604,645.8371090585251,645.8371090585251,645.8371090585251,645.8371090585251,645.8371090585251,649.3680149349899,649.3680149349899,649.3680149349899,649.3680149349899,652.8989208114547,652.8989208114547,652.8989208114547,652.8989208114547,652.8989208114547,656.4298266879194,656.4298266879194,656.4298266879194,656.4298266879194,656.4298266879194,656.4298266879194,656.4298266879194,656.4298266879194],\"yaxis\":\"y\",\"type\":\"scatter\"}],                        {\"template\":{\"data\":{\"histogram2dcontour\":[{\"type\":\"histogram2dcontour\",\"colorbar\":{\"outlinewidth\":0,\"ticks\":\"\"},\"colorscale\":[[0.0,\"#0d0887\"],[0.1111111111111111,\"#46039f\"],[0.2222222222222222,\"#7201a8\"],[0.3333333333333333,\"#9c179e\"],[0.4444444444444444,\"#bd3786\"],[0.5555555555555556,\"#d8576b\"],[0.6666666666666666,\"#ed7953\"],[0.7777777777777778,\"#fb9f3a\"],[0.8888888888888888,\"#fdca26\"],[1.0,\"#f0f921\"]]}],\"choropleth\":[{\"type\":\"choropleth\",\"colorbar\":{\"outlinewidth\":0,\"ticks\":\"\"}}],\"histogram2d\":[{\"type\":\"histogram2d\",\"colorbar\":{\"outlinewidth\":0,\"ticks\":\"\"},\"colorscale\":[[0.0,\"#0d0887\"],[0.1111111111111111,\"#46039f\"],[0.2222222222222222,\"#7201a8\"],[0.3333333333333333,\"#9c179e\"],[0.4444444444444444,\"#bd3786\"],[0.5555555555555556,\"#d8576b\"],[0.6666666666666666,\"#ed7953\"],[0.7777777777777778,\"#fb9f3a\"],[0.8888888888888888,\"#fdca26\"],[1.0,\"#f0f921\"]]}],\"heatmap\":[{\"type\":\"heatmap\",\"colorbar\":{\"outlinewidth\":0,\"ticks\":\"\"},\"colorscale\":[[0.0,\"#0d0887\"],[0.1111111111111111,\"#46039f\"],[0.2222222222222222,\"#7201a8\"],[0.3333333333333333,\"#9c179e\"],[0.4444444444444444,\"#bd3786\"],[0.5555555555555556,\"#d8576b\"],[0.6666666666666666,\"#ed7953\"],[0.7777777777777778,\"#fb9f3a\"],[0.8888888888888888,\"#fdca26\"],[1.0,\"#f0f921\"]]}],\"heatmapgl\":[{\"type\":\"heatmapgl\",\"colorbar\":{\"outlinewidth\":0,\"ticks\":\"\"},\"colorscale\":[[0.0,\"#0d0887\"],[0.1111111111111111,\"#46039f\"],[0.2222222222222222,\"#7201a8\"],[0.3333333333333333,\"#9c179e\"],[0.4444444444444444,\"#bd3786\"],[0.5555555555555556,\"#d8576b\"],[0.6666666666666666,\"#ed7953\"],[0.7777777777777778,\"#fb9f3a\"],[0.8888888888888888,\"#fdca26\"],[1.0,\"#f0f921\"]]}],\"contourcarpet\":[{\"type\":\"contourcarpet\",\"colorbar\":{\"outlinewidth\":0,\"ticks\":\"\"}}],\"contour\":[{\"type\":\"contour\",\"colorbar\":{\"outlinewidth\":0,\"ticks\":\"\"},\"colorscale\":[[0.0,\"#0d0887\"],[0.1111111111111111,\"#46039f\"],[0.2222222222222222,\"#7201a8\"],[0.3333333333333333,\"#9c179e\"],[0.4444444444444444,\"#bd3786\"],[0.5555555555555556,\"#d8576b\"],[0.6666666666666666,\"#ed7953\"],[0.7777777777777778,\"#fb9f3a\"],[0.8888888888888888,\"#fdca26\"],[1.0,\"#f0f921\"]]}],\"surface\":[{\"type\":\"surface\",\"colorbar\":{\"outlinewidth\":0,\"ticks\":\"\"},\"colorscale\":[[0.0,\"#0d0887\"],[0.1111111111111111,\"#46039f\"],[0.2222222222222222,\"#7201a8\"],[0.3333333333333333,\"#9c179e\"],[0.4444444444444444,\"#bd3786\"],[0.5555555555555556,\"#d8576b\"],[0.6666666666666666,\"#ed7953\"],[0.7777777777777778,\"#fb9f3a\"],[0.8888888888888888,\"#fdca26\"],[1.0,\"#f0f921\"]]}],\"mesh3d\":[{\"type\":\"mesh3d\",\"colorbar\":{\"outlinewidth\":0,\"ticks\":\"\"}}],\"scatter\":[{\"fillpattern\":{\"fillmode\":\"overlay\",\"size\":10,\"solidity\":0.2},\"type\":\"scatter\"}],\"parcoords\":[{\"type\":\"parcoords\",\"line\":{\"colorbar\":{\"outlinewidth\":0,\"ticks\":\"\"}}}],\"scatterpolargl\":[{\"type\":\"scatterpolargl\",\"marker\":{\"colorbar\":{\"outlinewidth\":0,\"ticks\":\"\"}}}],\"bar\":[{\"error_x\":{\"color\":\"#2a3f5f\"},\"error_y\":{\"color\":\"#2a3f5f\"},\"marker\":{\"line\":{\"color\":\"#E5ECF6\",\"width\":0.5},\"pattern\":{\"fillmode\":\"overlay\",\"size\":10,\"solidity\":0.2}},\"type\":\"bar\"}],\"scattergeo\":[{\"type\":\"scattergeo\",\"marker\":{\"colorbar\":{\"outlinewidth\":0,\"ticks\":\"\"}}}],\"scatterpolar\":[{\"type\":\"scatterpolar\",\"marker\":{\"colorbar\":{\"outlinewidth\":0,\"ticks\":\"\"}}}],\"histogram\":[{\"marker\":{\"pattern\":{\"fillmode\":\"overlay\",\"size\":10,\"solidity\":0.2}},\"type\":\"histogram\"}],\"scattergl\":[{\"type\":\"scattergl\",\"marker\":{\"colorbar\":{\"outlinewidth\":0,\"ticks\":\"\"}}}],\"scatter3d\":[{\"type\":\"scatter3d\",\"line\":{\"colorbar\":{\"outlinewidth\":0,\"ticks\":\"\"}},\"marker\":{\"colorbar\":{\"outlinewidth\":0,\"ticks\":\"\"}}}],\"scattermapbox\":[{\"type\":\"scattermapbox\",\"marker\":{\"colorbar\":{\"outlinewidth\":0,\"ticks\":\"\"}}}],\"scatterternary\":[{\"type\":\"scatterternary\",\"marker\":{\"colorbar\":{\"outlinewidth\":0,\"ticks\":\"\"}}}],\"scattercarpet\":[{\"type\":\"scattercarpet\",\"marker\":{\"colorbar\":{\"outlinewidth\":0,\"ticks\":\"\"}}}],\"carpet\":[{\"aaxis\":{\"endlinecolor\":\"#2a3f5f\",\"gridcolor\":\"white\",\"linecolor\":\"white\",\"minorgridcolor\":\"white\",\"startlinecolor\":\"#2a3f5f\"},\"baxis\":{\"endlinecolor\":\"#2a3f5f\",\"gridcolor\":\"white\",\"linecolor\":\"white\",\"minorgridcolor\":\"white\",\"startlinecolor\":\"#2a3f5f\"},\"type\":\"carpet\"}],\"table\":[{\"cells\":{\"fill\":{\"color\":\"#EBF0F8\"},\"line\":{\"color\":\"white\"}},\"header\":{\"fill\":{\"color\":\"#C8D4E3\"},\"line\":{\"color\":\"white\"}},\"type\":\"table\"}],\"barpolar\":[{\"marker\":{\"line\":{\"color\":\"#E5ECF6\",\"width\":0.5},\"pattern\":{\"fillmode\":\"overlay\",\"size\":10,\"solidity\":0.2}},\"type\":\"barpolar\"}],\"pie\":[{\"automargin\":true,\"type\":\"pie\"}]},\"layout\":{\"autotypenumbers\":\"strict\",\"colorway\":[\"#636efa\",\"#EF553B\",\"#00cc96\",\"#ab63fa\",\"#FFA15A\",\"#19d3f3\",\"#FF6692\",\"#B6E880\",\"#FF97FF\",\"#FECB52\"],\"font\":{\"color\":\"#2a3f5f\"},\"hovermode\":\"closest\",\"hoverlabel\":{\"align\":\"left\"},\"paper_bgcolor\":\"white\",\"plot_bgcolor\":\"#E5ECF6\",\"polar\":{\"bgcolor\":\"#E5ECF6\",\"angularaxis\":{\"gridcolor\":\"white\",\"linecolor\":\"white\",\"ticks\":\"\"},\"radialaxis\":{\"gridcolor\":\"white\",\"linecolor\":\"white\",\"ticks\":\"\"}},\"ternary\":{\"bgcolor\":\"#E5ECF6\",\"aaxis\":{\"gridcolor\":\"white\",\"linecolor\":\"white\",\"ticks\":\"\"},\"baxis\":{\"gridcolor\":\"white\",\"linecolor\":\"white\",\"ticks\":\"\"},\"caxis\":{\"gridcolor\":\"white\",\"linecolor\":\"white\",\"ticks\":\"\"}},\"coloraxis\":{\"colorbar\":{\"outlinewidth\":0,\"ticks\":\"\"}},\"colorscale\":{\"sequential\":[[0.0,\"#0d0887\"],[0.1111111111111111,\"#46039f\"],[0.2222222222222222,\"#7201a8\"],[0.3333333333333333,\"#9c179e\"],[0.4444444444444444,\"#bd3786\"],[0.5555555555555556,\"#d8576b\"],[0.6666666666666666,\"#ed7953\"],[0.7777777777777778,\"#fb9f3a\"],[0.8888888888888888,\"#fdca26\"],[1.0,\"#f0f921\"]],\"sequentialminus\":[[0.0,\"#0d0887\"],[0.1111111111111111,\"#46039f\"],[0.2222222222222222,\"#7201a8\"],[0.3333333333333333,\"#9c179e\"],[0.4444444444444444,\"#bd3786\"],[0.5555555555555556,\"#d8576b\"],[0.6666666666666666,\"#ed7953\"],[0.7777777777777778,\"#fb9f3a\"],[0.8888888888888888,\"#fdca26\"],[1.0,\"#f0f921\"]],\"diverging\":[[0,\"#8e0152\"],[0.1,\"#c51b7d\"],[0.2,\"#de77ae\"],[0.3,\"#f1b6da\"],[0.4,\"#fde0ef\"],[0.5,\"#f7f7f7\"],[0.6,\"#e6f5d0\"],[0.7,\"#b8e186\"],[0.8,\"#7fbc41\"],[0.9,\"#4d9221\"],[1,\"#276419\"]]},\"xaxis\":{\"gridcolor\":\"white\",\"linecolor\":\"white\",\"ticks\":\"\",\"title\":{\"standoff\":15},\"zerolinecolor\":\"white\",\"automargin\":true,\"zerolinewidth\":2},\"yaxis\":{\"gridcolor\":\"white\",\"linecolor\":\"white\",\"ticks\":\"\",\"title\":{\"standoff\":15},\"zerolinecolor\":\"white\",\"automargin\":true,\"zerolinewidth\":2},\"scene\":{\"xaxis\":{\"backgroundcolor\":\"#E5ECF6\",\"gridcolor\":\"white\",\"linecolor\":\"white\",\"showbackground\":true,\"ticks\":\"\",\"zerolinecolor\":\"white\",\"gridwidth\":2},\"yaxis\":{\"backgroundcolor\":\"#E5ECF6\",\"gridcolor\":\"white\",\"linecolor\":\"white\",\"showbackground\":true,\"ticks\":\"\",\"zerolinecolor\":\"white\",\"gridwidth\":2},\"zaxis\":{\"backgroundcolor\":\"#E5ECF6\",\"gridcolor\":\"white\",\"linecolor\":\"white\",\"showbackground\":true,\"ticks\":\"\",\"zerolinecolor\":\"white\",\"gridwidth\":2}},\"shapedefaults\":{\"line\":{\"color\":\"#2a3f5f\"}},\"annotationdefaults\":{\"arrowcolor\":\"#2a3f5f\",\"arrowhead\":0,\"arrowwidth\":1},\"geo\":{\"bgcolor\":\"white\",\"landcolor\":\"#E5ECF6\",\"subunitcolor\":\"white\",\"showland\":true,\"showlakes\":true,\"lakecolor\":\"white\"},\"title\":{\"x\":0.05},\"mapbox\":{\"style\":\"light\"}}},\"xaxis\":{\"anchor\":\"y\",\"domain\":[0.0,1.0],\"title\":{\"text\":\"Expected_Ride_Duration\"}},\"yaxis\":{\"anchor\":\"x\",\"domain\":[0.0,1.0],\"title\":{\"text\":\"Historical_Cost_of_Ride\"}},\"legend\":{\"tracegroupgap\":0},\"title\":{\"text\":\"Expected Ride Duration vs. Historical Cost of Ride\"}},                        {\"responsive\": true}                    ).then(function(){\n",
              "                            \n",
              "var gd = document.getElementById('da033c43-4844-487b-8179-f383cb5788ce');\n",
              "var x = new MutationObserver(function (mutations, observer) {{\n",
              "        var display = window.getComputedStyle(gd).display;\n",
              "        if (!display || display === 'none') {{\n",
              "            console.log([gd, 'removed!']);\n",
              "            Plotly.purge(gd);\n",
              "            observer.disconnect();\n",
              "        }}\n",
              "}});\n",
              "\n",
              "// Listen for the removal of the full notebook cells\n",
              "var notebookContainer = gd.closest('#notebook-container');\n",
              "if (notebookContainer) {{\n",
              "    x.observe(notebookContainer, {childList: true});\n",
              "}}\n",
              "\n",
              "// Listen for the clearing of the current output cell\n",
              "var outputEl = gd.closest('.output');\n",
              "if (outputEl) {{\n",
              "    x.observe(outputEl, {childList: true});\n",
              "}}\n",
              "\n",
              "                        })                };                            </script>        </div>\n",
              "</body>\n",
              "</html>"
            ]
          },
          "metadata": {}
        }
      ]
    },
    {
      "cell_type": "markdown",
      "source": [
        "##**Historical Cost of Ride Distribution by Vehicle Type**"
      ],
      "metadata": {
        "id": "VWrf5F5Qe6gH"
      }
    },
    {
      "cell_type": "code",
      "source": [
        "fig = px.box(data, x='Vehicle_Type',\n",
        "             y='Historical_Cost_of_Ride',\n",
        "             title='Historical Cost of Ride Distribution by Vehicle Type')\n",
        "fig.show()"
      ],
      "metadata": {
        "colab": {
          "base_uri": "https://localhost:8080/",
          "height": 542
        },
        "id": "nLVCFqJwVVla",
        "outputId": "42a4ab17-930d-4349-bf3d-da11f682be3e"
      },
      "execution_count": 64,
      "outputs": [
        {
          "output_type": "display_data",
          "data": {
            "text/html": [
              "<html>\n",
              "<head><meta charset=\"utf-8\" /></head>\n",
              "<body>\n",
              "    <div>            <script src=\"https://cdnjs.cloudflare.com/ajax/libs/mathjax/2.7.5/MathJax.js?config=TeX-AMS-MML_SVG\"></script><script type=\"text/javascript\">if (window.MathJax && window.MathJax.Hub && window.MathJax.Hub.Config) {window.MathJax.Hub.Config({SVG: {font: \"STIX-Web\"}});}</script>                <script type=\"text/javascript\">window.PlotlyConfig = {MathJaxConfig: 'local'};</script>\n",
              "        <script charset=\"utf-8\" src=\"https://cdn.plot.ly/plotly-2.24.1.min.js\"></script>                <div id=\"3ff1c3d3-fb8d-4ccf-bd0b-b5a5b9873443\" class=\"plotly-graph-div\" style=\"height:525px; width:100%;\"></div>            <script type=\"text/javascript\">                                    window.PLOTLYENV=window.PLOTLYENV || {};                                    if (document.getElementById(\"3ff1c3d3-fb8d-4ccf-bd0b-b5a5b9873443\")) {                    Plotly.newPlot(                        \"3ff1c3d3-fb8d-4ccf-bd0b-b5a5b9873443\",                        [{\"alignmentgroup\":\"True\",\"hovertemplate\":\"Vehicle_Type=%{x}\\u003cbr\\u003eHistorical_Cost_of_Ride=%{y}\\u003cextra\\u003e\\u003c\\u002fextra\\u003e\",\"legendgroup\":\"\",\"marker\":{\"color\":\"#636efa\"},\"name\":\"\",\"notched\":false,\"offsetgroup\":\"\",\"orientation\":\"v\",\"showlegend\":false,\"x\":[\"Premium\",\"Economy\",\"Premium\",\"Premium\",\"Economy\",\"Economy\",\"Premium\",\"Premium\",\"Economy\",\"Premium\",\"Economy\",\"Premium\",\"Economy\",\"Premium\",\"Premium\",\"Premium\",\"Premium\",\"Economy\",\"Premium\",\"Premium\",\"Premium\",\"Economy\",\"Economy\",\"Premium\",\"Premium\",\"Economy\",\"Premium\",\"Economy\",\"Premium\",\"Premium\",\"Premium\",\"Premium\",\"Premium\",\"Premium\",\"Economy\",\"Premium\",\"Premium\",\"Premium\",\"Economy\",\"Premium\",\"Premium\",\"Economy\",\"Economy\",\"Premium\",\"Premium\",\"Economy\",\"Premium\",\"Premium\",\"Economy\",\"Economy\",\"Economy\",\"Economy\",\"Economy\",\"Premium\",\"Premium\",\"Premium\",\"Economy\",\"Premium\",\"Economy\",\"Economy\",\"Economy\",\"Premium\",\"Premium\",\"Premium\",\"Economy\",\"Premium\",\"Economy\",\"Economy\",\"Economy\",\"Premium\",\"Economy\",\"Economy\",\"Premium\",\"Premium\",\"Economy\",\"Economy\",\"Economy\",\"Economy\",\"Premium\",\"Premium\",\"Premium\",\"Premium\",\"Economy\",\"Premium\",\"Economy\",\"Premium\",\"Economy\",\"Premium\",\"Economy\",\"Economy\",\"Premium\",\"Premium\",\"Premium\",\"Premium\",\"Economy\",\"Premium\",\"Economy\",\"Economy\",\"Premium\",\"Economy\",\"Economy\",\"Economy\",\"Premium\",\"Premium\",\"Premium\",\"Premium\",\"Economy\",\"Economy\",\"Premium\",\"Premium\",\"Economy\",\"Economy\",\"Premium\",\"Premium\",\"Economy\",\"Premium\",\"Economy\",\"Premium\",\"Premium\",\"Economy\",\"Premium\",\"Economy\",\"Economy\",\"Premium\",\"Premium\",\"Premium\",\"Premium\",\"Economy\",\"Premium\",\"Premium\",\"Economy\",\"Economy\",\"Economy\",\"Economy\",\"Economy\",\"Premium\",\"Economy\",\"Premium\",\"Economy\",\"Premium\",\"Economy\",\"Economy\",\"Economy\",\"Economy\",\"Economy\",\"Premium\",\"Premium\",\"Economy\",\"Premium\",\"Economy\",\"Economy\",\"Economy\",\"Premium\",\"Premium\",\"Economy\",\"Economy\",\"Premium\",\"Premium\",\"Premium\",\"Premium\",\"Economy\",\"Premium\",\"Economy\",\"Economy\",\"Economy\",\"Economy\",\"Economy\",\"Premium\",\"Economy\",\"Premium\",\"Economy\",\"Economy\",\"Premium\",\"Economy\",\"Economy\",\"Economy\",\"Economy\",\"Economy\",\"Economy\",\"Economy\",\"Economy\",\"Economy\",\"Premium\",\"Premium\",\"Premium\",\"Economy\",\"Premium\",\"Premium\",\"Premium\",\"Premium\",\"Premium\",\"Premium\",\"Economy\",\"Premium\",\"Premium\",\"Economy\",\"Economy\",\"Economy\",\"Economy\",\"Premium\",\"Premium\",\"Economy\",\"Premium\",\"Premium\",\"Economy\",\"Economy\",\"Premium\",\"Premium\",\"Premium\",\"Economy\",\"Economy\",\"Premium\",\"Premium\",\"Economy\",\"Premium\",\"Premium\",\"Economy\",\"Economy\",\"Economy\",\"Economy\",\"Economy\",\"Premium\",\"Economy\",\"Premium\",\"Economy\",\"Premium\",\"Premium\",\"Premium\",\"Economy\",\"Premium\",\"Premium\",\"Premium\",\"Economy\",\"Premium\",\"Economy\",\"Economy\",\"Economy\",\"Economy\",\"Premium\",\"Economy\",\"Premium\",\"Premium\",\"Economy\",\"Economy\",\"Premium\",\"Premium\",\"Economy\",\"Economy\",\"Premium\",\"Premium\",\"Premium\",\"Premium\",\"Premium\",\"Economy\",\"Premium\",\"Premium\",\"Premium\",\"Premium\",\"Premium\",\"Premium\",\"Economy\",\"Economy\",\"Economy\",\"Economy\",\"Premium\",\"Premium\",\"Economy\",\"Premium\",\"Premium\",\"Premium\",\"Economy\",\"Premium\",\"Premium\",\"Premium\",\"Premium\",\"Premium\",\"Premium\",\"Premium\",\"Premium\",\"Economy\",\"Economy\",\"Premium\",\"Economy\",\"Premium\",\"Premium\",\"Premium\",\"Premium\",\"Economy\",\"Economy\",\"Economy\",\"Economy\",\"Economy\",\"Premium\",\"Economy\",\"Economy\",\"Economy\",\"Premium\",\"Premium\",\"Premium\",\"Economy\",\"Premium\",\"Economy\",\"Premium\",\"Economy\",\"Premium\",\"Premium\",\"Economy\",\"Premium\",\"Economy\",\"Premium\",\"Economy\",\"Premium\",\"Economy\",\"Economy\",\"Economy\",\"Premium\",\"Economy\",\"Economy\",\"Premium\",\"Premium\",\"Premium\",\"Premium\",\"Premium\",\"Economy\",\"Premium\",\"Premium\",\"Premium\",\"Premium\",\"Premium\",\"Economy\",\"Economy\",\"Premium\",\"Premium\",\"Premium\",\"Economy\",\"Premium\",\"Economy\",\"Premium\",\"Premium\",\"Premium\",\"Economy\",\"Economy\",\"Premium\",\"Premium\",\"Economy\",\"Economy\",\"Economy\",\"Premium\",\"Premium\",\"Premium\",\"Premium\",\"Premium\",\"Premium\",\"Premium\",\"Economy\",\"Economy\",\"Economy\",\"Premium\",\"Economy\",\"Premium\",\"Economy\",\"Premium\",\"Premium\",\"Economy\",\"Economy\",\"Premium\",\"Economy\",\"Premium\",\"Economy\",\"Economy\",\"Premium\",\"Premium\",\"Premium\",\"Economy\",\"Premium\",\"Premium\",\"Economy\",\"Economy\",\"Economy\",\"Economy\",\"Premium\",\"Economy\",\"Premium\",\"Economy\",\"Premium\",\"Premium\",\"Economy\",\"Premium\",\"Premium\",\"Economy\",\"Economy\",\"Economy\",\"Premium\",\"Premium\",\"Economy\",\"Economy\",\"Economy\",\"Economy\",\"Economy\",\"Economy\",\"Premium\",\"Premium\",\"Premium\",\"Economy\",\"Premium\",\"Economy\",\"Economy\",\"Economy\",\"Economy\",\"Premium\",\"Economy\",\"Premium\",\"Economy\",\"Premium\",\"Economy\",\"Premium\",\"Economy\",\"Premium\",\"Premium\",\"Premium\",\"Premium\",\"Economy\",\"Premium\",\"Economy\",\"Premium\",\"Economy\",\"Economy\",\"Economy\",\"Premium\",\"Economy\",\"Premium\",\"Economy\",\"Economy\",\"Premium\",\"Premium\",\"Premium\",\"Premium\",\"Premium\",\"Premium\",\"Economy\",\"Economy\",\"Premium\",\"Economy\",\"Economy\",\"Premium\",\"Premium\",\"Premium\",\"Economy\",\"Economy\",\"Premium\",\"Premium\",\"Economy\",\"Economy\",\"Economy\",\"Economy\",\"Premium\",\"Premium\",\"Premium\",\"Premium\",\"Premium\",\"Economy\",\"Premium\",\"Premium\",\"Premium\",\"Economy\",\"Economy\",\"Economy\",\"Economy\",\"Economy\",\"Economy\",\"Premium\",\"Premium\",\"Premium\",\"Economy\",\"Premium\",\"Premium\",\"Premium\",\"Economy\",\"Economy\",\"Economy\",\"Economy\",\"Premium\",\"Economy\",\"Premium\",\"Economy\",\"Premium\",\"Economy\",\"Premium\",\"Premium\",\"Economy\",\"Economy\",\"Premium\",\"Premium\",\"Economy\",\"Economy\",\"Premium\",\"Economy\",\"Premium\",\"Premium\",\"Premium\",\"Economy\",\"Economy\",\"Economy\",\"Premium\",\"Premium\",\"Economy\",\"Economy\",\"Economy\",\"Premium\",\"Premium\",\"Economy\",\"Premium\",\"Premium\",\"Premium\",\"Premium\",\"Economy\",\"Premium\",\"Premium\",\"Premium\",\"Economy\",\"Premium\",\"Economy\",\"Premium\",\"Premium\",\"Premium\",\"Economy\",\"Economy\",\"Economy\",\"Premium\",\"Premium\",\"Economy\",\"Economy\",\"Economy\",\"Economy\",\"Premium\",\"Premium\",\"Economy\",\"Economy\",\"Economy\",\"Economy\",\"Economy\",\"Premium\",\"Economy\",\"Premium\",\"Economy\",\"Economy\",\"Economy\",\"Economy\",\"Economy\",\"Economy\",\"Premium\",\"Economy\",\"Economy\",\"Premium\",\"Economy\",\"Economy\",\"Economy\",\"Economy\",\"Economy\",\"Premium\",\"Premium\",\"Economy\",\"Economy\",\"Economy\",\"Economy\",\"Premium\",\"Economy\",\"Economy\",\"Premium\",\"Premium\",\"Economy\",\"Economy\",\"Premium\",\"Economy\",\"Economy\",\"Economy\",\"Economy\",\"Premium\",\"Premium\",\"Economy\",\"Economy\",\"Economy\",\"Economy\",\"Premium\",\"Economy\",\"Premium\",\"Economy\",\"Economy\",\"Premium\",\"Economy\",\"Economy\",\"Economy\",\"Premium\",\"Economy\",\"Premium\",\"Economy\",\"Premium\",\"Economy\",\"Premium\",\"Economy\",\"Economy\",\"Premium\",\"Economy\",\"Premium\",\"Premium\",\"Premium\",\"Premium\",\"Economy\",\"Economy\",\"Premium\",\"Premium\",\"Economy\",\"Economy\",\"Premium\",\"Premium\",\"Economy\",\"Economy\",\"Premium\",\"Economy\",\"Premium\",\"Economy\",\"Premium\",\"Economy\",\"Premium\",\"Premium\",\"Premium\",\"Economy\",\"Economy\",\"Premium\",\"Economy\",\"Economy\",\"Premium\",\"Premium\",\"Economy\",\"Premium\",\"Economy\",\"Economy\",\"Premium\",\"Premium\",\"Premium\",\"Premium\",\"Economy\",\"Premium\",\"Premium\",\"Premium\",\"Premium\",\"Premium\",\"Economy\",\"Premium\",\"Economy\",\"Economy\",\"Premium\",\"Economy\",\"Premium\",\"Economy\",\"Economy\",\"Economy\",\"Economy\",\"Economy\",\"Economy\",\"Premium\",\"Premium\",\"Premium\",\"Premium\",\"Economy\",\"Premium\",\"Premium\",\"Economy\",\"Premium\",\"Economy\",\"Premium\",\"Economy\",\"Economy\",\"Premium\",\"Premium\",\"Economy\",\"Economy\",\"Economy\",\"Economy\",\"Economy\",\"Economy\",\"Premium\",\"Premium\",\"Economy\",\"Economy\",\"Economy\",\"Premium\",\"Premium\",\"Premium\",\"Premium\",\"Economy\",\"Economy\",\"Economy\",\"Premium\",\"Premium\",\"Economy\",\"Economy\",\"Economy\",\"Economy\",\"Premium\",\"Premium\",\"Economy\",\"Economy\",\"Premium\",\"Economy\",\"Economy\",\"Premium\",\"Premium\",\"Premium\",\"Economy\",\"Premium\",\"Premium\",\"Premium\",\"Economy\",\"Economy\",\"Premium\",\"Premium\",\"Economy\",\"Premium\",\"Premium\",\"Premium\",\"Premium\",\"Economy\",\"Premium\",\"Economy\",\"Economy\",\"Premium\",\"Economy\",\"Premium\",\"Premium\",\"Economy\",\"Premium\",\"Premium\",\"Economy\",\"Premium\",\"Economy\",\"Premium\",\"Economy\",\"Premium\",\"Premium\",\"Premium\",\"Premium\",\"Economy\",\"Premium\",\"Premium\",\"Premium\",\"Economy\",\"Premium\",\"Economy\",\"Premium\",\"Premium\",\"Premium\",\"Economy\",\"Economy\",\"Premium\",\"Economy\",\"Economy\",\"Premium\",\"Economy\",\"Premium\",\"Premium\",\"Economy\",\"Premium\",\"Premium\",\"Premium\",\"Premium\",\"Economy\",\"Premium\",\"Premium\",\"Economy\",\"Economy\",\"Economy\",\"Economy\",\"Economy\",\"Economy\",\"Premium\",\"Economy\",\"Economy\",\"Economy\",\"Economy\",\"Premium\",\"Economy\",\"Premium\",\"Premium\",\"Economy\",\"Premium\",\"Premium\",\"Economy\",\"Economy\",\"Premium\",\"Premium\",\"Economy\",\"Economy\",\"Premium\",\"Premium\",\"Premium\",\"Premium\",\"Premium\",\"Premium\",\"Economy\",\"Premium\",\"Premium\",\"Premium\",\"Economy\",\"Premium\",\"Premium\",\"Premium\",\"Economy\",\"Premium\",\"Premium\",\"Economy\",\"Premium\",\"Economy\",\"Economy\",\"Premium\",\"Economy\",\"Premium\",\"Economy\",\"Premium\",\"Economy\",\"Premium\",\"Economy\",\"Economy\",\"Economy\",\"Premium\",\"Economy\",\"Premium\",\"Premium\",\"Premium\",\"Premium\",\"Economy\",\"Economy\",\"Premium\",\"Premium\",\"Premium\",\"Premium\",\"Economy\",\"Premium\",\"Economy\",\"Economy\",\"Premium\",\"Premium\",\"Premium\",\"Economy\",\"Premium\",\"Economy\",\"Premium\",\"Premium\",\"Economy\",\"Economy\",\"Premium\",\"Premium\",\"Economy\",\"Premium\",\"Economy\",\"Economy\",\"Premium\",\"Economy\",\"Premium\",\"Premium\",\"Premium\",\"Premium\",\"Economy\",\"Premium\",\"Premium\",\"Economy\",\"Economy\",\"Premium\",\"Economy\",\"Premium\",\"Premium\",\"Premium\",\"Economy\",\"Economy\",\"Premium\",\"Premium\",\"Economy\",\"Economy\",\"Premium\",\"Premium\",\"Premium\",\"Economy\",\"Premium\",\"Premium\",\"Economy\",\"Premium\",\"Economy\",\"Premium\",\"Premium\",\"Premium\",\"Premium\",\"Premium\",\"Premium\",\"Premium\",\"Premium\",\"Economy\",\"Premium\",\"Economy\",\"Economy\",\"Economy\",\"Premium\",\"Premium\",\"Premium\",\"Economy\",\"Economy\",\"Premium\",\"Premium\",\"Premium\",\"Premium\",\"Premium\",\"Premium\",\"Premium\",\"Economy\",\"Economy\",\"Economy\",\"Economy\",\"Premium\",\"Premium\",\"Economy\",\"Economy\",\"Economy\",\"Economy\",\"Economy\",\"Economy\",\"Economy\",\"Premium\",\"Economy\",\"Premium\",\"Economy\",\"Economy\",\"Economy\",\"Premium\",\"Economy\",\"Premium\",\"Premium\",\"Premium\",\"Premium\",\"Premium\",\"Premium\",\"Premium\",\"Economy\",\"Premium\",\"Economy\",\"Premium\",\"Premium\",\"Economy\",\"Premium\",\"Economy\",\"Premium\",\"Premium\",\"Premium\",\"Economy\",\"Premium\",\"Economy\",\"Premium\",\"Premium\",\"Economy\",\"Economy\",\"Economy\",\"Economy\",\"Economy\",\"Economy\",\"Premium\",\"Premium\",\"Economy\",\"Premium\",\"Economy\",\"Premium\",\"Premium\",\"Premium\",\"Premium\",\"Economy\",\"Premium\",\"Economy\",\"Premium\",\"Economy\",\"Economy\",\"Economy\",\"Economy\",\"Economy\",\"Economy\",\"Economy\",\"Premium\",\"Premium\",\"Premium\",\"Economy\",\"Premium\",\"Premium\",\"Economy\",\"Economy\",\"Economy\",\"Economy\",\"Premium\",\"Economy\",\"Premium\",\"Premium\",\"Premium\",\"Premium\",\"Premium\",\"Economy\"],\"x0\":\" \",\"xaxis\":\"x\",\"y\":[284.25727302188227,173.87475274940766,329.7954689622466,470.2012317513198,579.6814223640141,339.9553606047221,104.06154127359152,235.81186355605,501.4125174833056,398.9933645706103,669.2986264658781,414.9901047325251,490.41072171830416,296.24287599192223,327.0888648717375,445.1368684239125,244.5361718306458,47.31430863361691,129.8082629093964,382.9481103198511,82.77279318243978,64.07117255500656,390.6687658288554,212.16652497375452,235.65813370551408,406.5574980533908,182.4744270596517,652.617297300081,403.22709836941993,537.7848594528473,286.13145256368455,485.0546633356366,171.0859835160851,485.8784537318511,294.7328864777875,392.83872040801793,456.1809467866996,502.5293207873477,244.21766165291973,634.7265312250814,345.40676830595487,151.15212964816465,530.7599938912294,482.85016419959805,355.9595074862448,303.9609626071891,514.8771742414517,361.13235495172165,80.26246462184758,420.6239113101238,520.8926706123274,183.07579104191225,190.13746358777752,522.3021028701461,410.6863449474928,584.9958711291002,301.62262644973293,413.5870840445325,273.11810461931896,247.1745626508575,213.4432507972432,295.79438015283176,145.0698091748401,297.0186264188845,666.6870291344428,449.5456339145253,624.9860100296204,96.03520851587072,637.7593915947267,295.5887110300315,353.33854512223814,62.25429041832141,266.0685899337195,340.1282671016029,443.258155352454,265.05527443495566,221.4343854791753,393.2308288248255,151.58040412487964,313.9950046053331,366.1515260551269,425.97356882411634,359.0531279855558,260.34417984860374,320.30170917475425,454.49212153190336,45.11502370436019,223.6621142931812,173.1577542620492,592.240499627505,379.3078104185831,360.7111703191874,203.49261837786293,553.5451307734787,283.46644254307614,435.14534513079855,685.7681264991488,630.8608868741742,546.1568747653598,115.35700254441711,404.0498951423794,156.03832988580584,501.26295506529306,562.4369764527329,216.8024750869831,120.09069016935676,221.1576532597614,492.7012709061221,754.2344800100251,211.52772882563164,460.75927538572495,164.10747354764283,213.6962129956236,732.9893961300692,350.6012026111729,192.8798062051633,294.11580585015537,82.52418774801069,386.169069413996,310.9003272621974,373.96284065200393,221.55110013131716,531.1127009643968,324.9426389036563,493.4068923175674,778.6333560141928,720.1572085631501,38.23523523879646,573.5891064527985,682.016246966075,516.4367273015673,492.5196024192815,49.234784001519046,506.6928860981053,304.3133394836575,111.179341237614,163.21458328772866,402.856989480614,289.2351908680133,150.53929481479082,194.93555934032696,674.6485035775572,551.5572340398235,132.2147645898824,70.11182411078714,346.2847096470098,102.04473025177862,494.1401793052489,183.658314681842,436.5576476487414,31.362081322241885,323.4791093139413,505.3840569466695,320.8576215627125,214.5660524456202,758.5015334295354,665.7295341217325,171.06636292972274,647.3526381087524,608.1282399929386,246.92292493661097,430.0665305032927,396.6387527092545,436.0114486061054,202.9454568505992,731.7816872483901,216.05054809363543,83.86835620425342,572.2420492964254,118.8070474355678,245.8935711917164,387.1117403297744,507.9505746530285,249.302974601016,45.91711193197189,424.6120578300381,85.97357530080251,328.9669925908357,172.62943414987132,261.9435328532634,199.0416803252397,232.2834549147445,185.311838106628,153.76143970087224,126.4771352873347,609.5038276051239,287.1624375675698,406.32480651562713,249.03711265544783,620.9016915662245,267.0607016773296,715.7547930992089,430.385487919734,604.273047008686,243.5250631593867,176.2144067384048,471.4796320940979,453.3769493913552,251.1073064574406,521.8019208244536,346.4926515319707,234.0714535105622,184.0244513007148,554.8869659163038,192.61977241404605,227.796524806166,416.601648993299,671.7128294096442,552.6397714448676,321.37240510655704,215.4338699200544,758.9961232252967,694.4247148756359,617.3632185255483,328.63536897966003,376.3000600585162,70.20380336705749,451.6848649701074,301.40392677127403,153.39607111804412,339.66230419418656,733.4425366578176,203.8363809804033,284.5088586099128,492.1134583590864,86.19117981050438,727.8809447636283,158.65264164620277,44.52503661261306,452.4258268814717,152.64047921471024,420.2245689053783,151.35930066309265,242.27196569085137,119.0485543701777,472.56954081275165,334.6493506052282,406.0855256604135,551.365137615676,534.0181945871103,501.2363000548165,159.60691863182956,359.8010509571677,348.6695624527248,490.5040759704239,485.683239513509,424.9275101964327,40.442890652890384,258.424915281181,511.929390993806,441.74670095471794,175.5180543386476,658.5834276725151,299.2909931126892,494.8027992189699,223.51901195083732,434.5710508212173,630.4284012724294,445.1254111184949,361.98552095653855,267.28219711727195,518.9547629602604,575.4934491747886,349.4432162449335,279.2349662242834,689.7483154802385,88.76294359232648,621.7963494961118,307.621949405299,172.41053126646165,444.2453020895959,556.8967118375435,355.3245754797394,474.99773906008016,581.9712306098094,663.4393972369916,519.469492374694,397.6919501475396,388.1122298927073,591.1000759572743,586.7988633141081,648.9097429236178,746.3391324597457,555.0976877626003,417.91314129159,97.80093621671637,193.0891119987856,492.4640116460618,408.81562882076287,364.1617948077249,228.64349787316,667.9464280068869,410.34270896598935,710.4192641684332,177.20306582722415,74.32837977574499,392.3027600530253,168.61019430479575,587.2581373063812,563.9803272683639,352.3474982568331,415.3075369486595,204.215843297379,319.6520700676685,362.05333073474793,387.4755378090192,348.8532987245396,732.2985126943609,343.6721333865543,599.7162532373392,484.75453888236336,581.1514565564086,603.3651642705413,369.8546414878244,708.8801421484817,205.83755050869485,684.5607033083106,453.2541298779704,412.5848379812361,440.4442377359072,241.6407113776789,201.29253189374316,220.05114029296504,702.9134159653358,431.42166025583447,466.8626810645626,445.1263611668488,441.6378571357946,669.5210116683382,354.3852115042604,489.7125242986789,222.56858200356248,412.2556067980849,472.21573527678265,179.93988033973832,308.9111533232364,306.3142432341152,224.46487829301583,101.07378646994935,633.4966221375331,62.87509273644356,92.03104706108972,106.7358926414302,560.6703257140985,322.9000694955284,292.33936093553586,242.75171700488076,442.7796305981407,505.54671645728143,474.9171617926677,617.434678434942,294.8553699465021,717.467322019467,266.9772170141728,383.3711770715268,266.4336179135411,336.39439243010713,764.8593556145701,588.6941797749441,305.2426676647312,256.37380365626416,461.0193485856391,581.7472844259253,472.5465909334413,573.4835718398938,192.3850221961644,744.0359811402852,412.25746306035046,189.5605649707772,357.0434721850994,417.1740953777763,314.84471031916905,629.9546011362719,473.5617540035448,317.88095784682014,132.49921949173307,430.7858509781543,350.2265835541767,466.42747932165264,651.7303890276737,266.34807324582846,266.38537677090085,303.803226426852,461.9661913503604,201.0575405594342,94.21444738997974,546.8574476673242,292.74683013160404,150.90603765991335,534.90663340905,315.2654030422818,601.2360266422271,701.4695729515377,392.0078846224547,331.8375249153692,307.5259290756184,68.27174499943663,765.4397485645513,168.36628924698925,351.7736189685264,363.3457529659053,201.7146762833217,121.43999901863724,598.7750233051204,371.1242881043308,173.66696747925593,538.5185280064754,281.9625670059949,258.01445968829404,476.2019961536034,124.64550323605349,111.11271494112724,421.8171879075184,134.0510144913575,132.4032477391118,547.9814624298182,281.96824577029594,182.46632143825187,313.7742265682814,422.8866610257602,529.6967147126813,25.993449448411635,351.5699575243088,154.68715967826247,106.59208227583191,132.1665679180113,76.224961221763,598.9400399823005,563.1508995670627,310.1546162756803,145.13756861567325,323.5576857599395,31.565676162125197,144.46263762346956,252.4930471020809,146.51277441611944,501.801349985356,610.7325514755008,194.26239936468437,318.2101259853132,512.6251102173163,555.8919187631545,242.15886076969636,41.40499127744981,180.88655372559683,537.8971058809161,556.6629286327259,158.5563431447304,59.4454065021933,334.1449975015087,443.7750198288772,145.24203735141535,210.6317666138125,152.22919256822726,612.446726848697,250.28588237277447,309.08254473187293,94.1609176991503,243.93730652889337,331.19305388667465,595.2312211886215,465.962681649944,104.75201005936664,784.0551260339382,382.9299378688001,319.2967130915861,640.1373391067773,243.4933853851045,135.005874109167,392.9639432866157,617.2885000560723,310.7883994951958,770.0708908209459,373.50470759834695,814.4195559447121,473.34669329802574,266.76777889406367,369.36165888010754,111.72394123957052,429.94835612457183,414.77830030238334,227.1825700126456,247.4420018201041,213.8232968736634,652.5878909594384,289.6463054085282,123.762469326047,292.5906288976858,440.93951077757487,298.3226183929867,629.2044295696749,441.99619244539696,691.5012905566776,106.94859059241988,561.4385219871201,328.45835687553256,133.38738314122594,114.6992021313152,237.14338896943255,157.10657171647188,431.251597706785,585.8075881778408,647.204374917644,559.578839787104,173.1505322724627,198.17046750812372,192.7088692483722,165.0758241756551,379.4680328899806,461.10955384851616,234.5672445982206,540.0620306756346,318.8415033130425,196.31514152174805,622.4914304114809,349.6745279402746,206.1473318707726,635.9330544824535,251.1121418065252,324.098767437868,425.4887347951667,470.2690237026412,398.051725971793,564.9317250247195,238.31899146487595,184.9552256292673,624.305615960136,389.3845083155804,574.8939389332888,517.9444619823878,527.1792011771714,201.49683080394215,627.0167510146084,218.6251778894482,654.676536309137,293.5602166445157,421.98526198279467,553.7408048680613,330.62430999065225,261.4451502998812,520.0637873298249,117.63327810103034,493.0149508584995,203.1132957396489,421.7762985074602,305.0088858607341,317.77188818101894,364.9140560714328,398.3194964103068,461.3060120664082,358.2348071386952,224.3071067625652,558.3815496134125,660.4425622593634,537.4486716625657,480.104370355134,162.28310451017555,638.0445145215127,420.1110979571745,124.49060049402551,235.27811761739352,127.33149010162909,391.0269903920518,319.5430197104816,380.2853707615285,179.62342246641472,452.112640122952,565.6691466337952,402.1558775823215,689.8421599513094,307.6469280930268,186.5262770863605,91.06777716361007,143.8549860520897,553.837359075948,336.56848365859423,95.02020685904614,575.0117219060105,264.675747588135,185.61792391524813,251.1556502722435,299.689056274687,92.65681121424488,332.2293764400841,184.11208970364285,124.5817744544144,60.98181721983856,35.88598786056829,132.12301879164062,561.5796822292014,546.3787898746884,147.4597413359118,668.8922140357987,62.06928479024478,477.7411361723483,411.0057654245888,650.2985711974341,243.22861759627588,680.9330686248741,432.30725774113824,720.729944900258,510.4543750320455,522.7974318549136,432.16279228896633,382.4570671338528,351.43931589566165,510.19578633034166,313.92644056486665,372.2298219510593,314.46800852423786,491.5779538643877,527.1558943563921,432.849396942834,544.6027807887253,470.18271352951473,53.5391040086766,352.0685727015968,396.3698341114785,367.7829980600229,352.9356730761453,339.1055825696459,347.8959667426787,469.2509135918648,213.8430201203033,567.5392184514062,492.179013222281,173.88747446193491,418.10682439062094,658.3040013013618,764.5953413909641,384.2092919756728,404.6018875393623,446.81702579708536,158.1067231747087,284.2362895344896,591.2989763287625,36.00027803358747,581.1370845965885,588.1367698544636,400.2673330229722,575.4102708388258,190.9788526811355,398.1593839328215,770.8733244527833,211.0820229741896,618.4288567281086,739.2271199769044,128.7410738814351,584.4917299915722,328.31398217312767,274.6803754439265,108.2430435427408,181.78093960037765,405.317954516569,775.7916851510323,289.1296809487768,674.132847635612,479.11995337350106,676.4404324115253,54.44953818628992,267.7404170012178,445.4842486108808,210.25675967194184,603.8458024755097,464.9915827255092,514.9363491532515,450.5387531372676,741.3443926126964,631.6312970255759,71.21364105240121,144.60138253530263,505.92196882791006,726.3339146351499,283.4132787585248,148.18648820169864,158.59209307103367,57.89462608061131,142.5577269374603,359.128113102171,407.5520587692045,487.3991192361553,89.61312852216915,510.6580782397596,171.6271185714875,520.5653406452625,458.096326804516,530.1491563778454,200.2582591219043,128.0167601925525,836.1164185613576,471.0890518884983,50.6401755820817,263.1611767019543,524.1655595085831,330.2265438250878,212.7407519371268,48.92895253547415,734.3951190125542,281.33950234360725,476.28985780068655,490.3421583214189,363.4447759027239,49.83993575677632,516.8295590439432,262.6864663772181,423.5098573724167,373.975635759196,184.24294467848267,319.11098294212263,549.2008068168793,427.8571629452071,164.316390505398,638.1340201838489,131.44358716419623,55.6373707994896,467.92749485577286,120.24719290813758,374.65518279544045,269.44414015954374,685.6696935694298,528.0024896243917,812.0729938599545,118.97305838669006,406.5899107855241,134.77582951421903,343.79851998722387,460.2837624776103,306.390461217286,251.4211394087152,614.63671317069,231.1651667910225,117.76366453355408,253.4912438007839,404.5983991889042,135.1772701347079,360.8585507409454,231.3263184773236,286.409294385432,508.7118174567975,721.7212691270341,552.2693747461685,510.62689141008207,415.9794524398186,660.0597080304599,644.0445755475266,710.884313751738,478.20015364109577,744.4180991800615,478.7697584495512,104.0560727191975,486.1839276370279,657.0936874279021,96.3007413779792,609.9082747031204,502.1012063441772,465.719058488387,308.43591786214927,806.0212701919081,576.9675719994219,284.2944207006542,478.3662772118347,119.4823999754907,532.5097779421501,291.9008795114952,707.8553931548287,435.7154538108565,504.0841142440527,497.3770093020007,460.8002858653508,272.4960775620536,246.9535423209308,482.7422075016093,205.495759583372,531.6062153403296,550.9983736824666,396.9586997774456,318.2115758092651,427.0550612068028,448.31285347772814,455.4083398759809,179.17081970350634,104.18588264010208,91.67748868757226,264.08573637935564,424.65693227127065,218.9504185416184,248.1703336422785,422.4367392307234,280.5240756909656,565.9834811108678,828.2131345744126,132.84680584297232,86.17345483820148,545.3868063047398,531.0619846358322,108.6023564641184,462.66304412150464,254.9510771161675,271.0126649576171,424.48842846396354,151.77728650517233,383.0749064097095,97.78450586126137,119.59407325541466,126.57277068445282,829.5343798843528,418.815349545453,233.21310275336955,701.141472496938,388.72966746525947,528.60807288888,382.03843862699455,587.331264277609,167.7398193291184,304.8360144837103,354.1540979676975,250.4603273046531,495.2197782062817,301.5483736351267,433.03454356764814,671.4712089285143,49.71329085631081,408.129769999122,329.4837131421355,383.3178042225475,313.06815696851334,706.6896358975697,142.6153122038585,708.8224028092762,593.065918046481,604.3834014812801,100.2582627032478,685.7612504810801,446.41301231617626,291.107936848218,193.64239387562827,304.52612995371493,386.834933294766,230.83258579661484,333.9106726820272,353.8098038704909,293.19813425701705,447.083068843808,584.888884974888,488.1872511532145,246.7577555097292,312.1731588463509,576.281119337865,381.391205400882,543.7702542024564,472.5224037960476,286.05897011629656,88.95619552388446,646.9811778631195,292.9246564000302,395.769846813748,279.6798100890559,192.50297743378897,351.77029329216225,555.4019371049674,395.3781570382596,261.5103067801241,397.5648404411393,735.2764383329761,289.4570095389695,97.6750013649232,197.46392160702555,762.8822843495781,512.44939271165,484.4661863877365,353.01840875622844,539.7316715337728,114.16365482248573,521.4080460440558,450.3878805106937,82.69156896202661,34.57409278115731,535.1718879088473,333.4011668412356,179.8388198801664,241.9912178461052,369.3803924019288,704.3001292247022,466.9720738288303,41.12164471941277,404.02979977887577,423.75441798529033,165.72466245477892,578.8213877560842,707.4493979183783,542.8095730212775,513.9900766589533,298.3556200090825,183.2701656673754,468.3069201504469,220.4983368386397,265.94661511348426,311.4894374116108,647.8477765247827,383.9141419544756,557.916185756397,228.7960083986281,237.76862211931405,297.0874038526085,794.3231511066332,563.8497971641384,339.2870734791633,248.9476553705649,279.2686999169939,145.04223833476908,241.8259564507362,430.60985477056624,219.99370680056552,366.7282586383836,356.8814026432877,441.4714772887345,230.1431447581205,158.89198003545,766.9193242115463,466.7229822330101,233.50662384935427,104.1037337805616,38.33576819209958,761.0167600703148,284.8625062809567,216.06019585156733,39.37370119886104,471.7821019342959,508.6730024657942,95.11851081754354,735.1444900755255,456.60307303079816,122.24187517858556,599.8171406236374,438.5186068324803,516.1330392078827,397.4831040703401,317.8400260939533,330.78364034759613,743.3166378180009,274.1712773124912,462.4075929220183,533.0802632142761,143.2178421949143,574.9456425421428,215.741761640662,129.7685299495176,321.0007657787772,172.59277503910292,455.20978516158993,199.8397440906976,281.0970650985199,413.54800185803066,134.09432585149492,378.50396161301137,162.05358553352147,513.1161277813304,308.6385554813678,239.08854651007988,562.1650160715976,467.0198948894929,327.43334173812747,332.0936161256213,457.0853188522962,552.8162271192283,281.0521288708149,288.3451530321269,666.8242060496077,436.0192372930386,248.22030676592635,493.2338839519256,291.5110820764234,459.0606514814432,603.9358824371426,502.6040622268877,74.78832688768996,126.23081147979764,319.94237960548924,207.61291922267668,304.74417790488224,481.7658793191911,83.3353748167845,513.6451022177532,561.374877548703,516.51117285383,666.4286805847338,573.2085393656391,283.7979251507492,66.78323718712389,289.2390324634591,147.42638660593482,552.2304431046015,632.5601419476765,494.7452574847764,118.98653335805044,91.38952597435124,424.1559867017463,157.36483032789283,279.09504825213924,655.065105532243],\"y0\":\" \",\"yaxis\":\"y\",\"type\":\"box\"}],                        {\"template\":{\"data\":{\"histogram2dcontour\":[{\"type\":\"histogram2dcontour\",\"colorbar\":{\"outlinewidth\":0,\"ticks\":\"\"},\"colorscale\":[[0.0,\"#0d0887\"],[0.1111111111111111,\"#46039f\"],[0.2222222222222222,\"#7201a8\"],[0.3333333333333333,\"#9c179e\"],[0.4444444444444444,\"#bd3786\"],[0.5555555555555556,\"#d8576b\"],[0.6666666666666666,\"#ed7953\"],[0.7777777777777778,\"#fb9f3a\"],[0.8888888888888888,\"#fdca26\"],[1.0,\"#f0f921\"]]}],\"choropleth\":[{\"type\":\"choropleth\",\"colorbar\":{\"outlinewidth\":0,\"ticks\":\"\"}}],\"histogram2d\":[{\"type\":\"histogram2d\",\"colorbar\":{\"outlinewidth\":0,\"ticks\":\"\"},\"colorscale\":[[0.0,\"#0d0887\"],[0.1111111111111111,\"#46039f\"],[0.2222222222222222,\"#7201a8\"],[0.3333333333333333,\"#9c179e\"],[0.4444444444444444,\"#bd3786\"],[0.5555555555555556,\"#d8576b\"],[0.6666666666666666,\"#ed7953\"],[0.7777777777777778,\"#fb9f3a\"],[0.8888888888888888,\"#fdca26\"],[1.0,\"#f0f921\"]]}],\"heatmap\":[{\"type\":\"heatmap\",\"colorbar\":{\"outlinewidth\":0,\"ticks\":\"\"},\"colorscale\":[[0.0,\"#0d0887\"],[0.1111111111111111,\"#46039f\"],[0.2222222222222222,\"#7201a8\"],[0.3333333333333333,\"#9c179e\"],[0.4444444444444444,\"#bd3786\"],[0.5555555555555556,\"#d8576b\"],[0.6666666666666666,\"#ed7953\"],[0.7777777777777778,\"#fb9f3a\"],[0.8888888888888888,\"#fdca26\"],[1.0,\"#f0f921\"]]}],\"heatmapgl\":[{\"type\":\"heatmapgl\",\"colorbar\":{\"outlinewidth\":0,\"ticks\":\"\"},\"colorscale\":[[0.0,\"#0d0887\"],[0.1111111111111111,\"#46039f\"],[0.2222222222222222,\"#7201a8\"],[0.3333333333333333,\"#9c179e\"],[0.4444444444444444,\"#bd3786\"],[0.5555555555555556,\"#d8576b\"],[0.6666666666666666,\"#ed7953\"],[0.7777777777777778,\"#fb9f3a\"],[0.8888888888888888,\"#fdca26\"],[1.0,\"#f0f921\"]]}],\"contourcarpet\":[{\"type\":\"contourcarpet\",\"colorbar\":{\"outlinewidth\":0,\"ticks\":\"\"}}],\"contour\":[{\"type\":\"contour\",\"colorbar\":{\"outlinewidth\":0,\"ticks\":\"\"},\"colorscale\":[[0.0,\"#0d0887\"],[0.1111111111111111,\"#46039f\"],[0.2222222222222222,\"#7201a8\"],[0.3333333333333333,\"#9c179e\"],[0.4444444444444444,\"#bd3786\"],[0.5555555555555556,\"#d8576b\"],[0.6666666666666666,\"#ed7953\"],[0.7777777777777778,\"#fb9f3a\"],[0.8888888888888888,\"#fdca26\"],[1.0,\"#f0f921\"]]}],\"surface\":[{\"type\":\"surface\",\"colorbar\":{\"outlinewidth\":0,\"ticks\":\"\"},\"colorscale\":[[0.0,\"#0d0887\"],[0.1111111111111111,\"#46039f\"],[0.2222222222222222,\"#7201a8\"],[0.3333333333333333,\"#9c179e\"],[0.4444444444444444,\"#bd3786\"],[0.5555555555555556,\"#d8576b\"],[0.6666666666666666,\"#ed7953\"],[0.7777777777777778,\"#fb9f3a\"],[0.8888888888888888,\"#fdca26\"],[1.0,\"#f0f921\"]]}],\"mesh3d\":[{\"type\":\"mesh3d\",\"colorbar\":{\"outlinewidth\":0,\"ticks\":\"\"}}],\"scatter\":[{\"fillpattern\":{\"fillmode\":\"overlay\",\"size\":10,\"solidity\":0.2},\"type\":\"scatter\"}],\"parcoords\":[{\"type\":\"parcoords\",\"line\":{\"colorbar\":{\"outlinewidth\":0,\"ticks\":\"\"}}}],\"scatterpolargl\":[{\"type\":\"scatterpolargl\",\"marker\":{\"colorbar\":{\"outlinewidth\":0,\"ticks\":\"\"}}}],\"bar\":[{\"error_x\":{\"color\":\"#2a3f5f\"},\"error_y\":{\"color\":\"#2a3f5f\"},\"marker\":{\"line\":{\"color\":\"#E5ECF6\",\"width\":0.5},\"pattern\":{\"fillmode\":\"overlay\",\"size\":10,\"solidity\":0.2}},\"type\":\"bar\"}],\"scattergeo\":[{\"type\":\"scattergeo\",\"marker\":{\"colorbar\":{\"outlinewidth\":0,\"ticks\":\"\"}}}],\"scatterpolar\":[{\"type\":\"scatterpolar\",\"marker\":{\"colorbar\":{\"outlinewidth\":0,\"ticks\":\"\"}}}],\"histogram\":[{\"marker\":{\"pattern\":{\"fillmode\":\"overlay\",\"size\":10,\"solidity\":0.2}},\"type\":\"histogram\"}],\"scattergl\":[{\"type\":\"scattergl\",\"marker\":{\"colorbar\":{\"outlinewidth\":0,\"ticks\":\"\"}}}],\"scatter3d\":[{\"type\":\"scatter3d\",\"line\":{\"colorbar\":{\"outlinewidth\":0,\"ticks\":\"\"}},\"marker\":{\"colorbar\":{\"outlinewidth\":0,\"ticks\":\"\"}}}],\"scattermapbox\":[{\"type\":\"scattermapbox\",\"marker\":{\"colorbar\":{\"outlinewidth\":0,\"ticks\":\"\"}}}],\"scatterternary\":[{\"type\":\"scatterternary\",\"marker\":{\"colorbar\":{\"outlinewidth\":0,\"ticks\":\"\"}}}],\"scattercarpet\":[{\"type\":\"scattercarpet\",\"marker\":{\"colorbar\":{\"outlinewidth\":0,\"ticks\":\"\"}}}],\"carpet\":[{\"aaxis\":{\"endlinecolor\":\"#2a3f5f\",\"gridcolor\":\"white\",\"linecolor\":\"white\",\"minorgridcolor\":\"white\",\"startlinecolor\":\"#2a3f5f\"},\"baxis\":{\"endlinecolor\":\"#2a3f5f\",\"gridcolor\":\"white\",\"linecolor\":\"white\",\"minorgridcolor\":\"white\",\"startlinecolor\":\"#2a3f5f\"},\"type\":\"carpet\"}],\"table\":[{\"cells\":{\"fill\":{\"color\":\"#EBF0F8\"},\"line\":{\"color\":\"white\"}},\"header\":{\"fill\":{\"color\":\"#C8D4E3\"},\"line\":{\"color\":\"white\"}},\"type\":\"table\"}],\"barpolar\":[{\"marker\":{\"line\":{\"color\":\"#E5ECF6\",\"width\":0.5},\"pattern\":{\"fillmode\":\"overlay\",\"size\":10,\"solidity\":0.2}},\"type\":\"barpolar\"}],\"pie\":[{\"automargin\":true,\"type\":\"pie\"}]},\"layout\":{\"autotypenumbers\":\"strict\",\"colorway\":[\"#636efa\",\"#EF553B\",\"#00cc96\",\"#ab63fa\",\"#FFA15A\",\"#19d3f3\",\"#FF6692\",\"#B6E880\",\"#FF97FF\",\"#FECB52\"],\"font\":{\"color\":\"#2a3f5f\"},\"hovermode\":\"closest\",\"hoverlabel\":{\"align\":\"left\"},\"paper_bgcolor\":\"white\",\"plot_bgcolor\":\"#E5ECF6\",\"polar\":{\"bgcolor\":\"#E5ECF6\",\"angularaxis\":{\"gridcolor\":\"white\",\"linecolor\":\"white\",\"ticks\":\"\"},\"radialaxis\":{\"gridcolor\":\"white\",\"linecolor\":\"white\",\"ticks\":\"\"}},\"ternary\":{\"bgcolor\":\"#E5ECF6\",\"aaxis\":{\"gridcolor\":\"white\",\"linecolor\":\"white\",\"ticks\":\"\"},\"baxis\":{\"gridcolor\":\"white\",\"linecolor\":\"white\",\"ticks\":\"\"},\"caxis\":{\"gridcolor\":\"white\",\"linecolor\":\"white\",\"ticks\":\"\"}},\"coloraxis\":{\"colorbar\":{\"outlinewidth\":0,\"ticks\":\"\"}},\"colorscale\":{\"sequential\":[[0.0,\"#0d0887\"],[0.1111111111111111,\"#46039f\"],[0.2222222222222222,\"#7201a8\"],[0.3333333333333333,\"#9c179e\"],[0.4444444444444444,\"#bd3786\"],[0.5555555555555556,\"#d8576b\"],[0.6666666666666666,\"#ed7953\"],[0.7777777777777778,\"#fb9f3a\"],[0.8888888888888888,\"#fdca26\"],[1.0,\"#f0f921\"]],\"sequentialminus\":[[0.0,\"#0d0887\"],[0.1111111111111111,\"#46039f\"],[0.2222222222222222,\"#7201a8\"],[0.3333333333333333,\"#9c179e\"],[0.4444444444444444,\"#bd3786\"],[0.5555555555555556,\"#d8576b\"],[0.6666666666666666,\"#ed7953\"],[0.7777777777777778,\"#fb9f3a\"],[0.8888888888888888,\"#fdca26\"],[1.0,\"#f0f921\"]],\"diverging\":[[0,\"#8e0152\"],[0.1,\"#c51b7d\"],[0.2,\"#de77ae\"],[0.3,\"#f1b6da\"],[0.4,\"#fde0ef\"],[0.5,\"#f7f7f7\"],[0.6,\"#e6f5d0\"],[0.7,\"#b8e186\"],[0.8,\"#7fbc41\"],[0.9,\"#4d9221\"],[1,\"#276419\"]]},\"xaxis\":{\"gridcolor\":\"white\",\"linecolor\":\"white\",\"ticks\":\"\",\"title\":{\"standoff\":15},\"zerolinecolor\":\"white\",\"automargin\":true,\"zerolinewidth\":2},\"yaxis\":{\"gridcolor\":\"white\",\"linecolor\":\"white\",\"ticks\":\"\",\"title\":{\"standoff\":15},\"zerolinecolor\":\"white\",\"automargin\":true,\"zerolinewidth\":2},\"scene\":{\"xaxis\":{\"backgroundcolor\":\"#E5ECF6\",\"gridcolor\":\"white\",\"linecolor\":\"white\",\"showbackground\":true,\"ticks\":\"\",\"zerolinecolor\":\"white\",\"gridwidth\":2},\"yaxis\":{\"backgroundcolor\":\"#E5ECF6\",\"gridcolor\":\"white\",\"linecolor\":\"white\",\"showbackground\":true,\"ticks\":\"\",\"zerolinecolor\":\"white\",\"gridwidth\":2},\"zaxis\":{\"backgroundcolor\":\"#E5ECF6\",\"gridcolor\":\"white\",\"linecolor\":\"white\",\"showbackground\":true,\"ticks\":\"\",\"zerolinecolor\":\"white\",\"gridwidth\":2}},\"shapedefaults\":{\"line\":{\"color\":\"#2a3f5f\"}},\"annotationdefaults\":{\"arrowcolor\":\"#2a3f5f\",\"arrowhead\":0,\"arrowwidth\":1},\"geo\":{\"bgcolor\":\"white\",\"landcolor\":\"#E5ECF6\",\"subunitcolor\":\"white\",\"showland\":true,\"showlakes\":true,\"lakecolor\":\"white\"},\"title\":{\"x\":0.05},\"mapbox\":{\"style\":\"light\"}}},\"xaxis\":{\"anchor\":\"y\",\"domain\":[0.0,1.0],\"title\":{\"text\":\"Vehicle_Type\"}},\"yaxis\":{\"anchor\":\"x\",\"domain\":[0.0,1.0],\"title\":{\"text\":\"Historical_Cost_of_Ride\"}},\"legend\":{\"tracegroupgap\":0},\"title\":{\"text\":\"Historical Cost of Ride Distribution by Vehicle Type\"},\"boxmode\":\"group\"},                        {\"responsive\": true}                    ).then(function(){\n",
              "                            \n",
              "var gd = document.getElementById('3ff1c3d3-fb8d-4ccf-bd0b-b5a5b9873443');\n",
              "var x = new MutationObserver(function (mutations, observer) {{\n",
              "        var display = window.getComputedStyle(gd).display;\n",
              "        if (!display || display === 'none') {{\n",
              "            console.log([gd, 'removed!']);\n",
              "            Plotly.purge(gd);\n",
              "            observer.disconnect();\n",
              "        }}\n",
              "}});\n",
              "\n",
              "// Listen for the removal of the full notebook cells\n",
              "var notebookContainer = gd.closest('#notebook-container');\n",
              "if (notebookContainer) {{\n",
              "    x.observe(notebookContainer, {childList: true});\n",
              "}}\n",
              "\n",
              "// Listen for the clearing of the current output cell\n",
              "var outputEl = gd.closest('.output');\n",
              "if (outputEl) {{\n",
              "    x.observe(outputEl, {childList: true});\n",
              "}}\n",
              "\n",
              "                        })                };                            </script>        </div>\n",
              "</body>\n",
              "</html>"
            ]
          },
          "metadata": {}
        }
      ]
    },
    {
      "cell_type": "markdown",
      "source": [
        "##**CORRELATION MATRIX**"
      ],
      "metadata": {
        "id": "OGv7yqD8fQ-p"
      }
    },
    {
      "cell_type": "code",
      "source": [
        "corr_matrix = data.corr()\n",
        "\n",
        "colorscale = [[0.0, 'rgb(255,255,255)'],\n",
        "              [0.2, 'rgb(235,255,235)'],\n",
        "              [0.4, 'rgb(200,255,200)'],\n",
        "              [0.6, 'rgb(150,255,150)'],\n",
        "              [0.8, 'rgb(100,255,100)'],\n",
        "              [1.0, 'rgb(0,200,0)']]\n",
        "\n",
        "fig = go.Figure(data=go.Heatmap(z=corr_matrix.values,\n",
        "                                 x=corr_matrix.columns,\n",
        "                                 y=corr_matrix.columns,\n",
        "                                 colorscale=colorscale))\n",
        "\n",
        "fig.update_layout(title='Correlation Matrix',\n",
        "                  xaxis=dict(title='Features'),\n",
        "                  yaxis=dict(title='Features'))\n",
        "fig.show()\n"
      ],
      "metadata": {
        "colab": {
          "base_uri": "https://localhost:8080/",
          "height": 631
        },
        "id": "kM0ugqA-XGRS",
        "outputId": "d1bffd08-7128-46f2-bc90-2aa621c4c608"
      },
      "execution_count": 67,
      "outputs": [
        {
          "output_type": "stream",
          "name": "stderr",
          "text": [
            "<ipython-input-67-050e050ffa77>:4: FutureWarning:\n",
            "\n",
            "The default value of numeric_only in DataFrame.corr is deprecated. In a future version, it will default to False. Select only valid columns or specify the value of numeric_only to silence this warning.\n",
            "\n"
          ]
        },
        {
          "output_type": "display_data",
          "data": {
            "text/html": [
              "<html>\n",
              "<head><meta charset=\"utf-8\" /></head>\n",
              "<body>\n",
              "    <div>            <script src=\"https://cdnjs.cloudflare.com/ajax/libs/mathjax/2.7.5/MathJax.js?config=TeX-AMS-MML_SVG\"></script><script type=\"text/javascript\">if (window.MathJax && window.MathJax.Hub && window.MathJax.Hub.Config) {window.MathJax.Hub.Config({SVG: {font: \"STIX-Web\"}});}</script>                <script type=\"text/javascript\">window.PlotlyConfig = {MathJaxConfig: 'local'};</script>\n",
              "        <script charset=\"utf-8\" src=\"https://cdn.plot.ly/plotly-2.24.1.min.js\"></script>                <div id=\"456932ae-4929-4501-91e1-f47597e9a130\" class=\"plotly-graph-div\" style=\"height:525px; width:100%;\"></div>            <script type=\"text/javascript\">                                    window.PLOTLYENV=window.PLOTLYENV || {};                                    if (document.getElementById(\"456932ae-4929-4501-91e1-f47597e9a130\")) {                    Plotly.newPlot(                        \"456932ae-4929-4501-91e1-f47597e9a130\",                        [{\"colorscale\":[[0.0,\"rgb(255,255,255)\"],[0.2,\"rgb(235,255,235)\"],[0.4,\"rgb(200,255,200)\"],[0.6,\"rgb(150,255,150)\"],[0.8,\"rgb(100,255,100)\"],[1.0,\"rgb(0,200,0)\"]],\"x\":[\"Number_of_Riders\",\"Number_of_Drivers\",\"Number_of_Past_Rides\",\"Average_Ratings\",\"Expected_Ride_Duration\",\"Historical_Cost_of_Ride\",\"demand_multiplier\",\"supply_multiplier\",\"adjusted_ride_cost\"],\"y\":[\"Number_of_Riders\",\"Number_of_Drivers\",\"Number_of_Past_Rides\",\"Average_Ratings\",\"Expected_Ride_Duration\",\"Historical_Cost_of_Ride\",\"demand_multiplier\",\"supply_multiplier\",\"adjusted_ride_cost\"],\"z\":[[1.0,0.6270163439391535,0.029265067803157782,0.008571553929793356,-0.015856250970185698,0.005825700512009107,0.5451435065115189,-0.4249638351400503,-0.004727615517013778],[0.6270163439391535,1.0,0.03966045350119979,0.04120448886162892,-0.02441758526027005,0.017081701145137258,0.3054118558999909,-0.694048712851905,-0.2708916769598498],[0.029265067803157782,0.03966045350119979,1.0,-0.06473352197876757,0.030678756196033143,0.035858664321205505,0.05854449423695393,-0.006658739335269597,0.04165133241692281],[0.008571553929793356,0.04120448886162892,-0.06473352197876757,1.0,-0.01696815614456701,-0.0010633418406511875,-0.011921149688088169,0.015666156157005444,0.002170296938787262],[-0.015856250970185698,-0.02441758526027005,0.030678756196033143,-0.01696815614456701,1.0,0.9275471833882497,-0.024198318868661226,0.033221077910913416,0.653082716809694],[0.005825700512009107,0.017081701145137258,0.035858664321205505,-0.0010633418406511875,0.9275471833882497,1.0,-0.03393162776650891,0.0013818299101200737,0.6736229923970627],[0.5451435065115189,0.3054118558999909,0.05854449423695393,-0.011921149688088169,-0.024198318868661226,-0.03393162776650891,1.0,-0.20292237337128127,0.259011754211558],[-0.4249638351400503,-0.694048712851905,-0.006658739335269597,0.015666156157005444,0.033221077910913416,0.0013818299101200737,-0.20292237337128127,1.0,0.5037800853186342],[-0.004727615517013778,-0.2708916769598498,0.04165133241692281,0.002170296938787262,0.653082716809694,0.6736229923970627,0.259011754211558,0.5037800853186342,1.0]],\"type\":\"heatmap\"}],                        {\"template\":{\"data\":{\"histogram2dcontour\":[{\"type\":\"histogram2dcontour\",\"colorbar\":{\"outlinewidth\":0,\"ticks\":\"\"},\"colorscale\":[[0.0,\"#0d0887\"],[0.1111111111111111,\"#46039f\"],[0.2222222222222222,\"#7201a8\"],[0.3333333333333333,\"#9c179e\"],[0.4444444444444444,\"#bd3786\"],[0.5555555555555556,\"#d8576b\"],[0.6666666666666666,\"#ed7953\"],[0.7777777777777778,\"#fb9f3a\"],[0.8888888888888888,\"#fdca26\"],[1.0,\"#f0f921\"]]}],\"choropleth\":[{\"type\":\"choropleth\",\"colorbar\":{\"outlinewidth\":0,\"ticks\":\"\"}}],\"histogram2d\":[{\"type\":\"histogram2d\",\"colorbar\":{\"outlinewidth\":0,\"ticks\":\"\"},\"colorscale\":[[0.0,\"#0d0887\"],[0.1111111111111111,\"#46039f\"],[0.2222222222222222,\"#7201a8\"],[0.3333333333333333,\"#9c179e\"],[0.4444444444444444,\"#bd3786\"],[0.5555555555555556,\"#d8576b\"],[0.6666666666666666,\"#ed7953\"],[0.7777777777777778,\"#fb9f3a\"],[0.8888888888888888,\"#fdca26\"],[1.0,\"#f0f921\"]]}],\"heatmap\":[{\"type\":\"heatmap\",\"colorbar\":{\"outlinewidth\":0,\"ticks\":\"\"},\"colorscale\":[[0.0,\"#0d0887\"],[0.1111111111111111,\"#46039f\"],[0.2222222222222222,\"#7201a8\"],[0.3333333333333333,\"#9c179e\"],[0.4444444444444444,\"#bd3786\"],[0.5555555555555556,\"#d8576b\"],[0.6666666666666666,\"#ed7953\"],[0.7777777777777778,\"#fb9f3a\"],[0.8888888888888888,\"#fdca26\"],[1.0,\"#f0f921\"]]}],\"heatmapgl\":[{\"type\":\"heatmapgl\",\"colorbar\":{\"outlinewidth\":0,\"ticks\":\"\"},\"colorscale\":[[0.0,\"#0d0887\"],[0.1111111111111111,\"#46039f\"],[0.2222222222222222,\"#7201a8\"],[0.3333333333333333,\"#9c179e\"],[0.4444444444444444,\"#bd3786\"],[0.5555555555555556,\"#d8576b\"],[0.6666666666666666,\"#ed7953\"],[0.7777777777777778,\"#fb9f3a\"],[0.8888888888888888,\"#fdca26\"],[1.0,\"#f0f921\"]]}],\"contourcarpet\":[{\"type\":\"contourcarpet\",\"colorbar\":{\"outlinewidth\":0,\"ticks\":\"\"}}],\"contour\":[{\"type\":\"contour\",\"colorbar\":{\"outlinewidth\":0,\"ticks\":\"\"},\"colorscale\":[[0.0,\"#0d0887\"],[0.1111111111111111,\"#46039f\"],[0.2222222222222222,\"#7201a8\"],[0.3333333333333333,\"#9c179e\"],[0.4444444444444444,\"#bd3786\"],[0.5555555555555556,\"#d8576b\"],[0.6666666666666666,\"#ed7953\"],[0.7777777777777778,\"#fb9f3a\"],[0.8888888888888888,\"#fdca26\"],[1.0,\"#f0f921\"]]}],\"surface\":[{\"type\":\"surface\",\"colorbar\":{\"outlinewidth\":0,\"ticks\":\"\"},\"colorscale\":[[0.0,\"#0d0887\"],[0.1111111111111111,\"#46039f\"],[0.2222222222222222,\"#7201a8\"],[0.3333333333333333,\"#9c179e\"],[0.4444444444444444,\"#bd3786\"],[0.5555555555555556,\"#d8576b\"],[0.6666666666666666,\"#ed7953\"],[0.7777777777777778,\"#fb9f3a\"],[0.8888888888888888,\"#fdca26\"],[1.0,\"#f0f921\"]]}],\"mesh3d\":[{\"type\":\"mesh3d\",\"colorbar\":{\"outlinewidth\":0,\"ticks\":\"\"}}],\"scatter\":[{\"fillpattern\":{\"fillmode\":\"overlay\",\"size\":10,\"solidity\":0.2},\"type\":\"scatter\"}],\"parcoords\":[{\"type\":\"parcoords\",\"line\":{\"colorbar\":{\"outlinewidth\":0,\"ticks\":\"\"}}}],\"scatterpolargl\":[{\"type\":\"scatterpolargl\",\"marker\":{\"colorbar\":{\"outlinewidth\":0,\"ticks\":\"\"}}}],\"bar\":[{\"error_x\":{\"color\":\"#2a3f5f\"},\"error_y\":{\"color\":\"#2a3f5f\"},\"marker\":{\"line\":{\"color\":\"#E5ECF6\",\"width\":0.5},\"pattern\":{\"fillmode\":\"overlay\",\"size\":10,\"solidity\":0.2}},\"type\":\"bar\"}],\"scattergeo\":[{\"type\":\"scattergeo\",\"marker\":{\"colorbar\":{\"outlinewidth\":0,\"ticks\":\"\"}}}],\"scatterpolar\":[{\"type\":\"scatterpolar\",\"marker\":{\"colorbar\":{\"outlinewidth\":0,\"ticks\":\"\"}}}],\"histogram\":[{\"marker\":{\"pattern\":{\"fillmode\":\"overlay\",\"size\":10,\"solidity\":0.2}},\"type\":\"histogram\"}],\"scattergl\":[{\"type\":\"scattergl\",\"marker\":{\"colorbar\":{\"outlinewidth\":0,\"ticks\":\"\"}}}],\"scatter3d\":[{\"type\":\"scatter3d\",\"line\":{\"colorbar\":{\"outlinewidth\":0,\"ticks\":\"\"}},\"marker\":{\"colorbar\":{\"outlinewidth\":0,\"ticks\":\"\"}}}],\"scattermapbox\":[{\"type\":\"scattermapbox\",\"marker\":{\"colorbar\":{\"outlinewidth\":0,\"ticks\":\"\"}}}],\"scatterternary\":[{\"type\":\"scatterternary\",\"marker\":{\"colorbar\":{\"outlinewidth\":0,\"ticks\":\"\"}}}],\"scattercarpet\":[{\"type\":\"scattercarpet\",\"marker\":{\"colorbar\":{\"outlinewidth\":0,\"ticks\":\"\"}}}],\"carpet\":[{\"aaxis\":{\"endlinecolor\":\"#2a3f5f\",\"gridcolor\":\"white\",\"linecolor\":\"white\",\"minorgridcolor\":\"white\",\"startlinecolor\":\"#2a3f5f\"},\"baxis\":{\"endlinecolor\":\"#2a3f5f\",\"gridcolor\":\"white\",\"linecolor\":\"white\",\"minorgridcolor\":\"white\",\"startlinecolor\":\"#2a3f5f\"},\"type\":\"carpet\"}],\"table\":[{\"cells\":{\"fill\":{\"color\":\"#EBF0F8\"},\"line\":{\"color\":\"white\"}},\"header\":{\"fill\":{\"color\":\"#C8D4E3\"},\"line\":{\"color\":\"white\"}},\"type\":\"table\"}],\"barpolar\":[{\"marker\":{\"line\":{\"color\":\"#E5ECF6\",\"width\":0.5},\"pattern\":{\"fillmode\":\"overlay\",\"size\":10,\"solidity\":0.2}},\"type\":\"barpolar\"}],\"pie\":[{\"automargin\":true,\"type\":\"pie\"}]},\"layout\":{\"autotypenumbers\":\"strict\",\"colorway\":[\"#636efa\",\"#EF553B\",\"#00cc96\",\"#ab63fa\",\"#FFA15A\",\"#19d3f3\",\"#FF6692\",\"#B6E880\",\"#FF97FF\",\"#FECB52\"],\"font\":{\"color\":\"#2a3f5f\"},\"hovermode\":\"closest\",\"hoverlabel\":{\"align\":\"left\"},\"paper_bgcolor\":\"white\",\"plot_bgcolor\":\"#E5ECF6\",\"polar\":{\"bgcolor\":\"#E5ECF6\",\"angularaxis\":{\"gridcolor\":\"white\",\"linecolor\":\"white\",\"ticks\":\"\"},\"radialaxis\":{\"gridcolor\":\"white\",\"linecolor\":\"white\",\"ticks\":\"\"}},\"ternary\":{\"bgcolor\":\"#E5ECF6\",\"aaxis\":{\"gridcolor\":\"white\",\"linecolor\":\"white\",\"ticks\":\"\"},\"baxis\":{\"gridcolor\":\"white\",\"linecolor\":\"white\",\"ticks\":\"\"},\"caxis\":{\"gridcolor\":\"white\",\"linecolor\":\"white\",\"ticks\":\"\"}},\"coloraxis\":{\"colorbar\":{\"outlinewidth\":0,\"ticks\":\"\"}},\"colorscale\":{\"sequential\":[[0.0,\"#0d0887\"],[0.1111111111111111,\"#46039f\"],[0.2222222222222222,\"#7201a8\"],[0.3333333333333333,\"#9c179e\"],[0.4444444444444444,\"#bd3786\"],[0.5555555555555556,\"#d8576b\"],[0.6666666666666666,\"#ed7953\"],[0.7777777777777778,\"#fb9f3a\"],[0.8888888888888888,\"#fdca26\"],[1.0,\"#f0f921\"]],\"sequentialminus\":[[0.0,\"#0d0887\"],[0.1111111111111111,\"#46039f\"],[0.2222222222222222,\"#7201a8\"],[0.3333333333333333,\"#9c179e\"],[0.4444444444444444,\"#bd3786\"],[0.5555555555555556,\"#d8576b\"],[0.6666666666666666,\"#ed7953\"],[0.7777777777777778,\"#fb9f3a\"],[0.8888888888888888,\"#fdca26\"],[1.0,\"#f0f921\"]],\"diverging\":[[0,\"#8e0152\"],[0.1,\"#c51b7d\"],[0.2,\"#de77ae\"],[0.3,\"#f1b6da\"],[0.4,\"#fde0ef\"],[0.5,\"#f7f7f7\"],[0.6,\"#e6f5d0\"],[0.7,\"#b8e186\"],[0.8,\"#7fbc41\"],[0.9,\"#4d9221\"],[1,\"#276419\"]]},\"xaxis\":{\"gridcolor\":\"white\",\"linecolor\":\"white\",\"ticks\":\"\",\"title\":{\"standoff\":15},\"zerolinecolor\":\"white\",\"automargin\":true,\"zerolinewidth\":2},\"yaxis\":{\"gridcolor\":\"white\",\"linecolor\":\"white\",\"ticks\":\"\",\"title\":{\"standoff\":15},\"zerolinecolor\":\"white\",\"automargin\":true,\"zerolinewidth\":2},\"scene\":{\"xaxis\":{\"backgroundcolor\":\"#E5ECF6\",\"gridcolor\":\"white\",\"linecolor\":\"white\",\"showbackground\":true,\"ticks\":\"\",\"zerolinecolor\":\"white\",\"gridwidth\":2},\"yaxis\":{\"backgroundcolor\":\"#E5ECF6\",\"gridcolor\":\"white\",\"linecolor\":\"white\",\"showbackground\":true,\"ticks\":\"\",\"zerolinecolor\":\"white\",\"gridwidth\":2},\"zaxis\":{\"backgroundcolor\":\"#E5ECF6\",\"gridcolor\":\"white\",\"linecolor\":\"white\",\"showbackground\":true,\"ticks\":\"\",\"zerolinecolor\":\"white\",\"gridwidth\":2}},\"shapedefaults\":{\"line\":{\"color\":\"#2a3f5f\"}},\"annotationdefaults\":{\"arrowcolor\":\"#2a3f5f\",\"arrowhead\":0,\"arrowwidth\":1},\"geo\":{\"bgcolor\":\"white\",\"landcolor\":\"#E5ECF6\",\"subunitcolor\":\"white\",\"showland\":true,\"showlakes\":true,\"lakecolor\":\"white\"},\"title\":{\"x\":0.05},\"mapbox\":{\"style\":\"light\"}}},\"title\":{\"text\":\"Correlation Matrix\"},\"xaxis\":{\"title\":{\"text\":\"Features\"}},\"yaxis\":{\"title\":{\"text\":\"Features\"}}},                        {\"responsive\": true}                    ).then(function(){\n",
              "                            \n",
              "var gd = document.getElementById('456932ae-4929-4501-91e1-f47597e9a130');\n",
              "var x = new MutationObserver(function (mutations, observer) {{\n",
              "        var display = window.getComputedStyle(gd).display;\n",
              "        if (!display || display === 'none') {{\n",
              "            console.log([gd, 'removed!']);\n",
              "            Plotly.purge(gd);\n",
              "            observer.disconnect();\n",
              "        }}\n",
              "}});\n",
              "\n",
              "// Listen for the removal of the full notebook cells\n",
              "var notebookContainer = gd.closest('#notebook-container');\n",
              "if (notebookContainer) {{\n",
              "    x.observe(notebookContainer, {childList: true});\n",
              "}}\n",
              "\n",
              "// Listen for the clearing of the current output cell\n",
              "var outputEl = gd.closest('.output');\n",
              "if (outputEl) {{\n",
              "    x.observe(outputEl, {childList: true});\n",
              "}}\n",
              "\n",
              "                        })                };                            </script>        </div>\n",
              "</body>\n",
              "</html>"
            ]
          },
          "metadata": {}
        }
      ]
    },
    {
      "cell_type": "markdown",
      "source": [
        "**Calculate adjusted ride costs based on dynamic pricing strategies considering demand and supply factors.**"
      ],
      "metadata": {
        "id": "Wdbd3l0DhkXV"
      }
    },
    {
      "cell_type": "markdown",
      "source": [
        "**DEFINE PERCENTILE FOR HIGH & LOW DEMAND**"
      ],
      "metadata": {
        "id": "PwYM2SGCiZLc"
      }
    },
    {
      "cell_type": "code",
      "source": [
        "high_demand_percentile = 75\n",
        "low_demand_percentile = 25\n"
      ],
      "metadata": {
        "id": "W6ORyA9oXdGU"
      },
      "execution_count": 80,
      "outputs": []
    },
    {
      "cell_type": "markdown",
      "source": [
        "**DEMAND MULTIPLER BASED ON NUMBER OF RIDERS**\n",
        "\n",
        "We calculate a demand multiplier based on the number of riders. This multiplier indicates the level of demand for the ride relative to the given percentile thresholds."
      ],
      "metadata": {
        "id": "41tYMRp7iseW"
      }
    },
    {
      "cell_type": "code",
      "source": [
        "data['demand_multiplier'] = np.where(\n",
        "    data['Number_of_Riders'] > np.percentile(data['Number_of_Riders'], high_demand_percentile),\n",
        "    data['Number_of_Riders'] / np.percentile(data['Number_of_Riders'], high_demand_percentile),\n",
        "    data['Number_of_Riders'] / np.percentile(data['Number_of_Riders'], low_demand_percentile)\n",
        ")\n",
        "\n",
        "high_supply_percentile = 75\n",
        "low_supply_percentile = 25"
      ],
      "metadata": {
        "id": "bqog4sWmh8R3"
      },
      "execution_count": 81,
      "outputs": []
    },
    {
      "cell_type": "markdown",
      "source": [
        "**supply multiplier based on number of drivers**\n",
        "\n",
        " calculate a supply multiplier based on the number of drivers. This multiplier indicates the level of supply availability relative to the given percentile thresholds."
      ],
      "metadata": {
        "id": "NZ5PUKDVi6dq"
      }
    },
    {
      "cell_type": "code",
      "source": [
        "data['supply_multiplier'] = np.where(\n",
        "    data['Number_of_Drivers'] > np.percentile(data['Number_of_Drivers'], low_supply_percentile),\n",
        "    np.percentile(data['Number_of_Drivers'], high_supply_percentile) / data['Number_of_Drivers'],\n",
        "    np.percentile(data['Number_of_Drivers'], low_supply_percentile) / data['Number_of_Drivers']\n",
        ")\n",
        "demand_threshold_high = 1.2\n",
        "demand_threshold_low = 0.8\n",
        "supply_threshold_high = 0.8\n",
        "supply_threshold_low = 1.2\n"
      ],
      "metadata": {
        "id": "nbOQJIKmh8br"
      },
      "execution_count": 82,
      "outputs": []
    },
    {
      "cell_type": "markdown",
      "source": [
        "**CALCULATE ADJUSTED RIDE COST FOR DYNAMIC PRICING**\n",
        "\n",
        "We define thresholds for adjusting prices based on demand and supply levels. These thresholds determine how much the fares will be adjusted depending on the demand and supply multipliers.\n",
        "\n",
        " calculate the adjusted ride cost by applying the demand and supply adjustments to the historical cost of the ride."
      ],
      "metadata": {
        "id": "734NfidnjMdL"
      }
    },
    {
      "cell_type": "code",
      "source": [
        "data['adjusted_ride_cost'] = data['Historical_Cost_of_Ride'] * (\n",
        "    np.maximum(data['demand_multiplier'], demand_threshold_low) *\n",
        "    np.maximum(data['supply_multiplier'], supply_threshold_high)\n",
        ")"
      ],
      "metadata": {
        "id": "qm_eg0rBiLvb"
      },
      "execution_count": 84,
      "outputs": []
    },
    {
      "cell_type": "markdown",
      "source": [
        "\n",
        "\n",
        "---\n",
        "\n"
      ],
      "metadata": {
        "id": "GY2eqvcqk4gh"
      }
    },
    {
      "cell_type": "markdown",
      "source": [
        "###**Analyzing Profitability of Dynamic Pricing Strategy**\n",
        "\n",
        "Profit Percentage Calculation: Compute profit percentage for each ride by comparing adjusted ride costs with historical costs.\n",
        "\n",
        "Identify Profitable and Loss Rides: Segment rides into profitable and loss categories based on positive and negative profit percentages.\n",
        "\n",
        "Count Profitable and Loss Rides: Determine the number of rides in each category."
      ],
      "metadata": {
        "id": "qac7hJuSk4nl"
      }
    },
    {
      "cell_type": "code",
      "source": [
        "data['profit_percentage'] = ((data['adjusted_ride_cost'] - data['Historical_Cost_of_Ride']) / data['Historical_Cost_of_Ride']) * 100\n",
        "\n",
        "profitable_rides = data[data['profit_percentage'] > 0]\n",
        "loss_rides = data[data['profit_percentage'] < 0]\n",
        "\n",
        "profitable_count = len(profitable_rides)\n",
        "loss_count = len(loss_rides)\n",
        "\n",
        "labels = ['Profitable Rides', 'Loss Rides']\n",
        "values = [profitable_count, loss_count]\n",
        "\n",
        "fig = go.Figure(data=[go.Pie(labels=labels, values=values, hole=0.4)])\n",
        "\n",
        "fig.update_layout(title='Profitability of Rides (Dynamic Pricing vs. Historical Pricing)',\n",
        "                  paper_bgcolor='rgb(240, 240, 240)')\n",
        "fig.update_traces(marker=dict(colors=['rgb(65, 185, 130)', 'rgb(235, 90, 90)']))\n",
        "fig.show()\n"
      ],
      "metadata": {
        "colab": {
          "base_uri": "https://localhost:8080/",
          "height": 542
        },
        "id": "K9f3yNH8Xx2Q",
        "outputId": "5de3948b-c40b-40eb-bea4-dac4133ddbe9"
      },
      "execution_count": 69,
      "outputs": [
        {
          "output_type": "display_data",
          "data": {
            "text/html": [
              "<html>\n",
              "<head><meta charset=\"utf-8\" /></head>\n",
              "<body>\n",
              "    <div>            <script src=\"https://cdnjs.cloudflare.com/ajax/libs/mathjax/2.7.5/MathJax.js?config=TeX-AMS-MML_SVG\"></script><script type=\"text/javascript\">if (window.MathJax && window.MathJax.Hub && window.MathJax.Hub.Config) {window.MathJax.Hub.Config({SVG: {font: \"STIX-Web\"}});}</script>                <script type=\"text/javascript\">window.PlotlyConfig = {MathJaxConfig: 'local'};</script>\n",
              "        <script charset=\"utf-8\" src=\"https://cdn.plot.ly/plotly-2.24.1.min.js\"></script>                <div id=\"8390a0a5-1cbe-42fe-9c88-116e03ba27a8\" class=\"plotly-graph-div\" style=\"height:525px; width:100%;\"></div>            <script type=\"text/javascript\">                                    window.PLOTLYENV=window.PLOTLYENV || {};                                    if (document.getElementById(\"8390a0a5-1cbe-42fe-9c88-116e03ba27a8\")) {                    Plotly.newPlot(                        \"8390a0a5-1cbe-42fe-9c88-116e03ba27a8\",                        [{\"hole\":0.4,\"labels\":[\"Profitable Rides\",\"Loss Rides\"],\"values\":[826,173],\"type\":\"pie\",\"marker\":{\"colors\":[\"rgb(65, 185, 130)\",\"rgb(235, 90, 90)\"]}}],                        {\"template\":{\"data\":{\"histogram2dcontour\":[{\"type\":\"histogram2dcontour\",\"colorbar\":{\"outlinewidth\":0,\"ticks\":\"\"},\"colorscale\":[[0.0,\"#0d0887\"],[0.1111111111111111,\"#46039f\"],[0.2222222222222222,\"#7201a8\"],[0.3333333333333333,\"#9c179e\"],[0.4444444444444444,\"#bd3786\"],[0.5555555555555556,\"#d8576b\"],[0.6666666666666666,\"#ed7953\"],[0.7777777777777778,\"#fb9f3a\"],[0.8888888888888888,\"#fdca26\"],[1.0,\"#f0f921\"]]}],\"choropleth\":[{\"type\":\"choropleth\",\"colorbar\":{\"outlinewidth\":0,\"ticks\":\"\"}}],\"histogram2d\":[{\"type\":\"histogram2d\",\"colorbar\":{\"outlinewidth\":0,\"ticks\":\"\"},\"colorscale\":[[0.0,\"#0d0887\"],[0.1111111111111111,\"#46039f\"],[0.2222222222222222,\"#7201a8\"],[0.3333333333333333,\"#9c179e\"],[0.4444444444444444,\"#bd3786\"],[0.5555555555555556,\"#d8576b\"],[0.6666666666666666,\"#ed7953\"],[0.7777777777777778,\"#fb9f3a\"],[0.8888888888888888,\"#fdca26\"],[1.0,\"#f0f921\"]]}],\"heatmap\":[{\"type\":\"heatmap\",\"colorbar\":{\"outlinewidth\":0,\"ticks\":\"\"},\"colorscale\":[[0.0,\"#0d0887\"],[0.1111111111111111,\"#46039f\"],[0.2222222222222222,\"#7201a8\"],[0.3333333333333333,\"#9c179e\"],[0.4444444444444444,\"#bd3786\"],[0.5555555555555556,\"#d8576b\"],[0.6666666666666666,\"#ed7953\"],[0.7777777777777778,\"#fb9f3a\"],[0.8888888888888888,\"#fdca26\"],[1.0,\"#f0f921\"]]}],\"heatmapgl\":[{\"type\":\"heatmapgl\",\"colorbar\":{\"outlinewidth\":0,\"ticks\":\"\"},\"colorscale\":[[0.0,\"#0d0887\"],[0.1111111111111111,\"#46039f\"],[0.2222222222222222,\"#7201a8\"],[0.3333333333333333,\"#9c179e\"],[0.4444444444444444,\"#bd3786\"],[0.5555555555555556,\"#d8576b\"],[0.6666666666666666,\"#ed7953\"],[0.7777777777777778,\"#fb9f3a\"],[0.8888888888888888,\"#fdca26\"],[1.0,\"#f0f921\"]]}],\"contourcarpet\":[{\"type\":\"contourcarpet\",\"colorbar\":{\"outlinewidth\":0,\"ticks\":\"\"}}],\"contour\":[{\"type\":\"contour\",\"colorbar\":{\"outlinewidth\":0,\"ticks\":\"\"},\"colorscale\":[[0.0,\"#0d0887\"],[0.1111111111111111,\"#46039f\"],[0.2222222222222222,\"#7201a8\"],[0.3333333333333333,\"#9c179e\"],[0.4444444444444444,\"#bd3786\"],[0.5555555555555556,\"#d8576b\"],[0.6666666666666666,\"#ed7953\"],[0.7777777777777778,\"#fb9f3a\"],[0.8888888888888888,\"#fdca26\"],[1.0,\"#f0f921\"]]}],\"surface\":[{\"type\":\"surface\",\"colorbar\":{\"outlinewidth\":0,\"ticks\":\"\"},\"colorscale\":[[0.0,\"#0d0887\"],[0.1111111111111111,\"#46039f\"],[0.2222222222222222,\"#7201a8\"],[0.3333333333333333,\"#9c179e\"],[0.4444444444444444,\"#bd3786\"],[0.5555555555555556,\"#d8576b\"],[0.6666666666666666,\"#ed7953\"],[0.7777777777777778,\"#fb9f3a\"],[0.8888888888888888,\"#fdca26\"],[1.0,\"#f0f921\"]]}],\"mesh3d\":[{\"type\":\"mesh3d\",\"colorbar\":{\"outlinewidth\":0,\"ticks\":\"\"}}],\"scatter\":[{\"fillpattern\":{\"fillmode\":\"overlay\",\"size\":10,\"solidity\":0.2},\"type\":\"scatter\"}],\"parcoords\":[{\"type\":\"parcoords\",\"line\":{\"colorbar\":{\"outlinewidth\":0,\"ticks\":\"\"}}}],\"scatterpolargl\":[{\"type\":\"scatterpolargl\",\"marker\":{\"colorbar\":{\"outlinewidth\":0,\"ticks\":\"\"}}}],\"bar\":[{\"error_x\":{\"color\":\"#2a3f5f\"},\"error_y\":{\"color\":\"#2a3f5f\"},\"marker\":{\"line\":{\"color\":\"#E5ECF6\",\"width\":0.5},\"pattern\":{\"fillmode\":\"overlay\",\"size\":10,\"solidity\":0.2}},\"type\":\"bar\"}],\"scattergeo\":[{\"type\":\"scattergeo\",\"marker\":{\"colorbar\":{\"outlinewidth\":0,\"ticks\":\"\"}}}],\"scatterpolar\":[{\"type\":\"scatterpolar\",\"marker\":{\"colorbar\":{\"outlinewidth\":0,\"ticks\":\"\"}}}],\"histogram\":[{\"marker\":{\"pattern\":{\"fillmode\":\"overlay\",\"size\":10,\"solidity\":0.2}},\"type\":\"histogram\"}],\"scattergl\":[{\"type\":\"scattergl\",\"marker\":{\"colorbar\":{\"outlinewidth\":0,\"ticks\":\"\"}}}],\"scatter3d\":[{\"type\":\"scatter3d\",\"line\":{\"colorbar\":{\"outlinewidth\":0,\"ticks\":\"\"}},\"marker\":{\"colorbar\":{\"outlinewidth\":0,\"ticks\":\"\"}}}],\"scattermapbox\":[{\"type\":\"scattermapbox\",\"marker\":{\"colorbar\":{\"outlinewidth\":0,\"ticks\":\"\"}}}],\"scatterternary\":[{\"type\":\"scatterternary\",\"marker\":{\"colorbar\":{\"outlinewidth\":0,\"ticks\":\"\"}}}],\"scattercarpet\":[{\"type\":\"scattercarpet\",\"marker\":{\"colorbar\":{\"outlinewidth\":0,\"ticks\":\"\"}}}],\"carpet\":[{\"aaxis\":{\"endlinecolor\":\"#2a3f5f\",\"gridcolor\":\"white\",\"linecolor\":\"white\",\"minorgridcolor\":\"white\",\"startlinecolor\":\"#2a3f5f\"},\"baxis\":{\"endlinecolor\":\"#2a3f5f\",\"gridcolor\":\"white\",\"linecolor\":\"white\",\"minorgridcolor\":\"white\",\"startlinecolor\":\"#2a3f5f\"},\"type\":\"carpet\"}],\"table\":[{\"cells\":{\"fill\":{\"color\":\"#EBF0F8\"},\"line\":{\"color\":\"white\"}},\"header\":{\"fill\":{\"color\":\"#C8D4E3\"},\"line\":{\"color\":\"white\"}},\"type\":\"table\"}],\"barpolar\":[{\"marker\":{\"line\":{\"color\":\"#E5ECF6\",\"width\":0.5},\"pattern\":{\"fillmode\":\"overlay\",\"size\":10,\"solidity\":0.2}},\"type\":\"barpolar\"}],\"pie\":[{\"automargin\":true,\"type\":\"pie\"}]},\"layout\":{\"autotypenumbers\":\"strict\",\"colorway\":[\"#636efa\",\"#EF553B\",\"#00cc96\",\"#ab63fa\",\"#FFA15A\",\"#19d3f3\",\"#FF6692\",\"#B6E880\",\"#FF97FF\",\"#FECB52\"],\"font\":{\"color\":\"#2a3f5f\"},\"hovermode\":\"closest\",\"hoverlabel\":{\"align\":\"left\"},\"paper_bgcolor\":\"white\",\"plot_bgcolor\":\"#E5ECF6\",\"polar\":{\"bgcolor\":\"#E5ECF6\",\"angularaxis\":{\"gridcolor\":\"white\",\"linecolor\":\"white\",\"ticks\":\"\"},\"radialaxis\":{\"gridcolor\":\"white\",\"linecolor\":\"white\",\"ticks\":\"\"}},\"ternary\":{\"bgcolor\":\"#E5ECF6\",\"aaxis\":{\"gridcolor\":\"white\",\"linecolor\":\"white\",\"ticks\":\"\"},\"baxis\":{\"gridcolor\":\"white\",\"linecolor\":\"white\",\"ticks\":\"\"},\"caxis\":{\"gridcolor\":\"white\",\"linecolor\":\"white\",\"ticks\":\"\"}},\"coloraxis\":{\"colorbar\":{\"outlinewidth\":0,\"ticks\":\"\"}},\"colorscale\":{\"sequential\":[[0.0,\"#0d0887\"],[0.1111111111111111,\"#46039f\"],[0.2222222222222222,\"#7201a8\"],[0.3333333333333333,\"#9c179e\"],[0.4444444444444444,\"#bd3786\"],[0.5555555555555556,\"#d8576b\"],[0.6666666666666666,\"#ed7953\"],[0.7777777777777778,\"#fb9f3a\"],[0.8888888888888888,\"#fdca26\"],[1.0,\"#f0f921\"]],\"sequentialminus\":[[0.0,\"#0d0887\"],[0.1111111111111111,\"#46039f\"],[0.2222222222222222,\"#7201a8\"],[0.3333333333333333,\"#9c179e\"],[0.4444444444444444,\"#bd3786\"],[0.5555555555555556,\"#d8576b\"],[0.6666666666666666,\"#ed7953\"],[0.7777777777777778,\"#fb9f3a\"],[0.8888888888888888,\"#fdca26\"],[1.0,\"#f0f921\"]],\"diverging\":[[0,\"#8e0152\"],[0.1,\"#c51b7d\"],[0.2,\"#de77ae\"],[0.3,\"#f1b6da\"],[0.4,\"#fde0ef\"],[0.5,\"#f7f7f7\"],[0.6,\"#e6f5d0\"],[0.7,\"#b8e186\"],[0.8,\"#7fbc41\"],[0.9,\"#4d9221\"],[1,\"#276419\"]]},\"xaxis\":{\"gridcolor\":\"white\",\"linecolor\":\"white\",\"ticks\":\"\",\"title\":{\"standoff\":15},\"zerolinecolor\":\"white\",\"automargin\":true,\"zerolinewidth\":2},\"yaxis\":{\"gridcolor\":\"white\",\"linecolor\":\"white\",\"ticks\":\"\",\"title\":{\"standoff\":15},\"zerolinecolor\":\"white\",\"automargin\":true,\"zerolinewidth\":2},\"scene\":{\"xaxis\":{\"backgroundcolor\":\"#E5ECF6\",\"gridcolor\":\"white\",\"linecolor\":\"white\",\"showbackground\":true,\"ticks\":\"\",\"zerolinecolor\":\"white\",\"gridwidth\":2},\"yaxis\":{\"backgroundcolor\":\"#E5ECF6\",\"gridcolor\":\"white\",\"linecolor\":\"white\",\"showbackground\":true,\"ticks\":\"\",\"zerolinecolor\":\"white\",\"gridwidth\":2},\"zaxis\":{\"backgroundcolor\":\"#E5ECF6\",\"gridcolor\":\"white\",\"linecolor\":\"white\",\"showbackground\":true,\"ticks\":\"\",\"zerolinecolor\":\"white\",\"gridwidth\":2}},\"shapedefaults\":{\"line\":{\"color\":\"#2a3f5f\"}},\"annotationdefaults\":{\"arrowcolor\":\"#2a3f5f\",\"arrowhead\":0,\"arrowwidth\":1},\"geo\":{\"bgcolor\":\"white\",\"landcolor\":\"#E5ECF6\",\"subunitcolor\":\"white\",\"showland\":true,\"showlakes\":true,\"lakecolor\":\"white\"},\"title\":{\"x\":0.05},\"mapbox\":{\"style\":\"light\"}}},\"title\":{\"text\":\"Profitability of Rides (Dynamic Pricing vs. Historical Pricing)\"},\"paper_bgcolor\":\"rgb(240, 240, 240)\"},                        {\"responsive\": true}                    ).then(function(){\n",
              "                            \n",
              "var gd = document.getElementById('8390a0a5-1cbe-42fe-9c88-116e03ba27a8');\n",
              "var x = new MutationObserver(function (mutations, observer) {{\n",
              "        var display = window.getComputedStyle(gd).display;\n",
              "        if (!display || display === 'none') {{\n",
              "            console.log([gd, 'removed!']);\n",
              "            Plotly.purge(gd);\n",
              "            observer.disconnect();\n",
              "        }}\n",
              "}});\n",
              "\n",
              "// Listen for the removal of the full notebook cells\n",
              "var notebookContainer = gd.closest('#notebook-container');\n",
              "if (notebookContainer) {{\n",
              "    x.observe(notebookContainer, {childList: true});\n",
              "}}\n",
              "\n",
              "// Listen for the clearing of the current output cell\n",
              "var outputEl = gd.closest('.output');\n",
              "if (outputEl) {{\n",
              "    x.observe(outputEl, {childList: true});\n",
              "}}\n",
              "\n",
              "                        })                };                            </script>        </div>\n",
              "</body>\n",
              "</html>"
            ]
          },
          "metadata": {}
        }
      ]
    },
    {
      "cell_type": "markdown",
      "source": [
        "**Expected Ride Duration vs. Cost of Ride**"
      ],
      "metadata": {
        "id": "4mnoeqzJmUtE"
      }
    },
    {
      "cell_type": "code",
      "source": [
        "import plotly.express as px\n",
        "\n",
        "ig = px.scatter(data,\n",
        "                 x='Expected_Ride_Duration',\n",
        "                 y='adjusted_ride_cost',\n",
        "                 title='Expected Ride Duration vs. Cost of Ride',\n",
        "                 trendline='ols')\n",
        "\n",
        "fig.update_traces(marker_color='rgb(65, 185, 130)',)\n",
        "fig.update_layout(template='plotly_white')\n",
        "fig.show()\n"
      ],
      "metadata": {
        "colab": {
          "base_uri": "https://localhost:8080/",
          "height": 542
        },
        "id": "LI7KX0JwXfqH",
        "outputId": "bf1a25a2-e6f9-4265-9d0d-5f323040d5cc"
      },
      "execution_count": 70,
      "outputs": [
        {
          "output_type": "display_data",
          "data": {
            "text/html": [
              "<html>\n",
              "<head><meta charset=\"utf-8\" /></head>\n",
              "<body>\n",
              "    <div>            <script src=\"https://cdnjs.cloudflare.com/ajax/libs/mathjax/2.7.5/MathJax.js?config=TeX-AMS-MML_SVG\"></script><script type=\"text/javascript\">if (window.MathJax && window.MathJax.Hub && window.MathJax.Hub.Config) {window.MathJax.Hub.Config({SVG: {font: \"STIX-Web\"}});}</script>                <script type=\"text/javascript\">window.PlotlyConfig = {MathJaxConfig: 'local'};</script>\n",
              "        <script charset=\"utf-8\" src=\"https://cdn.plot.ly/plotly-2.24.1.min.js\"></script>                <div id=\"852a7aa2-c628-4302-bb33-7f550baffb7f\" class=\"plotly-graph-div\" style=\"height:525px; width:100%;\"></div>            <script type=\"text/javascript\">                                    window.PLOTLYENV=window.PLOTLYENV || {};                                    if (document.getElementById(\"852a7aa2-c628-4302-bb33-7f550baffb7f\")) {                    Plotly.newPlot(                        \"852a7aa2-c628-4302-bb33-7f550baffb7f\",                        [{\"hovertemplate\":\"Expected_Ride_Duration=%{x}\\u003cbr\\u003eadjusted_ride_cost=%{y}\\u003cextra\\u003e\\u003c\\u002fextra\\u003e\",\"legendgroup\":\"\",\"marker\":{\"color\":\"rgb(65, 185, 130)\",\"symbol\":\"circle\"},\"mode\":\"markers\",\"name\":\"\",\"orientation\":\"v\",\"showlegend\":false,\"x\":[90,43,76,134,149,128,16,47,128,128,167,144,164,83,102,140,54,15,22,87,11,15,139,45,65,162,30,158,129,131,81,153,48,105,77,91,94,101,89,170,92,45,125,166,116,91,161,96,32,123,117,53,65,112,106,150,68,128,89,94,69,98,29,81,164,91,147,28,169,64,98,15,67,95,132,96,60,112,40,78,82,98,143,52,86,140,18,48,45,167,113,80,58,126,95,105,156,154,138,45,152,45,131,152,53,16,60,121,166,42,161,47,43,171,136,53,93,13,125,89,120,71,127,108,161,174,171,10,140,154,148,121,11,152,93,23,39,132,90,25,46,160,150,52,23,93,13,125,45,126,10,112,140,92,49,176,175,38,160,158,67,148,140,109,48,175,84,10,145,21,72,87,139,75,14,96,31,87,53,85,56,68,36,24,26,173,87,139,61,175,51,172,170,126,47,45,130,134,97,139,71,77,52,164,63,89,119,146,127,115,56,164,157,176,69,100,27,167,119,53,114,162,77,66,164,10,175,30,14,128,36,96,42,71,31,174,96,127,141,129,151,26,103,85,115,118,99,12,80,177,147,32,168,95,144,69,103,159,90,72,63,143,163,86,68,179,33,171,72,32,126,163,101,133,178,154,134,112,130,144,174,134,176,129,87,18,43,132,124,116,66,149,91,169,70,24,127,37,167,180,116,110,60,79,71,106,85,157,133,166,173,134,140,110,174,56,163,162,130,96,61,50,45,173,90,96,158,126,157,134,175,40,106,152,44,100,102,69,15,131,18,29,22,163,100,110,97,136,131,146,147,64,150,66,100,66,86,163,141,58,75,114,144,106,168,34,166,110,48,90,99,69,160,131,100,24,115,127,112,145,49,64,101,169,45,13,142,60,40,134,103,162,152,88,105,121,26,180,62,132,71,38,23,137,80,56,130,75,95,98,28,19,125,23,30,172,68,35,87,116,143,10,109,60,16,35,22,146,168,115,28,73,11,31,63,32,156,132,37,87,180,179,76,10,30,167,154,52,22,111,148,35,56,39,149,51,61,12,57,85,151,106,18,168,130,123,143,57,32,110,162,65,165,141,172,155,74,142,38,124,103,53,77,51,173,69,32,70,143,97,168,123,147,24,174,75,36,16,46,42,127,159,160,145,46,78,50,65,124,148,75,141,80,43,173,83,41,166,48,107,132,114,94,115,73,72,161,107,121,111,125,59,153,74,150,84,102,126,111,83,147,19,138,61,114,77,76,83,157,127,70,74,139,138,156,117,55,164,142,22,55,32,107,121,113,49,130,149,121,159,83,52,14,33,158,85,29,171,58,53,57,110,31,101,44,24,22,10,23,157,179,41,169,19,111,150,177,68,150,147,161,176,128,115,126,106,154,121,101,66,142,128,111,168,136,18,80,101,130,113,78,115,108,62,129,107,53,125,157,171,90,118,90,50,60,147,12,162,144,86,172,69,106,169,64,141,170,35,145,102,94,21,44,94,178,114,166,146,162,16,87,130,45,170,118,151,121,176,147,16,29,129,180,79,31,61,15,34,105,121,146,13,151,47,132,108,135,38,19,180,111,12,85,124,112,70,13,165,76,141,103,105,18,176,99,107,74,48,73,172,87,43,152,39,21,107,26,98,67,173,151,176,29,138,47,83,125,83,51,140,76,16,72,111,20,128,64,81,107,154,180,162,164,152,157,172,134,167,111,16,159,148,38,144,154,179,122,172,163,67,97,41,154,65,148,129,154,116,146,79,93,153,60,142,157,123,118,141,171,167,33,29,13,72,109,61,77,109,86,122,180,49,20,149,133,20,103,80,64,168,38,83,11,32,21,176,108,62,155,115,178,92,164,47,86,122,49,167,68,101,147,16,122,110,78,105,170,26,158,168,139,26,155,140,75,36,109,85,92,93,99,79,144,153,150,77,104,172,100,141,137,88,25,135,76,100,86,46,92,120,122,66,103,153,94,32,50,167,143,103,84,144,29,169,123,10,13,147,111,35,65,92,177,114,12,127,141,45,151,161,126,137,62,48,160,74,70,113,151,107,115,70,55,117,179,133,110,69,55,25,45,97,81,102,110,134,46,37,173,161,86,31,15,177,82,50,11,129,159,24,169,100,34,139,144,148,89,68,109,162,73,113,147,37,155,76,20,117,32,95,50,105,140,38,89,28,166,97,66,170,129,73,99,109,180,89,98,138,109,51,165,74,138,169,175,24,29,95,81,99,177,28,116,178,149,174,130,67,15,114,42,130,160,156,17,11,94,40,58,147],\"xaxis\":\"x\",\"y\":[266.71052777361797,245.65381734595798,424.4786842449561,701.1554522852574,1952.4724271442476,544.414227482705,105.58526754547013,356.1363785500345,2687.92924550872,768.0622267984248,1588.4298556938925,622.4851570987876,539.4517938901346,422.1460982884892,1505.866812505653,1374.36008125883,315.27699296736836,147.68823480636135,168.28714084325318,481.42048154495563,82.84091893814548,51.256938044005246,1716.5008898605333,537.4885299335115,565.5795208932337,1663.7583766492608,378.21972154182356,625.2234848208183,719.6992755745102,766.3434247203074,359.7081117943463,727.5819950034548,203.8774636900014,673.1441077743353,594.9920145770334,411.448651176701,364.9447574293597,1018.459423462358,358.1859037576156,2589.3108788505524,656.2728597813143,232.77427965817355,508.48117933283214,929.4865660842263,799.2908940827497,267.48564709432645,1082.0221828377175,549.154862446807,147.05230125359932,1291.6659276481719,572.9819376735602,869.6100074490832,167.32096795724425,490.0612323226063,1048.5335744440677,560.440488884175,458.46639220359407,737.3083325435864,812.9815580835061,197.739650120686,341.0241029783227,425.10961557862106,289.41426930380595,393.5496800050219,1053.3655060324197,1095.523164387354,818.9471855560543,173.34355137114665,955.4126270236385,822.1223938172129,868.7971285946797,55.95200422782469,853.0824164749882,515.2483613795903,705.0897168862292,380.64882467464474,305.9820599348604,1293.1244563277914,230.40221426981705,1113.6356163335813,664.0657222545257,1503.078164279382,1201.266878195153,761.7670702370147,469.77584012297297,939.7292983439062,40.99340425482605,481.2024606043001,523.8022066426988,1110.830578147487,788.2490435261179,432.85340438302484,655.1331797220643,1777.9342414605303,522.438152482389,714.0339526919013,1603.6423881210865,978.885809466427,1159.7801870017347,142.2532913210872,529.444690186566,194.1191127746037,812.3408477675779,1051.7571459666106,306.7524381549867,242.43308077938894,192.2160344381136,541.9713979967344,1282.1986160170427,535.8702463582669,579.2402319134828,300.6683354640742,341.9139407929978,2345.5660676162215,832.6778562015356,160.01880218502436,593.7462830600011,164.1457671925275,732.5397162152774,307.06205161698506,565.1938387126878,582.8498172685421,896.9903394065369,317.72169137246397,999.9713017636033,1687.2678132088859,1459.518609354651,34.364507720794855,745.6658383886381,1005.5830378547419,1528.221122765132,760.3271362347658,92.52036493618786,561.2544657396708,778.3398875255085,149.28039261959754,224.76942612862038,601.4079342960596,1085.5246669614326,239.3902046891728,175.2013422219235,700.8253414588735,690.9786459776677,174.1328547269019,79.02727828783786,882.2389988961318,131.34144313051505,2376.5054248461815,661.1699328546313,573.5882426051519,66.81073687738196,464.3722324817913,1329.5488267366227,900.0056284834086,558.3381842987117,1177.953850128116,618.0600119253616,375.81141606123464,2125.8740955176313,3321.9005109614272,598.1707856589401,1081.4908340597508,503.50365993883577,793.9041793369503,771.1927360322769,1149.7416124652589,183.50960134372986,142.9462130010731,755.0415928216725,242.33143351931253,734.1679482724103,385.3632681512299,775.0094373872723,608.4550723856046,80.81411700027053,604.2421794141037,103.74919289677925,769.2766595970312,467.3941929607766,702.6250057711064,350.31335737242193,696.8503647442335,194.57198286798211,303.03817074380237,319.7494654795033,1600.843876621693,379.97743970994503,494.8827771664689,487.0872938702142,682.991860722847,404.3465936333318,3059.851740499118,769.3140596565245,1346.8316566982057,342.28800544069355,257.273033838071,400.4666504700486,1335.8427973138143,320.81123118097145,789.2254052469862,454.0248537315478,343.08187328833833,356.3704278073457,1255.8397655076346,411.7247635350234,222.73437981047343,845.511983070491,1169.8998445551304,862.1180434539936,814.1434262699445,604.2407113472003,629.6856726017277,1169.6716291186494,906.4014526534187,509.93254753343916,308.47313565290716,167.79575718348556,401.4976577512066,1077.5190382073047,379.9291975727271,285.14860105190974,1677.4102458748239,341.18327578386555,458.26248297525234,1605.787610863019,179.46234939115732,1728.7172438136174,199.70401267215772,66.20679357179856,653.3028940168451,209.4566575890746,377.68331625075984,357.65642156686346,545.5605745927319,97.59041987876296,936.9204809157162,1087.6103894669918,1050.9213345108287,1175.750574040162,779.6665640971811,791.9533540866101,138.72008730470125,764.0481140913973,541.0189377391447,484.4484700942458,762.4258261308931,747.8724179457216,32.354312522312306,237.368070332344,1037.5102324141135,831.2940562939754,666.9686064868608,1183.6702146006014,1848.1218824708558,622.0378047324193,218.5519227963743,506.92705828194045,780.3939452114771,871.6143315943475,324.873747203077,242.03504154690663,850.012111745254,551.3369340242419,573.7771328466191,450.9644704522177,1681.8363092459815,71.88702592168664,683.975984445723,913.2526622969814,321.35407355498825,1442.8479896927047,1244.0961228587096,500.0864395640777,1464.3669274726988,2810.4360678198705,2783.6811375735433,1292.4895703132267,478.5559800108727,453.6061686871017,738.8750949465929,886.8664638724589,1893.4259284592706,1418.0443516735168,1526.518641347151,383.86095940857155,90.79790621601323,270.32475679829986,673.6907679318126,462.1887803612514,511.40982488215275,1115.0181246281102,1692.13095095078,364.749074636435,1349.796601920023,168.01475871025698,272.537392511065,961.7745085170942,410.0599925492633,757.1435270271558,1152.1312399910862,486.2395475944297,556.5120995112038,256.72848871670504,694.1016378612229,1211.3701024166774,568.2974554532283,875.870960726255,1074.037818618396,274.93770670924346,865.8403406114085,873.8011303443627,1251.412803118133,1087.7333100321705,325.1067959744827,1558.5236268093047,233.4969713583007,1741.9625039541834,389.462807895145,593.230091367615,980.6766230838559,236.27091779150828,394.40755467930296,306.1068540861067,1933.0118939046736,396.2687842349887,684.2873011032018,718.8790732844609,989.8988457611639,988.8216130263982,1442.3478108223399,617.0377806163355,894.55449305278,407.1660314055159,847.364902746671,183.08882824568374,302.0464610271645,654.7466949129214,282.1844184255056,83.85380803432835,2106.376268607298,73.43189843046373,174.85898941607047,377.42997592372404,1643.9407698407206,1002.1434299700506,436.70447744691165,326.70335246906865,1081.6473833183154,860.0172629965149,1718.747823630607,913.8033240837143,420.1689021737655,687.3514097371684,942.0481800357242,502.00901430041813,228.9355531701539,341.93174868410074,897.0572689306687,1517.9899921339631,335.76693443120433,470.8732193820051,450.77447417262493,465.39782754074025,420.04141416305896,1064.528880227803,188.1097994806941,690.7593306388821,831.6403637538427,299.50569265382796,1904.6895996951264,1275.101691524247,251.87576825533526,975.2630491665248,856.9212691492716,672.9993993271248,382.5914962823792,473.86443607596976,345.90279857202637,737.5384516773631,1259.637527758659,213.07845859666278,669.7689473096935,682.1763357039314,456.26290503739295,164.8175394215609,113.87153579603725,693.379479858469,816.5545511885098,255.95269065584546,1148.8864213220465,638.9378834990245,522.5557564890468,841.7634875418452,563.9313425925883,840.6550631189353,481.18763020067354,88.94833062783744,703.070583866699,435.4139313581861,729.1307738620366,563.1859170971533,498.2352504198045,162.72959868497392,1647.9865661994422,705.1361473982286,339.4724672948418,575.7803612679054,271.38897074327014,1015.4711949160716,598.6539380216728,132.75557101417508,338.8251924747954,773.8163585062061,290.4832683216601,152.54544393772136,895.0113323270739,536.0877759089576,182.46632143825187,538.2099580719827,639.1355217775695,670.9491719693964,33.47378656745454,1192.8266416003335,284.4715963663454,147.78848164189668,357.3580663321614,137.76267381786923,1123.9368651519712,735.6158625594757,248.12369302054427,403.03586361736956,516.0944814837553,73.815119640662,443.62068303540445,486.0491156715058,117.21021953289556,1128.216701883742,992.4403961476888,407.28116832320035,381.85215118237585,881.2269751831009,844.9557165199949,1166.68679706543,96.15159085541123,625.9966805717976,584.3820409570446,1322.074455502724,231.49226099130635,52.31195772193011,870.0145675687432,996.6447320323534,159.7662410865569,247.95022091604233,487.1334162183273,520.2016642863007,458.5594916329761,333.111985146463,345.8844376815454,406.89679662432695,588.6689441663152,967.5814184432814,427.99535203402263,115.22721106530331,689.9685109098657,636.6210217068801,1061.6615710295239,791.7299076270131,376.56535181649883,521.5726936417484,736.2616104078397,1439.4045478580233,267.04780993661274,646.4792663682016,335.6931199155514,667.6229446262826,833.0901802045254,794.8467230229943,1081.921859136315,174.08836346589166,567.5318300844349,514.4403085694838,510.7821449117648,717.5818052783019,557.2897998079019,1027.7971545445828,650.4973275633196,204.20807438797758,462.29319365834357,1430.8487124732308,632.8701261622647,1730.3121813166058,1033.5910961800053,845.1682440137172,287.8699563445968,1254.9802256182686,412.9190772149552,127.78840656492757,288.38656535873537,311.42506816132834,234.53766777673306,421.6682288688565,857.3373216170291,2206.9669184691666,820.7156316877526,226.46249937318728,295.8401979228418,288.7179474760559,226.97925824152577,887.3713999888777,676.2940123111571,279.7339161644737,1262.914287118407,467.63420485912906,162.86885815137614,614.8063510236848,279.73962235221967,251.79424107072936,914.8351226626152,378.199384306169,682.2078993599567,748.8601732394935,614.288912211575,583.8091980919631,1773.394371599337,299.6010178415583,406.90149638438805,1629.1678959700464,563.6804310854117,551.3934733911599,891.835620475924,1452.3786992431071,284.97408927986106,982.8487572153987,332.31027039196124,1487.2543053109744,322.9162383089673,543.4232429311767,797.3867590100084,1134.2250634401544,287.5896653298694,653.7944755003513,169.3919204654837,655.7098846418044,200.60572418730754,537.9600474018763,377.44849625265846,556.1008043167832,587.7722831722007,558.1451943449424,1032.9959627344213,916.254410566278,396.5429208838206,540.4581912307598,990.663843389045,741.5776878423202,1507.1102408539425,411.1171980924447,922.3904394713173,798.2110861186316,186.73590074103828,345.0745725055105,328.5466843363022,614.3635599044351,591.9534440136671,585.6394709727539,499.73802179048954,1095.242870697851,497.78884903773985,442.3714653405537,1214.1222015143048,974.2152722945849,257.3618513608236,335.5847588479032,453.470149214201,1023.0606771819596,319.1167845059264,122.50819527184164,1463.1994709215446,551.2381435345196,183.76174467609567,645.097938754818,667.5832081153372,90.59777096503944,604.739497065753,231.45519848457957,200.60522059414524,107.32799830691589,94.15799671987205,267.76931808439167,1467.1269198237885,534.2370389885843,177.94803920671518,1048.4885455011145,56.398757537802666,600.5888569023807,941.8882124313494,571.6204724599668,774.075075500148,1715.6552750787587,691.6916123858213,3012.6511696830785,1576.0278829114404,1038.4658078208965,379.87642976511614,1362.5033016643506,1489.5620235269967,2059.915487308754,706.3344912709499,334.5472967658904,970.9199763185844,719.4974990031574,1168.5288991566692,877.2414444708103,729.767726256892,648.8521446707304,74.66996314401598,853.3678572890556,328.84015867026363,348.7127685309847,825.3264970396013,406.9266990835751,610.1560032102365,1097.3252133225146,1109.5162851626503,510.08463090447384,442.35348348866745,255.03496254417124,367.9340054637465,811.6748271364662,1035.0709434080177,337.7247109712087,546.6621058309606,657.766400683832,142.10085737183698,503.55915618880516,839.6445463868426,53.74327220728414,851.975664146233,764.5778008108027,730.4878827669243,1224.4730563450212,286.4682790217032,862.7957020437274,715.674987640115,483.08999348865666,1721.9378479523273,970.7791443226113,205.9857182102962,876.7375949873583,1142.3435058739894,642.3294933457973,381.0155132704477,327.51910669378384,376.29518740303695,1395.0396909769456,363.477313192748,1205.5081510660357,812.7927780443322,1001.1318399690576,47.861816282269665,626.1006674490017,846.4200723606734,415.25710035208516,584.4630977046909,436.2883986066507,2972.767154150117,739.2931358297891,704.0651051792969,1475.1222582618138,90.79739234181154,191.12530561187828,742.0188876142681,2760.0688756135696,425.11991813778724,300.32461608877594,223.56369249045716,69.47355129673358,333.22868671631346,1008.681569843489,615.7306566898939,404.3607507736992,154.02256464747822,592.930768622832,167.81318260323224,1379.4981527099455,1631.9681642410883,732.5697433584774,388.10050617825055,225.30949793889243,1051.117783334278,1172.1144267225732,65.17880663629225,408.3621678357011,1327.8860840884104,267.44273178920696,268.05334744077976,85.21792566595082,1511.6299533008407,353.68394580339196,598.7643926637202,847.5914450984527,639.6628055887942,64.8460903270231,1047.4412396623916,210.1491731017745,819.037813454156,560.0755722623477,810.6689565853238,378.94429224377063,783.1196689796242,380.31747817351743,160.66491516083363,611.3481477316873,277.4920173466365,52.75247009136792,406.6925387388446,356.1438919367487,813.5369683558137,719.1592407591633,1206.2707572054783,797.7074650343819,930.0211411163025,589.3415427940682,838.7369016775668,204.85926086161288,653.2171879757253,675.0828516338285,385.17657981601667,477.70016487655886,1011.1523488625131,561.5387176631922,109.23868545115876,541.8375336241756,749.5185344974449,121.4926576025523,609.4499968069301,214.76221172215725,619.5712719421487,528.4950548023397,1058.5245280529834,694.2814996808976,1188.4840897569661,634.3686649707233,645.391714518672,1359.6496594892228,1042.6303268358824,406.4701305949314,1277.5175121412667,580.2374233061433,120.820662212846,1350.0953682843622,1222.468047652326,169.4893048252434,939.2587430428053,839.5132170074644,725.7455328110697,732.5353049226045,1013.2838825269702,918.3654915863816,230.24338269090023,561.0468683348679,302.6887466045764,1021.0010342508643,1220.1456763580497,1297.7348874505192,858.5208201013913,1247.6081827540306,1449.025020433162,1778.4011032615883,258.36665131809525,354.6527260553368,606.8759180020231,190.7812484033281,875.3782345937428,1793.0405410250269,627.6909440230858,400.5488210499124,341.64404896544227,457.2165440728306,842.5054287705648,522.282939435721,156.27882396015312,123.25529034662495,401.41031929662057,973.9731011763574,320.91875631957214,385.07763436826883,464.68041315379577,532.9957438128347,903.3096358529451,1798.4056636472963,410.164513040177,146.13581716311668,1369.6060829352145,584.1681830994155,142.14841768303498,1254.1473231722216,553.6080531665352,647.8076926890138,618.6918844862269,182.13274380620683,366.99521898016616,84.02224207338016,420.37316749278256,112.5091294972914,912.4878178727881,795.7491641363606,338.99190293079073,560.9131779975504,1074.3074446312626,873.352468251193,645.2204741255908,1232.6705546567102,152.41544077312489,279.9975244146672,484.48280601981025,232.52613102851748,544.7417560269099,296.73594852140747,346.42763485411854,630.0223688711988,48.60855105950391,448.9427469990342,325.4160129798869,584.559651439385,545.2603733868274,1190.1295913638617,290.2221603348521,665.0679335000618,869.8300131348389,2229.108192522133,150.3873940548717,889.4477802172905,2226.484898926929,380.25974250798475,306.60045696974476,249.63623492502066,1627.4698265044085,200.6248646923665,567.6481435594462,293.53109654440726,322.5179476827188,975.3034353666775,719.8121163952316,1942.0699084938815,996.2844378705316,512.2477742887849,958.0673608992006,369.1490185608537,780.9145039518611,378.0179230368381,552.8829405178766,236.62348009353263,787.9898961153377,345.4106558951307,786.1428320800359,783.1034682493564,422.9049785498551,295.3133326403338,698.2195780748161,1032.9254352624532,392.26546017018615,318.05187235291146,1011.6389617064051,586.6328726656449,135.15247471472526,289.6137516903042,753.4639845427931,521.417257084104,1051.9837190133708,1369.4172439668696,1133.4365102209229,383.0190619294396,655.4844007410987,396.34133484941054,80.85397854064824,33.46430708694733,1162.08752803064,779.6458055364278,455.59167702975486,515.7437830345117,662.83259303235,591.2643060157994,456.59491663263407,37.77099218671988,444.4327797567634,1463.8788984946393,393.59607333009996,585.3321358762487,2544.2912275135964,1851.7208388748581,895.1993835143437,803.0738771911136,797.9888463433637,751.713349413907,317.5176050476412,673.7314249541602,697.9670727186095,570.1060433418089,729.4368697135036,923.7497989880915,402.68097478158546,425.18624190747926,493.90780890496154,1861.3639174265438,523.4753672437433,373.2157808270797,265.14545076504606,707.4807064563845,225.82270718510574,465.1417779632678,378.93667219809834,182.5132974938025,582.6904553920984,1073.6182196185569,1118.3944091314606,341.96910868546365,158.17431074893037,766.5076659591515,1091.413743067962,353.1787685721484,147.82730196839745,34.45486326401049,1652.4935361526839,890.7887956827417,554.9546141594886,74.81003227783599,415.16824970218045,890.1777543151399,83.70428951943832,1509.4176384937805,450.96599805510925,479.0353483560821,750.3885216032336,904.4446265919906,718.5986081524323,361.16983283428436,457.00241589725175,287.49590469717,645.4964025811166,527.4694326896692,447.56488006279307,1157.5457144081424,157.53962641440575,632.4402067963571,264.27625945831437,120.47646237288549,882.7521058916373,153.41580003475815,525.7673018616365,464.07229461062,1001.4082944134772,727.8444832701341,774.1368580888226,416.3543577743125,394.7162333352202,1279.5833436546927,1044.5486112072542,576.5712256223849,494.70521414300595,675.5867343117324,1285.7215885583805,311.59401019194104,735.7803952080712,2100.7016630530675,258.1515850368966,897.8747681917064,625.6622180218543,891.1968956186502,312.0483856485931,620.0654541109922,466.41773132227746,732.2017391129019,1629.4190108154107,1267.1421645758649,65.7398626469571,104.72482137583211,309.6726242107452,370.11488315746317,788.6569155779797,536.484966846803,196.91840419669822,571.4414999628902,806.196699146332,689.9113523119014,1558.41783767507,978.5994111215849,591.0637556505028,167.94019939703213,427.95290843121495,193.92240084319118,1025.4896602919812,1221.2491772764013,1122.796876014062,266.44484434106295,124.5678973606918,576.3754404222963,317.3524078279172,520.4605807220448,1021.9015646302992],\"yaxis\":\"y\",\"type\":\"scatter\"},{\"hovertemplate\":\"\\u003cb\\u003eOLS trendline\\u003c\\u002fb\\u003e\\u003cbr\\u003eadjusted_ride_cost = 6.41066 * Expected_Ride_Duration + 42.715\\u003cbr\\u003eR\\u003csup\\u003e2\\u003c\\u002fsup\\u003e=0.426517\\u003cbr\\u003e\\u003cbr\\u003eExpected_Ride_Duration=%{x}\\u003cbr\\u003eadjusted_ride_cost=%{y} \\u003cb\\u003e(trend)\\u003c\\u002fb\\u003e\\u003cextra\\u003e\\u003c\\u002fextra\\u003e\",\"legendgroup\":\"\",\"marker\":{\"color\":\"rgb(65, 185, 130)\",\"symbol\":\"circle\"},\"mode\":\"lines\",\"name\":\"\",\"showlegend\":false,\"x\":[10,10,10,10,10,10,10,10,11,11,11,11,11,11,12,12,12,12,12,13,13,13,13,13,13,13,14,14,14,15,15,15,15,15,15,15,16,16,16,16,16,16,16,16,16,17,18,18,18,18,18,18,19,19,19,19,20,20,20,20,21,21,21,21,22,22,22,22,22,22,23,23,23,23,23,24,24,24,24,24,24,24,25,25,25,26,26,26,26,26,26,27,28,28,28,28,28,29,29,29,29,29,29,29,29,30,30,30,30,31,31,31,31,31,31,32,32,32,32,32,32,32,32,32,32,33,33,33,34,34,34,35,35,35,35,35,36,36,36,36,37,37,37,37,38,38,38,38,38,38,38,39,39,39,40,40,40,40,41,41,41,42,42,42,42,43,43,43,43,43,44,44,44,45,45,45,45,45,45,45,45,45,45,45,45,46,46,46,46,46,47,47,47,47,47,47,48,48,48,48,48,48,48,49,49,49,49,49,50,50,50,50,50,50,51,51,51,51,51,52,52,52,52,52,53,53,53,53,53,53,53,53,54,55,55,55,55,56,56,56,56,56,57,57,57,58,58,58,58,59,60,60,60,60,60,60,60,61,61,61,61,61,61,62,62,62,62,63,63,63,64,64,64,64,64,64,65,65,65,65,65,65,66,66,66,66,66,66,66,67,67,67,67,67,68,68,68,68,68,68,68,69,69,69,69,69,69,69,69,70,70,70,70,70,70,71,71,71,71,71,72,72,72,72,72,72,73,73,73,73,73,74,74,74,74,74,74,75,75,75,75,75,75,76,76,76,76,76,76,76,77,77,77,77,77,77,77,78,78,78,78,79,79,79,79,80,80,80,80,80,80,81,81,81,81,81,82,82,83,83,83,83,83,83,83,83,84,84,84,85,85,85,85,85,85,85,86,86,86,86,86,86,86,86,87,87,87,87,87,87,87,87,87,88,88,89,89,89,89,89,89,89,90,90,90,90,90,90,90,91,91,91,91,92,92,92,92,92,92,93,93,93,93,93,94,94,94,94,94,94,94,95,95,95,95,95,95,96,96,96,96,96,96,96,97,97,97,97,97,97,98,98,98,98,98,98,99,99,99,99,99,99,100,100,100,100,100,100,100,100,101,101,101,101,101,101,101,102,102,102,102,102,103,103,103,103,103,103,103,103,104,105,105,105,105,105,105,105,106,106,106,106,106,106,106,107,107,107,107,107,107,107,107,108,108,108,108,109,109,109,109,109,109,109,109,110,110,110,110,110,110,110,110,110,111,111,111,111,111,111,111,111,111,112,112,112,112,112,112,113,113,113,113,113,114,114,114,114,114,114,114,115,115,115,115,115,115,115,115,115,116,116,116,116,116,116,117,117,117,117,118,118,118,118,119,119,120,120,121,121,121,121,121,121,121,121,121,122,122,122,122,122,123,123,123,123,123,124,124,124,124,125,125,125,125,125,125,125,126,126,126,126,126,126,126,126,127,127,127,127,127,127,127,127,128,128,128,128,128,128,128,128,129,129,129,129,129,129,129,129,130,130,130,130,130,130,130,130,130,130,131,131,131,131,131,132,132,132,132,132,132,132,133,133,133,133,134,134,134,134,134,134,134,134,134,135,135,136,136,136,137,137,137,138,138,138,138,138,138,139,139,139,139,139,139,139,140,140,140,140,140,140,140,140,140,141,141,141,141,141,141,141,141,141,142,142,142,142,142,143,143,143,143,143,143,144,144,144,144,144,144,144,144,144,145,145,145,145,146,146,146,146,146,146,147,147,147,147,147,147,147,147,147,147,147,147,148,148,148,148,148,148,148,149,149,149,149,149,149,150,150,150,150,150,150,150,151,151,151,151,151,151,151,152,152,152,152,152,152,152,153,153,153,153,153,154,154,154,154,154,154,154,154,154,155,155,155,155,156,156,156,156,157,157,157,157,157,157,157,157,158,158,158,158,158,159,159,159,159,159,160,160,160,160,160,160,161,161,161,161,161,161,161,162,162,162,162,162,162,162,162,162,163,163,163,163,163,163,164,164,164,164,164,164,164,164,165,165,165,166,166,166,166,166,166,166,167,167,167,167,167,167,167,167,167,168,168,168,168,168,168,168,168,169,169,169,169,169,169,169,169,170,170,170,170,170,170,171,171,171,171,171,171,172,172,172,172,172,172,172,172,173,173,173,173,173,173,173,174,174,174,174,174,174,175,175,175,175,175,175,176,176,176,176,176,176,176,176,177,177,177,177,177,178,178,178,178,179,179,179,179,179,180,180,180,180,180,180,180,180],\"xaxis\":\"x\",\"y\":[106.82164889460995,106.82164889460995,106.82164889460995,106.82164889460995,106.82164889460995,106.82164889460995,106.82164889460995,106.82164889460995,113.2323106852285,113.2323106852285,113.2323106852285,113.2323106852285,113.2323106852285,113.2323106852285,119.64297247584703,119.64297247584703,119.64297247584703,119.64297247584703,119.64297247584703,126.05363426646556,126.05363426646556,126.05363426646556,126.05363426646556,126.05363426646556,126.05363426646556,126.05363426646556,132.4642960570841,132.4642960570841,132.4642960570841,138.87495784770266,138.87495784770266,138.87495784770266,138.87495784770266,138.87495784770266,138.87495784770266,138.87495784770266,145.28561963832118,145.28561963832118,145.28561963832118,145.28561963832118,145.28561963832118,145.28561963832118,145.28561963832118,145.28561963832118,145.28561963832118,151.6962814289397,158.10694321955825,158.10694321955825,158.10694321955825,158.10694321955825,158.10694321955825,158.10694321955825,164.5176050101768,164.5176050101768,164.5176050101768,164.5176050101768,170.9282668007953,170.9282668007953,170.9282668007953,170.9282668007953,177.33892859141386,177.33892859141386,177.33892859141386,177.33892859141386,183.7495903820324,183.7495903820324,183.7495903820324,183.7495903820324,183.7495903820324,183.7495903820324,190.16025217265093,190.16025217265093,190.16025217265093,190.16025217265093,190.16025217265093,196.57091396326948,196.57091396326948,196.57091396326948,196.57091396326948,196.57091396326948,196.57091396326948,196.57091396326948,202.98157575388802,202.98157575388802,202.98157575388802,209.39223754450654,209.39223754450654,209.39223754450654,209.39223754450654,209.39223754450654,209.39223754450654,215.8028993351251,222.21356112574364,222.21356112574364,222.21356112574364,222.21356112574364,222.21356112574364,228.62422291636216,228.62422291636216,228.62422291636216,228.62422291636216,228.62422291636216,228.62422291636216,228.62422291636216,228.62422291636216,235.0348847069807,235.0348847069807,235.0348847069807,235.0348847069807,241.44554649759922,241.44554649759922,241.44554649759922,241.44554649759922,241.44554649759922,241.44554649759922,247.85620828821777,247.85620828821777,247.85620828821777,247.85620828821777,247.85620828821777,247.85620828821777,247.85620828821777,247.85620828821777,247.85620828821777,247.85620828821777,254.26687007883632,254.26687007883632,254.26687007883632,260.6775318694548,260.6775318694548,260.6775318694548,267.0881936600734,267.0881936600734,267.0881936600734,267.0881936600734,267.0881936600734,273.4988554506919,273.4988554506919,273.4988554506919,273.4988554506919,279.9095172413105,279.9095172413105,279.9095172413105,279.9095172413105,286.320179031929,286.320179031929,286.320179031929,286.320179031929,286.320179031929,286.320179031929,286.320179031929,292.7308408225475,292.7308408225475,292.7308408225475,299.14150261316604,299.14150261316604,299.14150261316604,299.14150261316604,305.5521644037846,305.5521644037846,305.5521644037846,311.96282619440314,311.96282619440314,311.96282619440314,311.96282619440314,318.37348798502165,318.37348798502165,318.37348798502165,318.37348798502165,318.37348798502165,324.78414977564023,324.78414977564023,324.78414977564023,331.19481156625875,331.19481156625875,331.19481156625875,331.19481156625875,331.19481156625875,331.19481156625875,331.19481156625875,331.19481156625875,331.19481156625875,331.19481156625875,331.19481156625875,331.19481156625875,337.60547335687727,337.60547335687727,337.60547335687727,337.60547335687727,337.60547335687727,344.01613514749585,344.01613514749585,344.01613514749585,344.01613514749585,344.01613514749585,344.01613514749585,350.42679693811436,350.42679693811436,350.42679693811436,350.42679693811436,350.42679693811436,350.42679693811436,350.42679693811436,356.8374587287329,356.8374587287329,356.8374587287329,356.8374587287329,356.8374587287329,363.24812051935146,363.24812051935146,363.24812051935146,363.24812051935146,363.24812051935146,363.24812051935146,369.65878230997,369.65878230997,369.65878230997,369.65878230997,369.65878230997,376.0694441005885,376.0694441005885,376.0694441005885,376.0694441005885,376.0694441005885,382.4801058912071,382.4801058912071,382.4801058912071,382.4801058912071,382.4801058912071,382.4801058912071,382.4801058912071,382.4801058912071,388.8907676818256,395.3014294724441,395.3014294724441,395.3014294724441,395.3014294724441,401.7120912630627,401.7120912630627,401.7120912630627,401.7120912630627,401.7120912630627,408.1227530536812,408.1227530536812,408.1227530536812,414.5334148442997,414.5334148442997,414.5334148442997,414.5334148442997,420.94407663491825,427.3547384255368,427.3547384255368,427.3547384255368,427.3547384255368,427.3547384255368,427.3547384255368,427.3547384255368,433.76540021615534,433.76540021615534,433.76540021615534,433.76540021615534,433.76540021615534,433.76540021615534,440.17606200677386,440.17606200677386,440.17606200677386,440.17606200677386,446.58672379739244,446.58672379739244,446.58672379739244,452.99738558801096,452.99738558801096,452.99738558801096,452.99738558801096,452.99738558801096,452.99738558801096,459.4080473786295,459.4080473786295,459.4080473786295,459.4080473786295,459.4080473786295,459.4080473786295,465.81870916924805,465.81870916924805,465.81870916924805,465.81870916924805,465.81870916924805,465.81870916924805,465.81870916924805,472.22937095986657,472.22937095986657,472.22937095986657,472.22937095986657,472.22937095986657,478.6400327504851,478.6400327504851,478.6400327504851,478.6400327504851,478.6400327504851,478.6400327504851,478.6400327504851,485.05069454110367,485.05069454110367,485.05069454110367,485.05069454110367,485.05069454110367,485.05069454110367,485.05069454110367,485.05069454110367,491.4613563317222,491.4613563317222,491.4613563317222,491.4613563317222,491.4613563317222,491.4613563317222,497.8720181223407,497.8720181223407,497.8720181223407,497.8720181223407,497.8720181223407,504.2826799129592,504.2826799129592,504.2826799129592,504.2826799129592,504.2826799129592,504.2826799129592,510.6933417035778,510.6933417035778,510.6933417035778,510.6933417035778,510.6933417035778,517.1040034941964,517.1040034941964,517.1040034941964,517.1040034941964,517.1040034941964,517.1040034941964,523.5146652848148,523.5146652848148,523.5146652848148,523.5146652848148,523.5146652848148,523.5146652848148,529.9253270754334,529.9253270754334,529.9253270754334,529.9253270754334,529.9253270754334,529.9253270754334,529.9253270754334,536.3359888660519,536.3359888660519,536.3359888660519,536.3359888660519,536.3359888660519,536.3359888660519,536.3359888660519,542.7466506566705,542.7466506566705,542.7466506566705,542.7466506566705,549.1573124472891,549.1573124472891,549.1573124472891,549.1573124472891,555.5679742379075,555.5679742379075,555.5679742379075,555.5679742379075,555.5679742379075,555.5679742379075,561.9786360285261,561.9786360285261,561.9786360285261,561.9786360285261,561.9786360285261,568.3892978191446,568.3892978191446,574.7999596097632,574.7999596097632,574.7999596097632,574.7999596097632,574.7999596097632,574.7999596097632,574.7999596097632,574.7999596097632,581.2106214003817,581.2106214003817,581.2106214003817,587.6212831910002,587.6212831910002,587.6212831910002,587.6212831910002,587.6212831910002,587.6212831910002,587.6212831910002,594.0319449816187,594.0319449816187,594.0319449816187,594.0319449816187,594.0319449816187,594.0319449816187,594.0319449816187,594.0319449816187,600.4426067722374,600.4426067722374,600.4426067722374,600.4426067722374,600.4426067722374,600.4426067722374,600.4426067722374,600.4426067722374,600.4426067722374,606.8532685628559,606.8532685628559,613.2639303534744,613.2639303534744,613.2639303534744,613.2639303534744,613.2639303534744,613.2639303534744,613.2639303534744,619.6745921440929,619.6745921440929,619.6745921440929,619.6745921440929,619.6745921440929,619.6745921440929,619.6745921440929,626.0852539347114,626.0852539347114,626.0852539347114,626.0852539347114,632.49591572533,632.49591572533,632.49591572533,632.49591572533,632.49591572533,632.49591572533,638.9065775159486,638.9065775159486,638.9065775159486,638.9065775159486,638.9065775159486,645.3172393065671,645.3172393065671,645.3172393065671,645.3172393065671,645.3172393065671,645.3172393065671,645.3172393065671,651.7279010971856,651.7279010971856,651.7279010971856,651.7279010971856,651.7279010971856,651.7279010971856,658.1385628878041,658.1385628878041,658.1385628878041,658.1385628878041,658.1385628878041,658.1385628878041,658.1385628878041,664.5492246784227,664.5492246784227,664.5492246784227,664.5492246784227,664.5492246784227,664.5492246784227,670.9598864690412,670.9598864690412,670.9598864690412,670.9598864690412,670.9598864690412,670.9598864690412,677.3705482596597,677.3705482596597,677.3705482596597,677.3705482596597,677.3705482596597,677.3705482596597,683.7812100502783,683.7812100502783,683.7812100502783,683.7812100502783,683.7812100502783,683.7812100502783,683.7812100502783,683.7812100502783,690.1918718408969,690.1918718408969,690.1918718408969,690.1918718408969,690.1918718408969,690.1918718408969,690.1918718408969,696.6025336315154,696.6025336315154,696.6025336315154,696.6025336315154,696.6025336315154,703.0131954221339,703.0131954221339,703.0131954221339,703.0131954221339,703.0131954221339,703.0131954221339,703.0131954221339,703.0131954221339,709.4238572127524,715.8345190033709,715.8345190033709,715.8345190033709,715.8345190033709,715.8345190033709,715.8345190033709,715.8345190033709,722.2451807939896,722.2451807939896,722.2451807939896,722.2451807939896,722.2451807939896,722.2451807939896,722.2451807939896,728.6558425846081,728.6558425846081,728.6558425846081,728.6558425846081,728.6558425846081,728.6558425846081,728.6558425846081,728.6558425846081,735.0665043752266,735.0665043752266,735.0665043752266,735.0665043752266,741.4771661658451,741.4771661658451,741.4771661658451,741.4771661658451,741.4771661658451,741.4771661658451,741.4771661658451,741.4771661658451,747.8878279564636,747.8878279564636,747.8878279564636,747.8878279564636,747.8878279564636,747.8878279564636,747.8878279564636,747.8878279564636,747.8878279564636,754.2984897470822,754.2984897470822,754.2984897470822,754.2984897470822,754.2984897470822,754.2984897470822,754.2984897470822,754.2984897470822,754.2984897470822,760.7091515377008,760.7091515377008,760.7091515377008,760.7091515377008,760.7091515377008,760.7091515377008,767.1198133283193,767.1198133283193,767.1198133283193,767.1198133283193,767.1198133283193,773.5304751189378,773.5304751189378,773.5304751189378,773.5304751189378,773.5304751189378,773.5304751189378,773.5304751189378,779.9411369095563,779.9411369095563,779.9411369095563,779.9411369095563,779.9411369095563,779.9411369095563,779.9411369095563,779.9411369095563,779.9411369095563,786.3517987001749,786.3517987001749,786.3517987001749,786.3517987001749,786.3517987001749,786.3517987001749,792.7624604907934,792.7624604907934,792.7624604907934,792.7624604907934,799.1731222814119,799.1731222814119,799.1731222814119,799.1731222814119,805.5837840720305,805.5837840720305,811.9944458626491,811.9944458626491,818.4051076532676,818.4051076532676,818.4051076532676,818.4051076532676,818.4051076532676,818.4051076532676,818.4051076532676,818.4051076532676,818.4051076532676,824.8157694438861,824.8157694438861,824.8157694438861,824.8157694438861,824.8157694438861,831.2264312345046,831.2264312345046,831.2264312345046,831.2264312345046,831.2264312345046,837.6370930251231,837.6370930251231,837.6370930251231,837.6370930251231,844.0477548157418,844.0477548157418,844.0477548157418,844.0477548157418,844.0477548157418,844.0477548157418,844.0477548157418,850.4584166063603,850.4584166063603,850.4584166063603,850.4584166063603,850.4584166063603,850.4584166063603,850.4584166063603,850.4584166063603,856.8690783969788,856.8690783969788,856.8690783969788,856.8690783969788,856.8690783969788,856.8690783969788,856.8690783969788,856.8690783969788,863.2797401875973,863.2797401875973,863.2797401875973,863.2797401875973,863.2797401875973,863.2797401875973,863.2797401875973,863.2797401875973,869.6904019782158,869.6904019782158,869.6904019782158,869.6904019782158,869.6904019782158,869.6904019782158,869.6904019782158,869.6904019782158,876.1010637688344,876.1010637688344,876.1010637688344,876.1010637688344,876.1010637688344,876.1010637688344,876.1010637688344,876.1010637688344,876.1010637688344,876.1010637688344,882.5117255594529,882.5117255594529,882.5117255594529,882.5117255594529,882.5117255594529,888.9223873500715,888.9223873500715,888.9223873500715,888.9223873500715,888.9223873500715,888.9223873500715,888.9223873500715,895.33304914069,895.33304914069,895.33304914069,895.33304914069,901.7437109313086,901.7437109313086,901.7437109313086,901.7437109313086,901.7437109313086,901.7437109313086,901.7437109313086,901.7437109313086,901.7437109313086,908.1543727219271,908.1543727219271,914.5650345125456,914.5650345125456,914.5650345125456,920.9756963031641,920.9756963031641,920.9756963031641,927.3863580937827,927.3863580937827,927.3863580937827,927.3863580937827,927.3863580937827,927.3863580937827,933.7970198844013,933.7970198844013,933.7970198844013,933.7970198844013,933.7970198844013,933.7970198844013,933.7970198844013,940.2076816750198,940.2076816750198,940.2076816750198,940.2076816750198,940.2076816750198,940.2076816750198,940.2076816750198,940.2076816750198,940.2076816750198,946.6183434656383,946.6183434656383,946.6183434656383,946.6183434656383,946.6183434656383,946.6183434656383,946.6183434656383,946.6183434656383,946.6183434656383,953.0290052562568,953.0290052562568,953.0290052562568,953.0290052562568,953.0290052562568,959.4396670468753,959.4396670468753,959.4396670468753,959.4396670468753,959.4396670468753,959.4396670468753,965.8503288374939,965.8503288374939,965.8503288374939,965.8503288374939,965.8503288374939,965.8503288374939,965.8503288374939,965.8503288374939,965.8503288374939,972.2609906281125,972.2609906281125,972.2609906281125,972.2609906281125,978.671652418731,978.671652418731,978.671652418731,978.671652418731,978.671652418731,978.671652418731,985.0823142093495,985.0823142093495,985.0823142093495,985.0823142093495,985.0823142093495,985.0823142093495,985.0823142093495,985.0823142093495,985.0823142093495,985.0823142093495,985.0823142093495,985.0823142093495,991.492975999968,991.492975999968,991.492975999968,991.492975999968,991.492975999968,991.492975999968,991.492975999968,997.9036377905866,997.9036377905866,997.9036377905866,997.9036377905866,997.9036377905866,997.9036377905866,1004.3142995812051,1004.3142995812051,1004.3142995812051,1004.3142995812051,1004.3142995812051,1004.3142995812051,1004.3142995812051,1010.7249613718237,1010.7249613718237,1010.7249613718237,1010.7249613718237,1010.7249613718237,1010.7249613718237,1010.7249613718237,1017.1356231624422,1017.1356231624422,1017.1356231624422,1017.1356231624422,1017.1356231624422,1017.1356231624422,1017.1356231624422,1023.5462849530608,1023.5462849530608,1023.5462849530608,1023.5462849530608,1023.5462849530608,1029.9569467436793,1029.9569467436793,1029.9569467436793,1029.9569467436793,1029.9569467436793,1029.9569467436793,1029.9569467436793,1029.9569467436793,1029.9569467436793,1036.3676085342977,1036.3676085342977,1036.3676085342977,1036.3676085342977,1042.7782703249163,1042.7782703249163,1042.7782703249163,1042.7782703249163,1049.188932115535,1049.188932115535,1049.188932115535,1049.188932115535,1049.188932115535,1049.188932115535,1049.188932115535,1049.188932115535,1055.5995939061536,1055.5995939061536,1055.5995939061536,1055.5995939061536,1055.5995939061536,1062.010255696772,1062.010255696772,1062.010255696772,1062.010255696772,1062.010255696772,1068.4209174873904,1068.4209174873904,1068.4209174873904,1068.4209174873904,1068.4209174873904,1068.4209174873904,1074.831579278009,1074.831579278009,1074.831579278009,1074.831579278009,1074.831579278009,1074.831579278009,1074.831579278009,1081.2422410686277,1081.2422410686277,1081.2422410686277,1081.2422410686277,1081.2422410686277,1081.2422410686277,1081.2422410686277,1081.2422410686277,1081.2422410686277,1087.652902859246,1087.652902859246,1087.652902859246,1087.652902859246,1087.652902859246,1087.652902859246,1094.0635646498647,1094.0635646498647,1094.0635646498647,1094.0635646498647,1094.0635646498647,1094.0635646498647,1094.0635646498647,1094.0635646498647,1100.474226440483,1100.474226440483,1100.474226440483,1106.8848882311017,1106.8848882311017,1106.8848882311017,1106.8848882311017,1106.8848882311017,1106.8848882311017,1106.8848882311017,1113.2955500217204,1113.2955500217204,1113.2955500217204,1113.2955500217204,1113.2955500217204,1113.2955500217204,1113.2955500217204,1113.2955500217204,1113.2955500217204,1119.7062118123388,1119.7062118123388,1119.7062118123388,1119.7062118123388,1119.7062118123388,1119.7062118123388,1119.7062118123388,1119.7062118123388,1126.1168736029574,1126.1168736029574,1126.1168736029574,1126.1168736029574,1126.1168736029574,1126.1168736029574,1126.1168736029574,1126.1168736029574,1132.5275353935758,1132.5275353935758,1132.5275353935758,1132.5275353935758,1132.5275353935758,1132.5275353935758,1138.9381971841945,1138.9381971841945,1138.9381971841945,1138.9381971841945,1138.9381971841945,1138.9381971841945,1145.3488589748129,1145.3488589748129,1145.3488589748129,1145.3488589748129,1145.3488589748129,1145.3488589748129,1145.3488589748129,1145.3488589748129,1151.7595207654315,1151.7595207654315,1151.7595207654315,1151.7595207654315,1151.7595207654315,1151.7595207654315,1151.7595207654315,1158.1701825560501,1158.1701825560501,1158.1701825560501,1158.1701825560501,1158.1701825560501,1158.1701825560501,1164.5808443466685,1164.5808443466685,1164.5808443466685,1164.5808443466685,1164.5808443466685,1164.5808443466685,1170.9915061372872,1170.9915061372872,1170.9915061372872,1170.9915061372872,1170.9915061372872,1170.9915061372872,1170.9915061372872,1170.9915061372872,1177.4021679279056,1177.4021679279056,1177.4021679279056,1177.4021679279056,1177.4021679279056,1183.8128297185242,1183.8128297185242,1183.8128297185242,1183.8128297185242,1190.2234915091426,1190.2234915091426,1190.2234915091426,1190.2234915091426,1190.2234915091426,1196.6341532997612,1196.6341532997612,1196.6341532997612,1196.6341532997612,1196.6341532997612,1196.6341532997612,1196.6341532997612,1196.6341532997612],\"yaxis\":\"y\",\"type\":\"scatter\"}],                        {\"template\":{\"data\":{\"barpolar\":[{\"marker\":{\"line\":{\"color\":\"white\",\"width\":0.5},\"pattern\":{\"fillmode\":\"overlay\",\"size\":10,\"solidity\":0.2}},\"type\":\"barpolar\"}],\"bar\":[{\"error_x\":{\"color\":\"#2a3f5f\"},\"error_y\":{\"color\":\"#2a3f5f\"},\"marker\":{\"line\":{\"color\":\"white\",\"width\":0.5},\"pattern\":{\"fillmode\":\"overlay\",\"size\":10,\"solidity\":0.2}},\"type\":\"bar\"}],\"carpet\":[{\"aaxis\":{\"endlinecolor\":\"#2a3f5f\",\"gridcolor\":\"#C8D4E3\",\"linecolor\":\"#C8D4E3\",\"minorgridcolor\":\"#C8D4E3\",\"startlinecolor\":\"#2a3f5f\"},\"baxis\":{\"endlinecolor\":\"#2a3f5f\",\"gridcolor\":\"#C8D4E3\",\"linecolor\":\"#C8D4E3\",\"minorgridcolor\":\"#C8D4E3\",\"startlinecolor\":\"#2a3f5f\"},\"type\":\"carpet\"}],\"choropleth\":[{\"colorbar\":{\"outlinewidth\":0,\"ticks\":\"\"},\"type\":\"choropleth\"}],\"contourcarpet\":[{\"colorbar\":{\"outlinewidth\":0,\"ticks\":\"\"},\"type\":\"contourcarpet\"}],\"contour\":[{\"colorbar\":{\"outlinewidth\":0,\"ticks\":\"\"},\"colorscale\":[[0.0,\"#0d0887\"],[0.1111111111111111,\"#46039f\"],[0.2222222222222222,\"#7201a8\"],[0.3333333333333333,\"#9c179e\"],[0.4444444444444444,\"#bd3786\"],[0.5555555555555556,\"#d8576b\"],[0.6666666666666666,\"#ed7953\"],[0.7777777777777778,\"#fb9f3a\"],[0.8888888888888888,\"#fdca26\"],[1.0,\"#f0f921\"]],\"type\":\"contour\"}],\"heatmapgl\":[{\"colorbar\":{\"outlinewidth\":0,\"ticks\":\"\"},\"colorscale\":[[0.0,\"#0d0887\"],[0.1111111111111111,\"#46039f\"],[0.2222222222222222,\"#7201a8\"],[0.3333333333333333,\"#9c179e\"],[0.4444444444444444,\"#bd3786\"],[0.5555555555555556,\"#d8576b\"],[0.6666666666666666,\"#ed7953\"],[0.7777777777777778,\"#fb9f3a\"],[0.8888888888888888,\"#fdca26\"],[1.0,\"#f0f921\"]],\"type\":\"heatmapgl\"}],\"heatmap\":[{\"colorbar\":{\"outlinewidth\":0,\"ticks\":\"\"},\"colorscale\":[[0.0,\"#0d0887\"],[0.1111111111111111,\"#46039f\"],[0.2222222222222222,\"#7201a8\"],[0.3333333333333333,\"#9c179e\"],[0.4444444444444444,\"#bd3786\"],[0.5555555555555556,\"#d8576b\"],[0.6666666666666666,\"#ed7953\"],[0.7777777777777778,\"#fb9f3a\"],[0.8888888888888888,\"#fdca26\"],[1.0,\"#f0f921\"]],\"type\":\"heatmap\"}],\"histogram2dcontour\":[{\"colorbar\":{\"outlinewidth\":0,\"ticks\":\"\"},\"colorscale\":[[0.0,\"#0d0887\"],[0.1111111111111111,\"#46039f\"],[0.2222222222222222,\"#7201a8\"],[0.3333333333333333,\"#9c179e\"],[0.4444444444444444,\"#bd3786\"],[0.5555555555555556,\"#d8576b\"],[0.6666666666666666,\"#ed7953\"],[0.7777777777777778,\"#fb9f3a\"],[0.8888888888888888,\"#fdca26\"],[1.0,\"#f0f921\"]],\"type\":\"histogram2dcontour\"}],\"histogram2d\":[{\"colorbar\":{\"outlinewidth\":0,\"ticks\":\"\"},\"colorscale\":[[0.0,\"#0d0887\"],[0.1111111111111111,\"#46039f\"],[0.2222222222222222,\"#7201a8\"],[0.3333333333333333,\"#9c179e\"],[0.4444444444444444,\"#bd3786\"],[0.5555555555555556,\"#d8576b\"],[0.6666666666666666,\"#ed7953\"],[0.7777777777777778,\"#fb9f3a\"],[0.8888888888888888,\"#fdca26\"],[1.0,\"#f0f921\"]],\"type\":\"histogram2d\"}],\"histogram\":[{\"marker\":{\"pattern\":{\"fillmode\":\"overlay\",\"size\":10,\"solidity\":0.2}},\"type\":\"histogram\"}],\"mesh3d\":[{\"colorbar\":{\"outlinewidth\":0,\"ticks\":\"\"},\"type\":\"mesh3d\"}],\"parcoords\":[{\"line\":{\"colorbar\":{\"outlinewidth\":0,\"ticks\":\"\"}},\"type\":\"parcoords\"}],\"pie\":[{\"automargin\":true,\"type\":\"pie\"}],\"scatter3d\":[{\"line\":{\"colorbar\":{\"outlinewidth\":0,\"ticks\":\"\"}},\"marker\":{\"colorbar\":{\"outlinewidth\":0,\"ticks\":\"\"}},\"type\":\"scatter3d\"}],\"scattercarpet\":[{\"marker\":{\"colorbar\":{\"outlinewidth\":0,\"ticks\":\"\"}},\"type\":\"scattercarpet\"}],\"scattergeo\":[{\"marker\":{\"colorbar\":{\"outlinewidth\":0,\"ticks\":\"\"}},\"type\":\"scattergeo\"}],\"scattergl\":[{\"marker\":{\"colorbar\":{\"outlinewidth\":0,\"ticks\":\"\"}},\"type\":\"scattergl\"}],\"scattermapbox\":[{\"marker\":{\"colorbar\":{\"outlinewidth\":0,\"ticks\":\"\"}},\"type\":\"scattermapbox\"}],\"scatterpolargl\":[{\"marker\":{\"colorbar\":{\"outlinewidth\":0,\"ticks\":\"\"}},\"type\":\"scatterpolargl\"}],\"scatterpolar\":[{\"marker\":{\"colorbar\":{\"outlinewidth\":0,\"ticks\":\"\"}},\"type\":\"scatterpolar\"}],\"scatter\":[{\"fillpattern\":{\"fillmode\":\"overlay\",\"size\":10,\"solidity\":0.2},\"type\":\"scatter\"}],\"scatterternary\":[{\"marker\":{\"colorbar\":{\"outlinewidth\":0,\"ticks\":\"\"}},\"type\":\"scatterternary\"}],\"surface\":[{\"colorbar\":{\"outlinewidth\":0,\"ticks\":\"\"},\"colorscale\":[[0.0,\"#0d0887\"],[0.1111111111111111,\"#46039f\"],[0.2222222222222222,\"#7201a8\"],[0.3333333333333333,\"#9c179e\"],[0.4444444444444444,\"#bd3786\"],[0.5555555555555556,\"#d8576b\"],[0.6666666666666666,\"#ed7953\"],[0.7777777777777778,\"#fb9f3a\"],[0.8888888888888888,\"#fdca26\"],[1.0,\"#f0f921\"]],\"type\":\"surface\"}],\"table\":[{\"cells\":{\"fill\":{\"color\":\"#EBF0F8\"},\"line\":{\"color\":\"white\"}},\"header\":{\"fill\":{\"color\":\"#C8D4E3\"},\"line\":{\"color\":\"white\"}},\"type\":\"table\"}]},\"layout\":{\"annotationdefaults\":{\"arrowcolor\":\"#2a3f5f\",\"arrowhead\":0,\"arrowwidth\":1},\"autotypenumbers\":\"strict\",\"coloraxis\":{\"colorbar\":{\"outlinewidth\":0,\"ticks\":\"\"}},\"colorscale\":{\"diverging\":[[0,\"#8e0152\"],[0.1,\"#c51b7d\"],[0.2,\"#de77ae\"],[0.3,\"#f1b6da\"],[0.4,\"#fde0ef\"],[0.5,\"#f7f7f7\"],[0.6,\"#e6f5d0\"],[0.7,\"#b8e186\"],[0.8,\"#7fbc41\"],[0.9,\"#4d9221\"],[1,\"#276419\"]],\"sequential\":[[0.0,\"#0d0887\"],[0.1111111111111111,\"#46039f\"],[0.2222222222222222,\"#7201a8\"],[0.3333333333333333,\"#9c179e\"],[0.4444444444444444,\"#bd3786\"],[0.5555555555555556,\"#d8576b\"],[0.6666666666666666,\"#ed7953\"],[0.7777777777777778,\"#fb9f3a\"],[0.8888888888888888,\"#fdca26\"],[1.0,\"#f0f921\"]],\"sequentialminus\":[[0.0,\"#0d0887\"],[0.1111111111111111,\"#46039f\"],[0.2222222222222222,\"#7201a8\"],[0.3333333333333333,\"#9c179e\"],[0.4444444444444444,\"#bd3786\"],[0.5555555555555556,\"#d8576b\"],[0.6666666666666666,\"#ed7953\"],[0.7777777777777778,\"#fb9f3a\"],[0.8888888888888888,\"#fdca26\"],[1.0,\"#f0f921\"]]},\"colorway\":[\"#636efa\",\"#EF553B\",\"#00cc96\",\"#ab63fa\",\"#FFA15A\",\"#19d3f3\",\"#FF6692\",\"#B6E880\",\"#FF97FF\",\"#FECB52\"],\"font\":{\"color\":\"#2a3f5f\"},\"geo\":{\"bgcolor\":\"white\",\"lakecolor\":\"white\",\"landcolor\":\"white\",\"showlakes\":true,\"showland\":true,\"subunitcolor\":\"#C8D4E3\"},\"hoverlabel\":{\"align\":\"left\"},\"hovermode\":\"closest\",\"mapbox\":{\"style\":\"light\"},\"paper_bgcolor\":\"white\",\"plot_bgcolor\":\"white\",\"polar\":{\"angularaxis\":{\"gridcolor\":\"#EBF0F8\",\"linecolor\":\"#EBF0F8\",\"ticks\":\"\"},\"bgcolor\":\"white\",\"radialaxis\":{\"gridcolor\":\"#EBF0F8\",\"linecolor\":\"#EBF0F8\",\"ticks\":\"\"}},\"scene\":{\"xaxis\":{\"backgroundcolor\":\"white\",\"gridcolor\":\"#DFE8F3\",\"gridwidth\":2,\"linecolor\":\"#EBF0F8\",\"showbackground\":true,\"ticks\":\"\",\"zerolinecolor\":\"#EBF0F8\"},\"yaxis\":{\"backgroundcolor\":\"white\",\"gridcolor\":\"#DFE8F3\",\"gridwidth\":2,\"linecolor\":\"#EBF0F8\",\"showbackground\":true,\"ticks\":\"\",\"zerolinecolor\":\"#EBF0F8\"},\"zaxis\":{\"backgroundcolor\":\"white\",\"gridcolor\":\"#DFE8F3\",\"gridwidth\":2,\"linecolor\":\"#EBF0F8\",\"showbackground\":true,\"ticks\":\"\",\"zerolinecolor\":\"#EBF0F8\"}},\"shapedefaults\":{\"line\":{\"color\":\"#2a3f5f\"}},\"ternary\":{\"aaxis\":{\"gridcolor\":\"#DFE8F3\",\"linecolor\":\"#A2B1C6\",\"ticks\":\"\"},\"baxis\":{\"gridcolor\":\"#DFE8F3\",\"linecolor\":\"#A2B1C6\",\"ticks\":\"\"},\"bgcolor\":\"white\",\"caxis\":{\"gridcolor\":\"#DFE8F3\",\"linecolor\":\"#A2B1C6\",\"ticks\":\"\"}},\"title\":{\"x\":0.05},\"xaxis\":{\"automargin\":true,\"gridcolor\":\"#EBF0F8\",\"linecolor\":\"#EBF0F8\",\"ticks\":\"\",\"title\":{\"standoff\":15},\"zerolinecolor\":\"#EBF0F8\",\"zerolinewidth\":2},\"yaxis\":{\"automargin\":true,\"gridcolor\":\"#EBF0F8\",\"linecolor\":\"#EBF0F8\",\"ticks\":\"\",\"title\":{\"standoff\":15},\"zerolinecolor\":\"#EBF0F8\",\"zerolinewidth\":2}}},\"xaxis\":{\"anchor\":\"y\",\"domain\":[0.0,1.0],\"title\":{\"text\":\"Expected_Ride_Duration\"}},\"yaxis\":{\"anchor\":\"x\",\"domain\":[0.0,1.0],\"title\":{\"text\":\"adjusted_ride_cost\"}},\"legend\":{\"tracegroupgap\":0},\"title\":{\"text\":\"Expected Ride Duration vs. Cost of Ride\"}},                        {\"responsive\": true}                    ).then(function(){\n",
              "                            \n",
              "var gd = document.getElementById('852a7aa2-c628-4302-bb33-7f550baffb7f');\n",
              "var x = new MutationObserver(function (mutations, observer) {{\n",
              "        var display = window.getComputedStyle(gd).display;\n",
              "        if (!display || display === 'none') {{\n",
              "            console.log([gd, 'removed!']);\n",
              "            Plotly.purge(gd);\n",
              "            observer.disconnect();\n",
              "        }}\n",
              "}});\n",
              "\n",
              "// Listen for the removal of the full notebook cells\n",
              "var notebookContainer = gd.closest('#notebook-container');\n",
              "if (notebookContainer) {{\n",
              "    x.observe(notebookContainer, {childList: true});\n",
              "}}\n",
              "\n",
              "// Listen for the clearing of the current output cell\n",
              "var outputEl = gd.closest('.output');\n",
              "if (outputEl) {{\n",
              "    x.observe(outputEl, {childList: true});\n",
              "}}\n",
              "\n",
              "                        })                };                            </script>        </div>\n",
              "</body>\n",
              "</html>"
            ]
          },
          "metadata": {}
        }
      ]
    },
    {
      "cell_type": "markdown",
      "source": [
        "###**preprocessing and training model**\n",
        "\n",
        "identifying numeric and categorical variable"
      ],
      "metadata": {
        "id": "xNFL7e7inPcS"
      }
    },
    {
      "cell_type": "code",
      "source": [
        "def data_preprocessing_pipeline(data):\n",
        "    numeric_features = data.select_dtypes(include=['float', 'int']).columns\n",
        "    categorical_features = data.select_dtypes(include=['object']).columns\n",
        "\n",
        "    return data, numeric_features, categorical_features\n"
      ],
      "metadata": {
        "id": "am1Ix7xWm3Fv"
      },
      "execution_count": 85,
      "outputs": []
    },
    {
      "cell_type": "markdown",
      "source": [
        "**handling missing values**"
      ],
      "metadata": {
        "id": "IiMLCix-nqFH"
      }
    },
    {
      "cell_type": "code",
      "source": [
        "def handle_missing_values_numeric(data, numeric_features):\n",
        "\n",
        "    data[numeric_features] = data[numeric_features].fillna(data[numeric_features].mean())\n",
        "    return data\n",
        "\n",
        "    def handle_missing_values_categorical(data, categorical_features):\n",
        "       data[categorical_features] = data[categorical_features].fillna(data[categorical_features].mode().iloc[0])\n",
        "    return data\n"
      ],
      "metadata": {
        "id": "Xo0smujVm3Vk"
      },
      "execution_count": 86,
      "outputs": []
    },
    {
      "cell_type": "markdown",
      "source": [
        "**handling outliers using iqr method**"
      ],
      "metadata": {
        "id": "3bjTImpCnyAs"
      }
    },
    {
      "cell_type": "code",
      "source": [
        "def handle_outliers_numeric(data, numeric_features):\n",
        "\n",
        "       for feature in numeric_features:\n",
        "        Q1 = data[feature].quantile(0.25)\n",
        "        Q3 = data[feature].quantile(0.75)\n",
        "        IQR = Q3 - Q1\n",
        "        lower_bound = Q1 - (1.5 * IQR)\n",
        "        upper_bound = Q3 + (1.5 * IQR)\n",
        "        data[feature] = np.where((data[feature] < lower_bound) | (data[feature] > upper_bound),\n",
        "                                 data[feature].mean(), data[feature])\n",
        "    return data\n"
      ],
      "metadata": {
        "id": "RSJEPmv0m3m6"
      },
      "execution_count": 87,
      "outputs": []
    },
    {
      "cell_type": "markdown",
      "source": [
        "**mapping vehicle function**\n",
        "\n",
        "Maps the categorical variable Vehicle_Type to numeric values, where \"Premium\" is mapped to 1 and \"Economy\" is mapped to 0."
      ],
      "metadata": {
        "id": "omZimf5pobDk"
      }
    },
    {
      "cell_type": "code",
      "source": [
        "data[\"Vehicle_Type\"] = data[\"Vehicle_Type\"].map({\"Premium\": 1, \"Economy\": 0})\n"
      ],
      "metadata": {
        "id": "y2Y6TPzlY3Nf"
      },
      "execution_count": 73,
      "outputs": []
    },
    {
      "cell_type": "markdown",
      "source": [
        "**splitting data and model training**"
      ],
      "metadata": {
        "id": "ErqA3pzdokvQ"
      }
    },
    {
      "cell_type": "code",
      "source": [
        "from sklearn.model_selection import train_test_split\n",
        "from sklearn.ensemble import RandomForestRegressor\n",
        "\n",
        "x = data[[\"Number_of_Riders\", \"Number_of_Drivers\", \"Vehicle_Type\", \"Expected_Ride_Duration\"]].values\n",
        "y = data[\"adjusted_ride_cost\"].values\n",
        "\n",
        "x_train, x_test, y_train, y_test = train_test_split(x, y, test_size=0.2, random_state=42)\n",
        "\n",
        "y_train = y_train.ravel()\n",
        "y_test = y_test.ravel()\n",
        "\n",
        "model = RandomForestRegressor()\n",
        "model.fit(x_train, y_train)\n"
      ],
      "metadata": {
        "colab": {
          "base_uri": "https://localhost:8080/",
          "height": 75
        },
        "id": "y8eLCdCLY3PA",
        "outputId": "93da959f-feed-433f-8ac6-7cca70bf2915"
      },
      "execution_count": 74,
      "outputs": [
        {
          "output_type": "execute_result",
          "data": {
            "text/plain": [
              "RandomForestRegressor()"
            ],
            "text/html": [
              "<style>#sk-container-id-1 {color: black;background-color: white;}#sk-container-id-1 pre{padding: 0;}#sk-container-id-1 div.sk-toggleable {background-color: white;}#sk-container-id-1 label.sk-toggleable__label {cursor: pointer;display: block;width: 100%;margin-bottom: 0;padding: 0.3em;box-sizing: border-box;text-align: center;}#sk-container-id-1 label.sk-toggleable__label-arrow:before {content: \"▸\";float: left;margin-right: 0.25em;color: #696969;}#sk-container-id-1 label.sk-toggleable__label-arrow:hover:before {color: black;}#sk-container-id-1 div.sk-estimator:hover label.sk-toggleable__label-arrow:before {color: black;}#sk-container-id-1 div.sk-toggleable__content {max-height: 0;max-width: 0;overflow: hidden;text-align: left;background-color: #f0f8ff;}#sk-container-id-1 div.sk-toggleable__content pre {margin: 0.2em;color: black;border-radius: 0.25em;background-color: #f0f8ff;}#sk-container-id-1 input.sk-toggleable__control:checked~div.sk-toggleable__content {max-height: 200px;max-width: 100%;overflow: auto;}#sk-container-id-1 input.sk-toggleable__control:checked~label.sk-toggleable__label-arrow:before {content: \"▾\";}#sk-container-id-1 div.sk-estimator input.sk-toggleable__control:checked~label.sk-toggleable__label {background-color: #d4ebff;}#sk-container-id-1 div.sk-label input.sk-toggleable__control:checked~label.sk-toggleable__label {background-color: #d4ebff;}#sk-container-id-1 input.sk-hidden--visually {border: 0;clip: rect(1px 1px 1px 1px);clip: rect(1px, 1px, 1px, 1px);height: 1px;margin: -1px;overflow: hidden;padding: 0;position: absolute;width: 1px;}#sk-container-id-1 div.sk-estimator {font-family: monospace;background-color: #f0f8ff;border: 1px dotted black;border-radius: 0.25em;box-sizing: border-box;margin-bottom: 0.5em;}#sk-container-id-1 div.sk-estimator:hover {background-color: #d4ebff;}#sk-container-id-1 div.sk-parallel-item::after {content: \"\";width: 100%;border-bottom: 1px solid gray;flex-grow: 1;}#sk-container-id-1 div.sk-label:hover label.sk-toggleable__label {background-color: #d4ebff;}#sk-container-id-1 div.sk-serial::before {content: \"\";position: absolute;border-left: 1px solid gray;box-sizing: border-box;top: 0;bottom: 0;left: 50%;z-index: 0;}#sk-container-id-1 div.sk-serial {display: flex;flex-direction: column;align-items: center;background-color: white;padding-right: 0.2em;padding-left: 0.2em;position: relative;}#sk-container-id-1 div.sk-item {position: relative;z-index: 1;}#sk-container-id-1 div.sk-parallel {display: flex;align-items: stretch;justify-content: center;background-color: white;position: relative;}#sk-container-id-1 div.sk-item::before, #sk-container-id-1 div.sk-parallel-item::before {content: \"\";position: absolute;border-left: 1px solid gray;box-sizing: border-box;top: 0;bottom: 0;left: 50%;z-index: -1;}#sk-container-id-1 div.sk-parallel-item {display: flex;flex-direction: column;z-index: 1;position: relative;background-color: white;}#sk-container-id-1 div.sk-parallel-item:first-child::after {align-self: flex-end;width: 50%;}#sk-container-id-1 div.sk-parallel-item:last-child::after {align-self: flex-start;width: 50%;}#sk-container-id-1 div.sk-parallel-item:only-child::after {width: 0;}#sk-container-id-1 div.sk-dashed-wrapped {border: 1px dashed gray;margin: 0 0.4em 0.5em 0.4em;box-sizing: border-box;padding-bottom: 0.4em;background-color: white;}#sk-container-id-1 div.sk-label label {font-family: monospace;font-weight: bold;display: inline-block;line-height: 1.2em;}#sk-container-id-1 div.sk-label-container {text-align: center;}#sk-container-id-1 div.sk-container {/* jupyter's `normalize.less` sets `[hidden] { display: none; }` but bootstrap.min.css set `[hidden] { display: none !important; }` so we also need the `!important` here to be able to override the default hidden behavior on the sphinx rendered scikit-learn.org. See: https://github.com/scikit-learn/scikit-learn/issues/21755 */display: inline-block !important;position: relative;}#sk-container-id-1 div.sk-text-repr-fallback {display: none;}</style><div id=\"sk-container-id-1\" class=\"sk-top-container\"><div class=\"sk-text-repr-fallback\"><pre>RandomForestRegressor()</pre><b>In a Jupyter environment, please rerun this cell to show the HTML representation or trust the notebook. <br />On GitHub, the HTML representation is unable to render, please try loading this page with nbviewer.org.</b></div><div class=\"sk-container\" hidden><div class=\"sk-item\"><div class=\"sk-estimator sk-toggleable\"><input class=\"sk-toggleable__control sk-hidden--visually\" id=\"sk-estimator-id-1\" type=\"checkbox\" checked><label for=\"sk-estimator-id-1\" class=\"sk-toggleable__label sk-toggleable__label-arrow\">RandomForestRegressor</label><div class=\"sk-toggleable__content\"><pre>RandomForestRegressor()</pre></div></div></div></div></div>"
            ]
          },
          "metadata": {},
          "execution_count": 74
        }
      ]
    },
    {
      "cell_type": "code",
      "source": [
        "\n",
        "def get_vehicle_type_numeric(vehicle_type):\n",
        "    vehicle_type_mapping = {\n",
        "        \"Premium\": 1,\n",
        "        \"Economy\": 0\n",
        "    }\n",
        "    vehicle_type_numeric = vehicle_type_mapping.get(vehicle_type)\n",
        "    if vehicle_type_numeric is None:\n",
        "        raise ValueError(\"Invalid vehicle type\")\n",
        "    return vehicle_type_numeric\n",
        "\n",
        "def predict_price(number_of_riders, number_of_drivers, vehicle_type, Expected_Ride_Duration):\n",
        "\n",
        "    vehicle_type_numeric = get_vehicle_type_numeric(vehicle_type)\n",
        "\n",
        "\n",
        "    input_data = np.array([[number_of_riders, number_of_drivers, vehicle_type_numeric, Expected_Ride_Duration]])\n",
        "\n",
        "\n",
        "    predicted_price = model.predict(input_data)\n",
        "    return predicted_price\n",
        "\n",
        "user_number_of_riders = 50\n",
        "user_number_of_drivers = 25\n",
        "user_vehicle_type = \"Economy\"\n",
        "user_expected_ride_duration = 30\n",
        "\n",
        "predicted_price = predict_price(user_number_of_riders, user_number_of_drivers, user_vehicle_type, user_expected_ride_duration)\n",
        "print(\"Predicted price:\", predicted_price)\n"
      ],
      "metadata": {
        "colab": {
          "base_uri": "https://localhost:8080/"
        },
        "id": "87HoYTtqZWGc",
        "outputId": "7c638c72-5fa3-4a75-9a11-6993d64a2068"
      },
      "execution_count": 75,
      "outputs": [
        {
          "output_type": "stream",
          "name": "stdout",
          "text": [
            "Predicted price: [265.07339438]\n"
          ]
        }
      ]
    },
    {
      "cell_type": "code",
      "source": [
        "from sklearn.metrics import mean_absolute_error, mean_squared_error, r2_score\n",
        "\n",
        "y_pred = model.predict(x_test)\n",
        "\n",
        "mae = mean_absolute_error(y_test, y_pred)\n",
        "mse = mean_squared_error(y_test, y_pred)\n",
        "r2 = r2_score(y_test, y_pred)\n",
        "\n",
        "print(\"Mean Absolute Error (MAE):\", mae)\n",
        "print(\"Mean Squared Error (MSE):\", mse)\n",
        "print(\"R-squared (R2) Score:\", r2)\n"
      ],
      "metadata": {
        "colab": {
          "base_uri": "https://localhost:8080/"
        },
        "id": "vAv-8z3JZiV6",
        "outputId": "7d58506d-c11d-4f89-e6b4-fc87cdf756ff"
      },
      "execution_count": 76,
      "outputs": [
        {
          "output_type": "stream",
          "name": "stdout",
          "text": [
            "Mean Absolute Error (MAE): 122.04917910443898\n",
            "Mean Squared Error (MSE): 30542.414676065688\n",
            "R-squared (R2) Score: 0.8666709242957986\n"
          ]
        }
      ]
    },
    {
      "cell_type": "code",
      "source": [
        "y_pred = model.predict(x_test)\n",
        "\n",
        "fig = go.Figure()\n",
        "\n",
        "fig.add_trace(go.Scatter(\n",
        "    x=y_test.flatten(),\n",
        "    y=y_pred,\n",
        "    mode='markers',\n",
        "    name='Actual vs Predicted'\n",
        "))\n",
        "\n",
        "fig.add_trace(go.Scatter(\n",
        "    x=[min(y_test.flatten()), max(y_test.flatten())],\n",
        "    y=[min(y_test.flatten()), max(y_test.flatten())],\n",
        "    mode='lines',\n",
        "    name='Ideal',\n",
        "    line=dict(color='red', dash='dash')\n",
        "))\n",
        "\n",
        "fig.update_layout(\n",
        "    title='Actual vs Predicted Values',\n",
        "    xaxis_title='Actual Values',\n",
        "    yaxis_title='Predicted Values',\n",
        "    showlegend=True,\n",
        ")\n",
        "\n",
        "fig.show()"
      ],
      "metadata": {
        "colab": {
          "base_uri": "https://localhost:8080/",
          "height": 542
        },
        "id": "V-3-cn_vqRAX",
        "outputId": "e8e1e7cc-e776-4a62-8f47-38a3efe656eb"
      },
      "execution_count": 89,
      "outputs": [
        {
          "output_type": "display_data",
          "data": {
            "text/html": [
              "<html>\n",
              "<head><meta charset=\"utf-8\" /></head>\n",
              "<body>\n",
              "    <div>            <script src=\"https://cdnjs.cloudflare.com/ajax/libs/mathjax/2.7.5/MathJax.js?config=TeX-AMS-MML_SVG\"></script><script type=\"text/javascript\">if (window.MathJax && window.MathJax.Hub && window.MathJax.Hub.Config) {window.MathJax.Hub.Config({SVG: {font: \"STIX-Web\"}});}</script>                <script type=\"text/javascript\">window.PlotlyConfig = {MathJaxConfig: 'local'};</script>\n",
              "        <script charset=\"utf-8\" src=\"https://cdn.plot.ly/plotly-2.24.1.min.js\"></script>                <div id=\"ab0917d1-9ae6-486f-9284-ec0af1edffcc\" class=\"plotly-graph-div\" style=\"height:525px; width:100%;\"></div>            <script type=\"text/javascript\">                                    window.PLOTLYENV=window.PLOTLYENV || {};                                    if (document.getElementById(\"ab0917d1-9ae6-486f-9284-ec0af1edffcc\")) {                    Plotly.newPlot(                        \"ab0917d1-9ae6-486f-9284-ec0af1edffcc\",                        [{\"mode\":\"markers\",\"name\":\"Actual vs Predicted\",\"x\":[614.288912211575,619.5712719421487,694.2814996808976,626.1006674490017,338.8251924747954,1008.681569843489,255.03496254417124,162.86885815137614,698.2195780748161,224.76942612862038,645.2204741255908,305.9820599348604,53.74327220728414,1629.4190108154107,287.49590469717,729.4368697135036,886.8664638724589,456.59491663263407,302.6887466045764,980.6766230838559,1032.9959627344213,80.81411700027053,251.87576825533526,563.6804310854117,604.2407113472003,936.9204809157162,194.1191127746037,978.5994111215849,425.18624190747926,882.7521058916373,326.70335246906865,239.3902046891728,610.1560032102365,234.53766777673306,1275.101691524247,320.81123118097145,388.10050617825055,231.45519848457957,402.68097478158546,197.739650120686,988.8216130263982,1603.6423881210865,1087.7333100321705,1267.1421645758649,1152.1312399910862,478.5559800108727,890.7887956827417,1576.0278829114404,381.85215118237585,1627.4698265044085,974.2152722945849,455.59167702975486,850.012111745254,551.2381435345196,537.4885299335115,359.7081117943463,328.84015867026363,1588.4298556938925,1677.4102458748239,630.0223688711988,961.7745085170942,1048.5335744440677,655.7098846418044,814.1434262699445,1362.5033016643506,408.3621678357011,415.25710035208516,289.6137516903042,868.7971285946797,200.60572418730754,541.9713979967344,287.8699563445968,534.2370389885843,1188.4840897569661,364.749074636435,511.40982488215275,327.51910669378384,2589.3108788505524,1467.1269198237885,1074.037818618396,615.7306566898939,818.9471855560543,2783.6811375735433,173.34355137114665,593.230091367615,558.1451943449424,520.4605807220448,52.75247009136792,939.2587430428053,989.8988457611639,682.1763357039314,159.7662410865569,583.8091980919631,1077.5190382073047,464.68041315379577,1128.216701883742,1297.7348874505192,523.8022066426988,393.5496800050219,1190.1295913638617,356.1438919367487,420.1689021737655,361.16983283428436,506.92705828194045,839.6445463868426,483.08999348865666,741.5776878423202,494.70521414300595,755.0415928216725,158.17431074893037,551.3934733911599,325.4160129798869,1558.41783767507,232.52613102851748,40.99340425482605,73.815119640662,319.7494654795033,370.11488315746317,1487.2543053109744,168.01475871025698,803.0738771911136,357.3580663321614,277.4920173466365,242.03504154690663,1050.9213345108287,186.73590074103828,604.739497065753,584.3820409570446,753.4639845427931,182.13274380620683,691.6916123858213,780.9145039518611,1681.8363092459815,124.5678973606918,891.835620475924,560.440488884175,565.1938387126878,308.47313565290716,1663.7583766492608,853.0824164749882,799.2908940827497,32.354312522312306,930.0211411163025,1893.4259284592706,797.9888463433637,1073.6182196185569,873.352468251193,484.4484700942458,448.9427469990342,394.40755467930296,715.674987640115,2125.8740955176313,309.6726242107452,248.12369302054427,447.56488006279307,115.22721106530331,865.8403406114085,1511.6299533008407,341.0241029783227,37.77099218671988,941.8882124313494,1449.025020433162,1142.3435058739894,642.3294933457973,135.15247471472526,1475.1222582618138,757.1435270271558,1051.117783334278,1558.5236268093047,873.8011303443627,450.77447417262493,567.5318300844349,579.2402319134828,427.95290843121495,204.20807438797758,420.04141416305896,622.0378047324193,324.873747203077,84.02224207338016,333.22868671631346,1254.9802256182686,191.12530561187828,345.90279857202637,1629.1678959700464,996.2844378705316,601.4079342960596,228.9355531701539,188.1097994806941,1157.5457144081424,120.820662212846,153.41580003475815,869.8300131348389,1205.5081510660357,789.2254052469862,906.4014526534187,1015.4711949160716,407.1660314055159,862.1180434539936,729.767726256892,230.40221426981705],\"y\":[500.8168562709049,812.0204164087755,898.7398674656123,708.9506595707591,235.93996019655438,1107.6240909396506,310.58199298727067,210.0471508306208,503.78469226778066,202.76008562329133,641.3916768407184,443.9750752725775,105.15225523511295,1576.06398261241,375.12633516701476,809.791501585512,1132.3954598452426,421.82875653278336,422.72550131295503,708.6772628375194,925.2747158662085,125.89463446790661,247.819150615783,602.0928773644246,591.4059665396732,1388.4677240475257,229.2895778270865,924.4538012151475,469.4887413701443,1128.867845010969,583.2978997937228,186.2091687236716,705.029197269326,321.34226089724194,1111.3630365456013,566.9114777751278,410.82102649095964,254.10489101620587,388.67156280771167,286.95579061978225,1013.8093182452784,1340.7394716254341,956.8892219836821,1497.636480328066,1367.8920868163789,508.0827883406899,777.822000751897,1614.5697780803823,499.7450084376494,1233.4443994125113,1126.8021846042104,410.5317917863311,926.5730667991911,520.6855716184767,449.0569340801354,410.6492973792515,342.0508463872814,1465.6319608081985,1346.0599941722476,607.4672751408993,1194.706844174411,869.3641609798484,852.6554896870855,958.5402008470443,1797.9153360061457,582.4561374667156,391.06498415230124,320.5211824949848,773.8472638801223,242.94980469078018,473.75455870208685,151.5983440180687,782.2229049605064,1350.3902153350493,324.9069032706435,531.1372457177,293.99597249990256,2213.9189860216156,1476.6073880916585,949.3091334480807,822.5790112437733,691.6003928407991,2311.429356447689,161.56788770172122,690.3229731228557,804.6546831642339,445.32186646330905,76.69017424911404,803.3601676531955,1185.1435677525324,886.9376550443158,213.94563803904154,510.82009811240687,1277.2036860533574,458.37922024604217,1356.0504505092715,793.5884210284206,397.2218732837731,674.05846605589,1100.7163952766907,299.1738176736312,454.6950452777004,312.3296245141366,555.5573429588152,871.6927739130125,599.087530931742,810.4433312694533,636.7552660427712,743.432821623741,203.2512030334664,508.4788726947918,442.54974679280485,1574.995144069948,211.80891275764083,59.30532053726502,87.0538166866631,281.96716746124997,529.7099403308935,1441.3132994626142,309.92226624633304,566.2314915215908,491.71079970502257,345.83317819528185,290.96589460716217,1262.081959995661,182.26526292112615,662.3805960769454,679.4128445512666,555.6738201958921,277.0878761260584,915.5854988542774,718.8590053535888,1658.0124165032234,175.4825871247645,720.2558178036087,627.3181784384069,674.6393251753569,292.8744254014928,2467.657223030185,819.5753080257967,885.0102887932087,59.48305537751352,922.7961690540553,1149.6149085981097,794.9827628331759,903.1175089612057,1153.1669636653082,428.9628156714558,487.5537797861168,442.63157183970753,578.1875001502826,1718.6036878425598,354.21000671412713,363.2291666710877,424.3890048188201,200.65269578582343,698.3348681130124,1175.2459275191843,510.21937540457293,41.28834966387146,1155.9260391903024,1059.674966560429,1336.2939450953695,746.5225190481023,160.4382581216725,1344.3514935972,871.8607881380422,909.0789022971358,1136.2202777532118,983.2524026749181,452.0458899466523,689.9792868918205,632.6626828493718,918.1954259660888,311.6598627408603,347.5917494181683,599.4949200177123,275.7400243432691,99.54966300548567,414.99831324677984,1165.178650241667,215.98265819714072,426.78851711618705,1582.9828862835566,1026.3529119252742,877.0262088358286,248.3322984301324,153.75375165872575,1273.5143455613172,190.20841319469943,154.84201498863712,926.4818103944135,1136.4966843382615,750.3784881896771,1099.612592350469,1362.2553567150662,402.62261664033934,808.4082050666694,876.1001410650966,288.60715501290923],\"type\":\"scatter\"},{\"line\":{\"color\":\"red\",\"dash\":\"dash\"},\"mode\":\"lines\",\"name\":\"Ideal\",\"x\":[32.354312522312306,2783.6811375735433],\"y\":[32.354312522312306,2783.6811375735433],\"type\":\"scatter\"}],                        {\"template\":{\"data\":{\"histogram2dcontour\":[{\"type\":\"histogram2dcontour\",\"colorbar\":{\"outlinewidth\":0,\"ticks\":\"\"},\"colorscale\":[[0.0,\"#0d0887\"],[0.1111111111111111,\"#46039f\"],[0.2222222222222222,\"#7201a8\"],[0.3333333333333333,\"#9c179e\"],[0.4444444444444444,\"#bd3786\"],[0.5555555555555556,\"#d8576b\"],[0.6666666666666666,\"#ed7953\"],[0.7777777777777778,\"#fb9f3a\"],[0.8888888888888888,\"#fdca26\"],[1.0,\"#f0f921\"]]}],\"choropleth\":[{\"type\":\"choropleth\",\"colorbar\":{\"outlinewidth\":0,\"ticks\":\"\"}}],\"histogram2d\":[{\"type\":\"histogram2d\",\"colorbar\":{\"outlinewidth\":0,\"ticks\":\"\"},\"colorscale\":[[0.0,\"#0d0887\"],[0.1111111111111111,\"#46039f\"],[0.2222222222222222,\"#7201a8\"],[0.3333333333333333,\"#9c179e\"],[0.4444444444444444,\"#bd3786\"],[0.5555555555555556,\"#d8576b\"],[0.6666666666666666,\"#ed7953\"],[0.7777777777777778,\"#fb9f3a\"],[0.8888888888888888,\"#fdca26\"],[1.0,\"#f0f921\"]]}],\"heatmap\":[{\"type\":\"heatmap\",\"colorbar\":{\"outlinewidth\":0,\"ticks\":\"\"},\"colorscale\":[[0.0,\"#0d0887\"],[0.1111111111111111,\"#46039f\"],[0.2222222222222222,\"#7201a8\"],[0.3333333333333333,\"#9c179e\"],[0.4444444444444444,\"#bd3786\"],[0.5555555555555556,\"#d8576b\"],[0.6666666666666666,\"#ed7953\"],[0.7777777777777778,\"#fb9f3a\"],[0.8888888888888888,\"#fdca26\"],[1.0,\"#f0f921\"]]}],\"heatmapgl\":[{\"type\":\"heatmapgl\",\"colorbar\":{\"outlinewidth\":0,\"ticks\":\"\"},\"colorscale\":[[0.0,\"#0d0887\"],[0.1111111111111111,\"#46039f\"],[0.2222222222222222,\"#7201a8\"],[0.3333333333333333,\"#9c179e\"],[0.4444444444444444,\"#bd3786\"],[0.5555555555555556,\"#d8576b\"],[0.6666666666666666,\"#ed7953\"],[0.7777777777777778,\"#fb9f3a\"],[0.8888888888888888,\"#fdca26\"],[1.0,\"#f0f921\"]]}],\"contourcarpet\":[{\"type\":\"contourcarpet\",\"colorbar\":{\"outlinewidth\":0,\"ticks\":\"\"}}],\"contour\":[{\"type\":\"contour\",\"colorbar\":{\"outlinewidth\":0,\"ticks\":\"\"},\"colorscale\":[[0.0,\"#0d0887\"],[0.1111111111111111,\"#46039f\"],[0.2222222222222222,\"#7201a8\"],[0.3333333333333333,\"#9c179e\"],[0.4444444444444444,\"#bd3786\"],[0.5555555555555556,\"#d8576b\"],[0.6666666666666666,\"#ed7953\"],[0.7777777777777778,\"#fb9f3a\"],[0.8888888888888888,\"#fdca26\"],[1.0,\"#f0f921\"]]}],\"surface\":[{\"type\":\"surface\",\"colorbar\":{\"outlinewidth\":0,\"ticks\":\"\"},\"colorscale\":[[0.0,\"#0d0887\"],[0.1111111111111111,\"#46039f\"],[0.2222222222222222,\"#7201a8\"],[0.3333333333333333,\"#9c179e\"],[0.4444444444444444,\"#bd3786\"],[0.5555555555555556,\"#d8576b\"],[0.6666666666666666,\"#ed7953\"],[0.7777777777777778,\"#fb9f3a\"],[0.8888888888888888,\"#fdca26\"],[1.0,\"#f0f921\"]]}],\"mesh3d\":[{\"type\":\"mesh3d\",\"colorbar\":{\"outlinewidth\":0,\"ticks\":\"\"}}],\"scatter\":[{\"fillpattern\":{\"fillmode\":\"overlay\",\"size\":10,\"solidity\":0.2},\"type\":\"scatter\"}],\"parcoords\":[{\"type\":\"parcoords\",\"line\":{\"colorbar\":{\"outlinewidth\":0,\"ticks\":\"\"}}}],\"scatterpolargl\":[{\"type\":\"scatterpolargl\",\"marker\":{\"colorbar\":{\"outlinewidth\":0,\"ticks\":\"\"}}}],\"bar\":[{\"error_x\":{\"color\":\"#2a3f5f\"},\"error_y\":{\"color\":\"#2a3f5f\"},\"marker\":{\"line\":{\"color\":\"#E5ECF6\",\"width\":0.5},\"pattern\":{\"fillmode\":\"overlay\",\"size\":10,\"solidity\":0.2}},\"type\":\"bar\"}],\"scattergeo\":[{\"type\":\"scattergeo\",\"marker\":{\"colorbar\":{\"outlinewidth\":0,\"ticks\":\"\"}}}],\"scatterpolar\":[{\"type\":\"scatterpolar\",\"marker\":{\"colorbar\":{\"outlinewidth\":0,\"ticks\":\"\"}}}],\"histogram\":[{\"marker\":{\"pattern\":{\"fillmode\":\"overlay\",\"size\":10,\"solidity\":0.2}},\"type\":\"histogram\"}],\"scattergl\":[{\"type\":\"scattergl\",\"marker\":{\"colorbar\":{\"outlinewidth\":0,\"ticks\":\"\"}}}],\"scatter3d\":[{\"type\":\"scatter3d\",\"line\":{\"colorbar\":{\"outlinewidth\":0,\"ticks\":\"\"}},\"marker\":{\"colorbar\":{\"outlinewidth\":0,\"ticks\":\"\"}}}],\"scattermapbox\":[{\"type\":\"scattermapbox\",\"marker\":{\"colorbar\":{\"outlinewidth\":0,\"ticks\":\"\"}}}],\"scatterternary\":[{\"type\":\"scatterternary\",\"marker\":{\"colorbar\":{\"outlinewidth\":0,\"ticks\":\"\"}}}],\"scattercarpet\":[{\"type\":\"scattercarpet\",\"marker\":{\"colorbar\":{\"outlinewidth\":0,\"ticks\":\"\"}}}],\"carpet\":[{\"aaxis\":{\"endlinecolor\":\"#2a3f5f\",\"gridcolor\":\"white\",\"linecolor\":\"white\",\"minorgridcolor\":\"white\",\"startlinecolor\":\"#2a3f5f\"},\"baxis\":{\"endlinecolor\":\"#2a3f5f\",\"gridcolor\":\"white\",\"linecolor\":\"white\",\"minorgridcolor\":\"white\",\"startlinecolor\":\"#2a3f5f\"},\"type\":\"carpet\"}],\"table\":[{\"cells\":{\"fill\":{\"color\":\"#EBF0F8\"},\"line\":{\"color\":\"white\"}},\"header\":{\"fill\":{\"color\":\"#C8D4E3\"},\"line\":{\"color\":\"white\"}},\"type\":\"table\"}],\"barpolar\":[{\"marker\":{\"line\":{\"color\":\"#E5ECF6\",\"width\":0.5},\"pattern\":{\"fillmode\":\"overlay\",\"size\":10,\"solidity\":0.2}},\"type\":\"barpolar\"}],\"pie\":[{\"automargin\":true,\"type\":\"pie\"}]},\"layout\":{\"autotypenumbers\":\"strict\",\"colorway\":[\"#636efa\",\"#EF553B\",\"#00cc96\",\"#ab63fa\",\"#FFA15A\",\"#19d3f3\",\"#FF6692\",\"#B6E880\",\"#FF97FF\",\"#FECB52\"],\"font\":{\"color\":\"#2a3f5f\"},\"hovermode\":\"closest\",\"hoverlabel\":{\"align\":\"left\"},\"paper_bgcolor\":\"white\",\"plot_bgcolor\":\"#E5ECF6\",\"polar\":{\"bgcolor\":\"#E5ECF6\",\"angularaxis\":{\"gridcolor\":\"white\",\"linecolor\":\"white\",\"ticks\":\"\"},\"radialaxis\":{\"gridcolor\":\"white\",\"linecolor\":\"white\",\"ticks\":\"\"}},\"ternary\":{\"bgcolor\":\"#E5ECF6\",\"aaxis\":{\"gridcolor\":\"white\",\"linecolor\":\"white\",\"ticks\":\"\"},\"baxis\":{\"gridcolor\":\"white\",\"linecolor\":\"white\",\"ticks\":\"\"},\"caxis\":{\"gridcolor\":\"white\",\"linecolor\":\"white\",\"ticks\":\"\"}},\"coloraxis\":{\"colorbar\":{\"outlinewidth\":0,\"ticks\":\"\"}},\"colorscale\":{\"sequential\":[[0.0,\"#0d0887\"],[0.1111111111111111,\"#46039f\"],[0.2222222222222222,\"#7201a8\"],[0.3333333333333333,\"#9c179e\"],[0.4444444444444444,\"#bd3786\"],[0.5555555555555556,\"#d8576b\"],[0.6666666666666666,\"#ed7953\"],[0.7777777777777778,\"#fb9f3a\"],[0.8888888888888888,\"#fdca26\"],[1.0,\"#f0f921\"]],\"sequentialminus\":[[0.0,\"#0d0887\"],[0.1111111111111111,\"#46039f\"],[0.2222222222222222,\"#7201a8\"],[0.3333333333333333,\"#9c179e\"],[0.4444444444444444,\"#bd3786\"],[0.5555555555555556,\"#d8576b\"],[0.6666666666666666,\"#ed7953\"],[0.7777777777777778,\"#fb9f3a\"],[0.8888888888888888,\"#fdca26\"],[1.0,\"#f0f921\"]],\"diverging\":[[0,\"#8e0152\"],[0.1,\"#c51b7d\"],[0.2,\"#de77ae\"],[0.3,\"#f1b6da\"],[0.4,\"#fde0ef\"],[0.5,\"#f7f7f7\"],[0.6,\"#e6f5d0\"],[0.7,\"#b8e186\"],[0.8,\"#7fbc41\"],[0.9,\"#4d9221\"],[1,\"#276419\"]]},\"xaxis\":{\"gridcolor\":\"white\",\"linecolor\":\"white\",\"ticks\":\"\",\"title\":{\"standoff\":15},\"zerolinecolor\":\"white\",\"automargin\":true,\"zerolinewidth\":2},\"yaxis\":{\"gridcolor\":\"white\",\"linecolor\":\"white\",\"ticks\":\"\",\"title\":{\"standoff\":15},\"zerolinecolor\":\"white\",\"automargin\":true,\"zerolinewidth\":2},\"scene\":{\"xaxis\":{\"backgroundcolor\":\"#E5ECF6\",\"gridcolor\":\"white\",\"linecolor\":\"white\",\"showbackground\":true,\"ticks\":\"\",\"zerolinecolor\":\"white\",\"gridwidth\":2},\"yaxis\":{\"backgroundcolor\":\"#E5ECF6\",\"gridcolor\":\"white\",\"linecolor\":\"white\",\"showbackground\":true,\"ticks\":\"\",\"zerolinecolor\":\"white\",\"gridwidth\":2},\"zaxis\":{\"backgroundcolor\":\"#E5ECF6\",\"gridcolor\":\"white\",\"linecolor\":\"white\",\"showbackground\":true,\"ticks\":\"\",\"zerolinecolor\":\"white\",\"gridwidth\":2}},\"shapedefaults\":{\"line\":{\"color\":\"#2a3f5f\"}},\"annotationdefaults\":{\"arrowcolor\":\"#2a3f5f\",\"arrowhead\":0,\"arrowwidth\":1},\"geo\":{\"bgcolor\":\"white\",\"landcolor\":\"#E5ECF6\",\"subunitcolor\":\"white\",\"showland\":true,\"showlakes\":true,\"lakecolor\":\"white\"},\"title\":{\"x\":0.05},\"mapbox\":{\"style\":\"light\"}}},\"title\":{\"text\":\"Actual vs Predicted Values\"},\"xaxis\":{\"title\":{\"text\":\"Actual Values\"}},\"yaxis\":{\"title\":{\"text\":\"Predicted Values\"}},\"showlegend\":true},                        {\"responsive\": true}                    ).then(function(){\n",
              "                            \n",
              "var gd = document.getElementById('ab0917d1-9ae6-486f-9284-ec0af1edffcc');\n",
              "var x = new MutationObserver(function (mutations, observer) {{\n",
              "        var display = window.getComputedStyle(gd).display;\n",
              "        if (!display || display === 'none') {{\n",
              "            console.log([gd, 'removed!']);\n",
              "            Plotly.purge(gd);\n",
              "            observer.disconnect();\n",
              "        }}\n",
              "}});\n",
              "\n",
              "// Listen for the removal of the full notebook cells\n",
              "var notebookContainer = gd.closest('#notebook-container');\n",
              "if (notebookContainer) {{\n",
              "    x.observe(notebookContainer, {childList: true});\n",
              "}}\n",
              "\n",
              "// Listen for the clearing of the current output cell\n",
              "var outputEl = gd.closest('.output');\n",
              "if (outputEl) {{\n",
              "    x.observe(outputEl, {childList: true});\n",
              "}}\n",
              "\n",
              "                        })                };                            </script>        </div>\n",
              "</body>\n",
              "</html>"
            ]
          },
          "metadata": {}
        }
      ]
    },
    {
      "cell_type": "markdown",
      "source": [
        "\n",
        "\n",
        "---\n",
        "\n"
      ],
      "metadata": {
        "id": "QstzU2U9riCF"
      }
    },
    {
      "cell_type": "markdown",
      "source": [
        "###**Conclusion and Summary:**\n",
        "used regression model: Random Forest Regression.\n",
        "\n",
        "The Random Forest Regression model outperformed terms of accuracy metrics such as Mean Absolute Error (MAE), Mean Squared Error (MSE), and R-squared (R2) score.\n",
        "\n",
        "The Random Forest model demonstrated better predictive capabilities, capturing complex relationships and interactions in the data.\n",
        "\n",
        "Therefore, we recommend using the Random Forest Regression model for predicting ride fares in the ride-sharing platform, as it provides more accurate and reliable predictions.\n",
        "\n",
        "This predictive model can help optimize pricing strategies, improve revenue, and enhance customer satisfaction in the ride-sharing service.\n",
        "\n",
        "\n",
        "\n"
      ],
      "metadata": {
        "id": "7sKkQQMKrHRc"
      }
    }
  ]
}